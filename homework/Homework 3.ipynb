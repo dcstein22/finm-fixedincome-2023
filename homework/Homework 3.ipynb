{
 "cells": [
  {
   "cell_type": "markdown",
   "id": "3e013a68",
   "metadata": {},
   "source": [
    "# Homework 3\n",
    "\n",
    "## FINM 37400 - 2023\n",
    "\n",
    "### UChicago Financial Mathematics\n",
    "\n",
    "* Mark Hendricks\n",
    "* hendricks@uchicago.edu"
   ]
  },
  {
   "cell_type": "markdown",
   "id": "ad9a8968",
   "metadata": {},
   "source": [
    "# 1 HBS Case: Fixed-Income Arbitrage in a Financial Crisis (C): Spread and Swap Spread in November 2008"
   ]
  },
  {
   "attachments": {},
   "cell_type": "markdown",
   "id": "c4f31467",
   "metadata": {},
   "source": [
    "## Simplification of the setup\n",
    "\n",
    "The date is Nov 4, 2008.\n",
    "\n",
    "**Treasury bond**\n",
    "* Suppose the Treasury bond matures exactly 30 years later, on Nov 4, 2038 rather than May 15, 2008. \n",
    "* The YTM of this freshly issued treasury is 4.193\\% with a semiannual coupon of 4.50\\%, same as is given in the case. (So we're just changing the maturity date to simplify things, but keeping the market data.)\n",
    "\n",
    "**Swap**\n",
    "* The fixed leg of the swap pays semiannually, with swap rate of 4.2560\\%, as given in the case.\n",
    "* The floating leg of the swap also pays semiannually--not quarterly--such that the payment dates are identical on both legs. Thus, it also resets the floating rate semiannually, not quarterly.\n",
    "* The floating rate of the swap equals the repo rate used in the trade. Thus, these two rates cancel in the financing of the trade. (No need to consider the TED spread.) "
   ]
  },
  {
   "cell_type": "code",
   "execution_count": 2,
   "id": "677b5af2",
   "metadata": {},
   "outputs": [],
   "source": [
    "import pandas as pd\n",
    "import numpy as np\n",
    "import datetime\n",
    "import warnings\n",
    "import statsmodels.api as sm\n",
    "\n",
    "from sklearn.linear_model import LinearRegression\n",
    "import scipy.optimize as optimize\n",
    "\n",
    "import matplotlib.pyplot as plt\n",
    "%matplotlib inline\n",
    "plt.rcParams['figure.figsize'] = (12,6)\n",
    "plt.rcParams['font.size'] = 15\n",
    "plt.rcParams['legend.fontsize'] = 13\n",
    "import seaborn as sns\n",
    "sns.set(rc={'figure.figsize':(15, 10)})\n",
    "import treasury_cmds\n"
   ]
  },
  {
   "cell_type": "markdown",
   "id": "1ae4b149",
   "metadata": {},
   "source": [
    "## 1.1\n",
    "\n",
    "List the projected cashflows on May 4, 2009, exactly six months into the trade, on the first coupon and swap date."
   ]
  },
  {
   "attachments": {},
   "cell_type": "markdown",
   "id": "d4166891",
   "metadata": {},
   "source": [
    "- The first exchange of payments of this trade exactly 6-months ahead require a fixed rate payment of 4.2560% and a floating rate payment of the prevailing yield 6-months prior to the exchange of cashflows. In this case the yield is 4.193%.\n"
   ]
  },
  {
   "cell_type": "code",
   "execution_count": 246,
   "id": "fd414b74",
   "metadata": {},
   "outputs": [
    {
     "data": {
      "text/plain": [
       "Timestamp('2008-11-04 00:00:00')"
      ]
     },
     "execution_count": 246,
     "metadata": {},
     "output_type": "execute_result"
    }
   ],
   "source": [
    "t_current = pd.to_datetime('2008-11-4')\n",
    "t_current"
   ]
  },
  {
   "cell_type": "code",
   "execution_count": 259,
   "id": "7931d3d8",
   "metadata": {},
   "outputs": [
    {
     "data": {
      "text/html": [
       "<div>\n",
       "<style scoped>\n",
       "    .dataframe tbody tr th:only-of-type {\n",
       "        vertical-align: middle;\n",
       "    }\n",
       "\n",
       "    .dataframe tbody tr th {\n",
       "        vertical-align: top;\n",
       "    }\n",
       "\n",
       "    .dataframe thead th {\n",
       "        text-align: right;\n",
       "    }\n",
       "</style>\n",
       "<table border=\"1\" class=\"dataframe\">\n",
       "  <thead>\n",
       "    <tr style=\"text-align: right;\">\n",
       "      <th></th>\n",
       "      <th>2009-05-04</th>\n",
       "      <th>2009-11-04</th>\n",
       "      <th>2010-05-04</th>\n",
       "      <th>2010-11-04</th>\n",
       "      <th>2011-05-04</th>\n",
       "      <th>2011-11-04</th>\n",
       "      <th>2012-05-04</th>\n",
       "      <th>2012-11-04</th>\n",
       "      <th>2013-05-04</th>\n",
       "      <th>2013-11-04</th>\n",
       "      <th>...</th>\n",
       "      <th>2034-05-04</th>\n",
       "      <th>2034-11-04</th>\n",
       "      <th>2035-05-04</th>\n",
       "      <th>2035-11-04</th>\n",
       "      <th>2036-05-04</th>\n",
       "      <th>2036-11-04</th>\n",
       "      <th>2037-05-04</th>\n",
       "      <th>2037-11-04</th>\n",
       "      <th>2038-05-04</th>\n",
       "      <th>2038-11-04</th>\n",
       "    </tr>\n",
       "    <tr>\n",
       "      <th>QUOTE</th>\n",
       "      <th></th>\n",
       "      <th></th>\n",
       "      <th></th>\n",
       "      <th></th>\n",
       "      <th></th>\n",
       "      <th></th>\n",
       "      <th></th>\n",
       "      <th></th>\n",
       "      <th></th>\n",
       "      <th></th>\n",
       "      <th></th>\n",
       "      <th></th>\n",
       "      <th></th>\n",
       "      <th></th>\n",
       "      <th></th>\n",
       "      <th></th>\n",
       "      <th></th>\n",
       "      <th></th>\n",
       "      <th></th>\n",
       "      <th></th>\n",
       "      <th></th>\n",
       "    </tr>\n",
       "  </thead>\n",
       "  <tbody>\n",
       "    <tr>\n",
       "      <th>Float(30-Year-Yield)</th>\n",
       "      <td>2.0965</td>\n",
       "      <td>2.0965</td>\n",
       "      <td>2.0965</td>\n",
       "      <td>2.0965</td>\n",
       "      <td>2.0965</td>\n",
       "      <td>2.0965</td>\n",
       "      <td>2.0965</td>\n",
       "      <td>2.0965</td>\n",
       "      <td>2.0965</td>\n",
       "      <td>2.0965</td>\n",
       "      <td>...</td>\n",
       "      <td>2.0965</td>\n",
       "      <td>2.0965</td>\n",
       "      <td>2.0965</td>\n",
       "      <td>2.0965</td>\n",
       "      <td>2.0965</td>\n",
       "      <td>2.0965</td>\n",
       "      <td>2.0965</td>\n",
       "      <td>2.0965</td>\n",
       "      <td>2.0965</td>\n",
       "      <td>102.0965</td>\n",
       "    </tr>\n",
       "    <tr>\n",
       "      <th>30-Year-Bond</th>\n",
       "      <td>2.2500</td>\n",
       "      <td>2.2500</td>\n",
       "      <td>2.2500</td>\n",
       "      <td>2.2500</td>\n",
       "      <td>2.2500</td>\n",
       "      <td>2.2500</td>\n",
       "      <td>2.2500</td>\n",
       "      <td>2.2500</td>\n",
       "      <td>2.2500</td>\n",
       "      <td>2.2500</td>\n",
       "      <td>...</td>\n",
       "      <td>2.2500</td>\n",
       "      <td>2.2500</td>\n",
       "      <td>2.2500</td>\n",
       "      <td>2.2500</td>\n",
       "      <td>2.2500</td>\n",
       "      <td>2.2500</td>\n",
       "      <td>2.2500</td>\n",
       "      <td>2.2500</td>\n",
       "      <td>2.2500</td>\n",
       "      <td>102.2500</td>\n",
       "    </tr>\n",
       "    <tr>\n",
       "      <th>Fixed-Swap</th>\n",
       "      <td>2.1280</td>\n",
       "      <td>2.1280</td>\n",
       "      <td>2.1280</td>\n",
       "      <td>2.1280</td>\n",
       "      <td>2.1280</td>\n",
       "      <td>2.1280</td>\n",
       "      <td>2.1280</td>\n",
       "      <td>2.1280</td>\n",
       "      <td>2.1280</td>\n",
       "      <td>2.1280</td>\n",
       "      <td>...</td>\n",
       "      <td>2.1280</td>\n",
       "      <td>2.1280</td>\n",
       "      <td>2.1280</td>\n",
       "      <td>2.1280</td>\n",
       "      <td>2.1280</td>\n",
       "      <td>2.1280</td>\n",
       "      <td>2.1280</td>\n",
       "      <td>2.1280</td>\n",
       "      <td>2.1280</td>\n",
       "      <td>102.1280</td>\n",
       "    </tr>\n",
       "  </tbody>\n",
       "</table>\n",
       "<p>3 rows × 60 columns</p>\n",
       "</div>"
      ],
      "text/plain": [
       "                      2009-05-04  2009-11-04  2010-05-04  2010-11-04  \\\n",
       "QUOTE                                                                  \n",
       "Float(30-Year-Yield)      2.0965      2.0965      2.0965      2.0965   \n",
       "30-Year-Bond              2.2500      2.2500      2.2500      2.2500   \n",
       "Fixed-Swap                2.1280      2.1280      2.1280      2.1280   \n",
       "\n",
       "                      2011-05-04  2011-11-04  2012-05-04  2012-11-04  \\\n",
       "QUOTE                                                                  \n",
       "Float(30-Year-Yield)      2.0965      2.0965      2.0965      2.0965   \n",
       "30-Year-Bond              2.2500      2.2500      2.2500      2.2500   \n",
       "Fixed-Swap                2.1280      2.1280      2.1280      2.1280   \n",
       "\n",
       "                      2013-05-04  2013-11-04  ...  2034-05-04  2034-11-04  \\\n",
       "QUOTE                                         ...                           \n",
       "Float(30-Year-Yield)      2.0965      2.0965  ...      2.0965      2.0965   \n",
       "30-Year-Bond              2.2500      2.2500  ...      2.2500      2.2500   \n",
       "Fixed-Swap                2.1280      2.1280  ...      2.1280      2.1280   \n",
       "\n",
       "                      2035-05-04  2035-11-04  2036-05-04  2036-11-04  \\\n",
       "QUOTE                                                                  \n",
       "Float(30-Year-Yield)      2.0965      2.0965      2.0965      2.0965   \n",
       "30-Year-Bond              2.2500      2.2500      2.2500      2.2500   \n",
       "Fixed-Swap                2.1280      2.1280      2.1280      2.1280   \n",
       "\n",
       "                      2037-05-04  2037-11-04  2038-05-04  2038-11-04  \n",
       "QUOTE                                                                 \n",
       "Float(30-Year-Yield)      2.0965      2.0965      2.0965    102.0965  \n",
       "30-Year-Bond              2.2500      2.2500      2.2500    102.2500  \n",
       "Fixed-Swap                2.1280      2.1280      2.1280    102.1280  \n",
       "\n",
       "[3 rows x 60 columns]"
      ]
     },
     "execution_count": 259,
     "metadata": {},
     "output_type": "execute_result"
    }
   ],
   "source": [
    "df = {'CALDT':['2008-11-4','2008-11-4','2008-11-4'], 'TMATDT':['2038-11-4','2038-11-4','2038-11-4'],'TCOUPRT':[4.193,4.50,4.256], 'QUOTE':['Float(30-Year-Yield)','30-Year-Bond','Fixed-Swap']}\n",
    "df_1 = pd.DataFrame(df).set_index('QUOTE')\n",
    "df_1['CALDT'] = pd.to_datetime(df_1['CALDT'])\n",
    "df_1['TMATDT'] = pd.to_datetime(df_1['TMATDT'])\n",
    "CF = treasury_cmds.calc_cashflows(df_1)\n",
    "CF"
   ]
  },
  {
   "cell_type": "code",
   "execution_count": 260,
   "id": "5e92acc5",
   "metadata": {},
   "outputs": [
    {
     "data": {
      "text/html": [
       "<div>\n",
       "<style scoped>\n",
       "    .dataframe tbody tr th:only-of-type {\n",
       "        vertical-align: middle;\n",
       "    }\n",
       "\n",
       "    .dataframe tbody tr th {\n",
       "        vertical-align: top;\n",
       "    }\n",
       "\n",
       "    .dataframe thead th {\n",
       "        text-align: right;\n",
       "    }\n",
       "</style>\n",
       "<table border=\"1\" class=\"dataframe\">\n",
       "  <thead>\n",
       "    <tr style=\"text-align: right;\">\n",
       "      <th></th>\n",
       "      <th>Projected Cashflow on May 4 2009</th>\n",
       "    </tr>\n",
       "    <tr>\n",
       "      <th>QUOTE</th>\n",
       "      <th></th>\n",
       "    </tr>\n",
       "  </thead>\n",
       "  <tbody>\n",
       "    <tr>\n",
       "      <th>Float(30-Year-Yield)</th>\n",
       "      <td>2.0965</td>\n",
       "    </tr>\n",
       "    <tr>\n",
       "      <th>30-Year-Bond</th>\n",
       "      <td>2.2500</td>\n",
       "    </tr>\n",
       "    <tr>\n",
       "      <th>Fixed-Swap</th>\n",
       "      <td>2.1280</td>\n",
       "    </tr>\n",
       "    <tr>\n",
       "      <th>Cash_Flow_SWAP</th>\n",
       "      <td>-2.1280</td>\n",
       "    </tr>\n",
       "    <tr>\n",
       "      <th>Net-Payment</th>\n",
       "      <td>0.1220</td>\n",
       "    </tr>\n",
       "  </tbody>\n",
       "</table>\n",
       "</div>"
      ],
      "text/plain": [
       "                      Projected Cashflow on May 4 2009\n",
       "QUOTE                                                 \n",
       "Float(30-Year-Yield)                            2.0965\n",
       "30-Year-Bond                                    2.2500\n",
       "Fixed-Swap                                      2.1280\n",
       "Cash_Flow_SWAP                                 -2.1280\n",
       "Net-Payment                                     0.1220"
      ]
     },
     "execution_count": 260,
     "metadata": {},
     "output_type": "execute_result"
    }
   ],
   "source": [
    "# Since the floating rate equals SOFER, CF from SWAP is just 0 - fixed payment\n",
    "\n",
    "CF.loc['Cash_Flow_SWAP',:] = 0-CF.loc['Fixed-Swap',:]\n",
    "CF.loc['Net-Payment',:] = CF.loc['Cash_Flow_SWAP',:] + CF.loc['30-Year-Bond',:]\n",
    "# Multiply the CF by Notonal Value\n",
    "\n",
    "CF.loc[:,'2009-05-04'].to_frame('Projected Cashflow on May 4 2009')"
   ]
  },
  {
   "attachments": {},
   "cell_type": "markdown",
   "id": "265c04bf",
   "metadata": {},
   "source": [
    "The projected cashflows are equal to this formula 6 months ahead is equal to\n",
    "\n",
    "$V_{swap} = K freq[r_{k}(T_{i-1}, T_{t}) - c_{swap}]$\n",
    "\n",
    "- Thus as of May 4, 2009, the Net-Payment from the point of view for the fixed payer is $\\$12,200,000$. Mills pays the fixed leg of the swap, receives the floating rate which is equal to the repo rate used to borrow his long position in the 30-year treasury bonds. Thus, he is making a slight profit from the exchange of cashflows here. \n"
   ]
  },
  {
   "cell_type": "markdown",
   "id": "f20aa5eb",
   "metadata": {},
   "source": [
    "## 1.2\n",
    "\n",
    "What is the duration of...\n",
    "* the T-bond\n",
    "* the swap\n",
    "\n",
    "Remember that...\n",
    "* the swap can be decomposed into a fixed-rate bond and a floating-rate note\n",
    "* a floating-rate note has duration equal to the time until the next reset. Thus, at initialization, it has duration equal to 0.5 years.\n",
    "\n",
    "Is the duration for the \"paying-fixed\" swap positive or negative? Is it bigger or smaller in magnitude than the T-bond?\n",
    "\n",
    "For this problem, calculate the Macauley duration and the dollar (Macauley) duration."
   ]
  },
  {
   "cell_type": "code",
   "execution_count": 98,
   "id": "6f0c478e",
   "metadata": {},
   "outputs": [],
   "source": [
    "from scipy.optimize import fsolve\n",
    "\n",
    "def pv(rate, cashflows, maturities,freq=1):\n",
    "    price = sum([cfi/(1+rate/freq)**(maturities[i]*freq) for i, cfi in enumerate(cashflows)])\n",
    "    return price"
   ]
  },
  {
   "cell_type": "code",
   "execution_count": 268,
   "id": "3a8ba7a5",
   "metadata": {},
   "outputs": [
    {
     "data": {
      "text/html": [
       "<div>\n",
       "<style scoped>\n",
       "    .dataframe tbody tr th:only-of-type {\n",
       "        vertical-align: middle;\n",
       "    }\n",
       "\n",
       "    .dataframe tbody tr th {\n",
       "        vertical-align: top;\n",
       "    }\n",
       "\n",
       "    .dataframe thead th {\n",
       "        text-align: right;\n",
       "    }\n",
       "</style>\n",
       "<table border=\"1\" class=\"dataframe\">\n",
       "  <thead>\n",
       "    <tr style=\"text-align: right;\">\n",
       "      <th></th>\n",
       "      <th>Price</th>\n",
       "    </tr>\n",
       "    <tr>\n",
       "      <th>QUOTE</th>\n",
       "      <th></th>\n",
       "    </tr>\n",
       "  </thead>\n",
       "  <tbody>\n",
       "    <tr>\n",
       "      <th>30-Year-Bond</th>\n",
       "      <td>105.224224</td>\n",
       "    </tr>\n",
       "    <tr>\n",
       "      <th>Fixed-Swap</th>\n",
       "      <td>100.010496</td>\n",
       "    </tr>\n",
       "    <tr>\n",
       "      <th>Value_Swap</th>\n",
       "      <td>-0.01</td>\n",
       "    </tr>\n",
       "  </tbody>\n",
       "</table>\n",
       "</div>"
      ],
      "text/plain": [
       "                   Price\n",
       "QUOTE                   \n",
       "30-Year-Bond  105.224224\n",
       "Fixed-Swap    100.010496\n",
       "Value_Swap         -0.01"
      ]
     },
     "execution_count": 268,
     "metadata": {},
     "output_type": "execute_result"
    }
   ],
   "source": [
    "\n",
    "maturidy_grid = pd.Series(treasury_cmds.get_maturity_delta(pd.to_datetime(CF.columns.values), t_current=t_current), index = CF.columns)\n",
    "\n",
    "CF_bonds = CF.loc['30-Year-Bond':'Fixed-Swap',:]\n",
    "\n",
    "prices = pd.DataFrame(index = CF_bonds.index, columns =  ['Price'])\n",
    "prices.loc['30-Year-Bond','Price']  = pv(.04193, CF_bonds.loc['30-Year-Bond',:].values, maturidy_grid.values, freq = 2)\n",
    "prices.loc['Fixed-Swap','Price'] =pv(.04256, CF_bonds.loc['Fixed-Swap',:].values, maturidy_grid.values, freq = 2)\n",
    "prices.loc['Value_Swap','Price'] = 100 - 100.01\n",
    "prices"
   ]
  },
  {
   "cell_type": "code",
   "execution_count": 265,
   "id": "9899d534",
   "metadata": {},
   "outputs": [],
   "source": [
    "rate = .04193\n",
    "discount_factors = np.exp(-rate*maturidy_grid)\n",
    "curves = pd.DataFrame(discount_factors, columns =  ['Discount_Factor'])"
   ]
  },
  {
   "cell_type": "code",
   "execution_count": 149,
   "id": "bb311beb",
   "metadata": {},
   "outputs": [],
   "source": [
    "wts = CF_bonds.mul(curves['Discount_Factor'], axis = 1)\n",
    "wts = wts.div(wts.sum(axis = 1), axis = 0)\n",
    "duration = (wts @ maturidy_grid)\n",
    "duration = pd.DataFrame(duration, columns = ['Duration'])\n",
    "duration.loc['Fixed-Swap',:] = .5 - duration.loc['Fixed-Swap',:]\n",
    "# Since it is a reset date, the duration of the swap = .5 - duration of the FIXED Leg.\n",
    "duration.loc['30-Year-Bond','Dollar_Duration'] = 17.031733*105.224\n",
    "duration.loc['Fixed-Swap','Dollar_Duration'] = -16.7309*101.08024"
   ]
  },
  {
   "cell_type": "code",
   "execution_count": 150,
   "id": "2bc0ce07",
   "metadata": {},
   "outputs": [
    {
     "data": {
      "text/html": [
       "<div>\n",
       "<style scoped>\n",
       "    .dataframe tbody tr th:only-of-type {\n",
       "        vertical-align: middle;\n",
       "    }\n",
       "\n",
       "    .dataframe tbody tr th {\n",
       "        vertical-align: top;\n",
       "    }\n",
       "\n",
       "    .dataframe thead th {\n",
       "        text-align: right;\n",
       "    }\n",
       "</style>\n",
       "<table border=\"1\" class=\"dataframe\">\n",
       "  <thead>\n",
       "    <tr style=\"text-align: right;\">\n",
       "      <th></th>\n",
       "      <th>Duration</th>\n",
       "      <th>Dollar_Duration</th>\n",
       "    </tr>\n",
       "    <tr>\n",
       "      <th>QUOTE</th>\n",
       "      <th></th>\n",
       "      <th></th>\n",
       "    </tr>\n",
       "  </thead>\n",
       "  <tbody>\n",
       "    <tr>\n",
       "      <th>30-Year-Bond</th>\n",
       "      <td>17.031733</td>\n",
       "      <td>1792.147073</td>\n",
       "    </tr>\n",
       "    <tr>\n",
       "      <th>Fixed-Swap</th>\n",
       "      <td>-16.730948</td>\n",
       "      <td>-1691.163387</td>\n",
       "    </tr>\n",
       "  </tbody>\n",
       "</table>\n",
       "</div>"
      ],
      "text/plain": [
       "               Duration  Dollar_Duration\n",
       "QUOTE                                   \n",
       "30-Year-Bond  17.031733      1792.147073\n",
       "Fixed-Swap   -16.730948     -1691.163387"
      ]
     },
     "execution_count": 150,
     "metadata": {},
     "output_type": "execute_result"
    }
   ],
   "source": [
    "duration"
   ]
  },
  {
   "cell_type": "markdown",
   "id": "5b1fd4c0",
   "metadata": {},
   "source": [
    "## 1.3\n",
    "\n",
    "What hedge ratio should be used to balance the notional size of the Treasury bond with the notional size of the swap, such that it is a duration-neutral position?\n",
    "\n",
    "Specifically, if the trader enters the swap paying fixed on \\$500 million notional, how large of a position should they take in the Treasury bond?"
   ]
  },
  {
   "cell_type": "code",
   "execution_count": 271,
   "id": "bef569c2",
   "metadata": {},
   "outputs": [
    {
     "name": "stdout",
     "output_type": "stream",
     "text": [
      "The notional amount of treasury bonds being bought should be $471.82607983608494M\n"
     ]
    },
    {
     "data": {
      "text/plain": [
       "4.484015812324992"
      ]
     },
     "execution_count": 271,
     "metadata": {},
     "output_type": "execute_result"
    }
   ],
   "source": [
    "hedge_ratio = 1691.163387/1792.147\n",
    "hedge_ratio\n",
    "notional_bonds = hedge_ratio*500\n",
    "size_of_bond = notional_bonds/105.224\n",
    "print(f'The notional amount of treasury bonds being bought should be ${notional_bonds}M')\n",
    "size_of_bond"
   ]
  },
  {
   "cell_type": "markdown",
   "id": "21ec3280",
   "metadata": {},
   "source": [
    "## 1.4\n",
    "\n",
    "Suppose it is May 4, 2009, exactly six months after putting the trade on.\n",
    "\n",
    "The spread is at -28 bps due to...\n",
    "* The YTM on a new 30-year bond has risen to 4.36\\%\n",
    "* The swap rate on a new 30-year swap has dropped to 4.08\\%\n",
    "\n",
    "Explain conceptually how this movement impacts the components of the trade."
   ]
  },
  {
   "cell_type": "markdown",
   "id": "e2325c56",
   "metadata": {},
   "source": [
    "## 1.5\n",
    "\n",
    "Calculate the value of the position on May 4, 2009, immediately after the first coupon and swap payments and swap reset. \n",
    "\n",
    "* Calculate the revised price of the Treasury bond by assuming you can apply the (May 4) 30-year YTM as a discount rate to the 29.5 year bond. (We are just using this for a rough approximation. You know that good pricing would require a discount curve, but let's not get bogged down with that here.)\n",
    "\n",
    "\n",
    "* Calculate the value of the swap by decomposing it into a fixed-rate bond and a floating-rate bond.\n",
    "    * The 29.5 year fixed-rate leg is priced using the (May 4) 30-year swap rate as a discount rate.\n",
    "    * The floating-rate leg is priced at par given that floating-rate notes are par immediately after resets.\n",
    "    \n",
    "**Note**\n",
    "\n",
    "You are being asked to calculate these valuations using the exact formula between price, cashflows, and YTM discount rate. We are not simply approximating with duration, as we already know the position was set up with zero dollar duration.\n",
    "\n",
    "From the Discussion 1 notebook, we have this formula expressing a bond's price as a function of the coupon, $c$, and the YTM, $y_j$.\n",
    "\n",
    "$\\begin{align*}\n",
    "P_j(t,T,c) = \\sum_{i=1}^{n-1}\\frac{100\\left(\\frac{c}{2}\\right)}{\\left(1+\\frac{y_j}{2}\\right)^{2(T_i-t)}} + \\frac{100\\left(1+\\frac{c}{2}\\right)}{\\left(1+\\frac{y_j}{2}\\right)^{2(T-t)}}\n",
    "\\end{align*}\n",
    "$"
   ]
  },
  {
   "cell_type": "code",
   "execution_count": 263,
   "id": "566190bb",
   "metadata": {},
   "outputs": [
    {
     "data": {
      "text/html": [
       "<div>\n",
       "<style scoped>\n",
       "    .dataframe tbody tr th:only-of-type {\n",
       "        vertical-align: middle;\n",
       "    }\n",
       "\n",
       "    .dataframe tbody tr th {\n",
       "        vertical-align: top;\n",
       "    }\n",
       "\n",
       "    .dataframe thead th {\n",
       "        text-align: right;\n",
       "    }\n",
       "</style>\n",
       "<table border=\"1\" class=\"dataframe\">\n",
       "  <thead>\n",
       "    <tr style=\"text-align: right;\">\n",
       "      <th></th>\n",
       "      <th>Prices as of May 4</th>\n",
       "    </tr>\n",
       "  </thead>\n",
       "  <tbody>\n",
       "    <tr>\n",
       "      <th>bond_price</th>\n",
       "      <td>102.341698</td>\n",
       "    </tr>\n",
       "    <tr>\n",
       "      <th>fixed_leg</th>\n",
       "      <td>103.039874</td>\n",
       "    </tr>\n",
       "    <tr>\n",
       "      <th>Swap_Value</th>\n",
       "      <td>-3.039874</td>\n",
       "    </tr>\n",
       "  </tbody>\n",
       "</table>\n",
       "</div>"
      ],
      "text/plain": [
       "            Prices as of May 4\n",
       "bond_price          102.341698\n",
       "fixed_leg           103.039874\n",
       "Swap_Value           -3.039874"
      ]
     },
     "execution_count": 263,
     "metadata": {},
     "output_type": "execute_result"
    }
   ],
   "source": [
    "ytm = 0.0436\n",
    "swap_rate = .0408\n",
    "price_bond_may = pv(ytm, CF_bonds.loc['30-Year-Bond',:].values, maturidy_grid.values, freq = 2)\n",
    "price_fixed_may = pv(swap_rate, CF_bonds.loc['Fixed-Swap',:].values, maturidy_grid.values, freq = 2)\n",
    "df = pd.DataFrame([price_bond_may,price_fixed_may], index = ['bond_price','fixed_leg'])\n",
    "df.loc['Swap_Value',:] = 100 - df.loc['fixed_leg',:]\n",
    "\n",
    "df.columns = ['Prices as of May 4']\n",
    "df"
   ]
  },
  {
   "cell_type": "markdown",
   "id": "9a722d70",
   "metadata": {},
   "source": [
    "## 1.6\n",
    "\n",
    "Accounting for the change in value of the positions, as well as the 6-month cashflows paid on May 4, \n",
    "* what is the net profit and loss (pnl) of the position?\n",
    "* what is the return on the equity capital, considering that there was a 2\\% haircut (equity contribution) on the size of the initial treasury bond position."
   ]
  },
  {
   "cell_type": "code",
   "execution_count": 280,
   "id": "815dbca3",
   "metadata": {},
   "outputs": [
    {
     "name": "stdout",
     "output_type": "stream",
     "text": [
      "Mills is down approximately $-29.914323616022475M\n"
     ]
    }
   ],
   "source": [
    "equity = .02*500\n",
    "notional = 500\n",
    "vswap = notional *(-.03398)\n",
    "change_bond_price = (102.34169/105.224)-1\n",
    "notional_bond_change = (change_bond_price*(notional_bonds))\n",
    "\n",
    "net_notional = notional_bond_change+vswap\n",
    "# I need to add the cashflow from the the swap\n",
    "net_change_in_value = net_notional\n",
    "net_change_in_value\n",
    "net_change_in_value\n",
    "ROC = net_change_in_value/(equity)\n",
    "print(f'Mills is down approximately ${net_change_in_value}M')\n"
   ]
  },
  {
   "cell_type": "code",
   "execution_count": 283,
   "id": "67d2f7e8",
   "metadata": {},
   "outputs": [
    {
     "name": "stdout",
     "output_type": "stream",
     "text": [
      "Mills ROC is -299.1432361602247%\n"
     ]
    },
    {
     "data": {
      "text/plain": [
       "-12.924323616022473"
      ]
     },
     "execution_count": 283,
     "metadata": {},
     "output_type": "execute_result"
    }
   ],
   "source": [
    "print(f'Mills ROC is {ROC*100}%')\n",
    "notional_bond_change"
   ]
  }
 ],
 "metadata": {
  "hide_input": false,
  "kernelspec": {
   "display_name": "base",
   "language": "python",
   "name": "python3"
  },
  "language_info": {
   "codemirror_mode": {
    "name": "ipython",
    "version": 3
   },
   "file_extension": ".py",
   "mimetype": "text/x-python",
   "name": "python",
   "nbconvert_exporter": "python",
   "pygments_lexer": "ipython3",
   "version": "3.9.13"
  },
  "vscode": {
   "interpreter": {
    "hash": "44a761cc06a695ddb39d99b7e807436f731f960c127538853a5b90f596df33e4"
   }
  }
 },
 "nbformat": 4,
 "nbformat_minor": 5
}
