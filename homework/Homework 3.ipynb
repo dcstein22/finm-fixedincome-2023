{
 "cells": [
  {
   "cell_type": "markdown",
   "id": "3e013a68",
   "metadata": {},
   "source": [
    "# Homework 3\n",
    "\n",
    "## FINM 37400 - 2023\n",
    "\n",
    "### UChicago Financial Mathematics\n",
    "\n",
    "* Mark Hendricks\n",
    "* hendricks@uchicago.edu"
   ]
  },
  {
   "cell_type": "markdown",
   "id": "ad9a8968",
   "metadata": {},
   "source": [
    "# 1 HBS Case: Fixed-Income Arbitrage in a Financial Crisis (C): Spread and Swap Spread in November 2008"
   ]
  },
  {
   "attachments": {},
   "cell_type": "markdown",
   "id": "c4f31467",
   "metadata": {},
   "source": [
    "## Simplification of the setup\n",
    "\n",
    "The date is Nov 4, 2008.\n",
    "\n",
    "**Treasury bond**\n",
    "* Suppose the Treasury bond matures exactly 30 years later, on Nov 4, 2038 rather than May 15, 2008. \n",
    "* The YTM of this freshly issued treasury is 4.193\\% with a semiannual coupon of 4.50\\%, same as is given in the case. (So we're just changing the maturity date to simplify things, but keeping the market data.)\n",
    "\n",
    "**Swap**\n",
    "* The fixed leg of the swap pays semiannually, with swap rate of 4.2560\\%, as given in the case.\n",
    "* The floating leg of the swap also pays semiannually--not quarterly--such that the payment dates are identical on both legs. Thus, it also resets the floating rate semiannually, not quarterly.\n",
    "* The floating rate of the swap equals the repo rate used in the trade. Thus, these two rates cancel in the financing of the trade. (No need to consider the TED spread.) "
   ]
  },
  {
   "cell_type": "code",
   "execution_count": 1,
   "id": "677b5af2",
   "metadata": {},
   "outputs": [],
   "source": [
    "import pandas as pd\n",
    "import numpy as np\n",
    "import datetime\n",
    "import warnings\n",
    "import statsmodels.api as sm\n",
    "\n",
    "from sklearn.linear_model import LinearRegression\n",
    "import scipy.optimize as optimize\n",
    "from scipy.optimize import minimize\n",
    "import matplotlib.pyplot as plt\n",
    "\n",
    "import matplotlib as mpl\n",
    "%matplotlib inline\n",
    "plt.style.use('seaborn')\n",
    "mpl.rcParams['font.family'] = 'serif'\n",
    "import seaborn as sns\n",
    "from treasury_cmds import *\n"
   ]
  },
  {
   "cell_type": "markdown",
   "id": "1ae4b149",
   "metadata": {},
   "source": [
    "## 1.1\n",
    "\n",
    "List the projected cashflows on May 4, 2009, exactly six months into the trade, on the first coupon and swap date."
   ]
  },
  {
   "attachments": {},
   "cell_type": "markdown",
   "id": "d4166891",
   "metadata": {},
   "source": [
    "- The first exchange of payments of this trade exactly 6-months ahead require a fixed rate payment of 4.2560% and a floating rate payment of the prevailing yield 6-months prior to the exchange of cashflows. In this case the yield is 4.193%.\n"
   ]
  },
  {
   "cell_type": "code",
   "execution_count": 2,
   "id": "fd414b74",
   "metadata": {},
   "outputs": [
    {
     "data": {
      "text/plain": [
       "Timestamp('2008-11-04 00:00:00')"
      ]
     },
     "execution_count": 2,
     "metadata": {},
     "output_type": "execute_result"
    }
   ],
   "source": [
    "t_current = pd.to_datetime('2008-11-4')\n",
    "t_current"
   ]
  },
  {
   "cell_type": "code",
   "execution_count": 3,
   "id": "3585169a",
   "metadata": {},
   "outputs": [],
   "source": [
    "USE_PAR_TBOND = False\n",
    "# Set coupon on 30-year T bond to equal Nov 4 YTM\n",
    "# Or stick with the coupon rate in the case, for the Aug 2008 T bond\n",
    "\n",
    "YTM = [0.04193, .0436]\n",
    "\n",
    "if USE_PAR_TBOND:\n",
    "    CPNRATE = [YTM[0], .0436]\n",
    "else:\n",
    "    CPNRATE = [0.0450, .0436]\n",
    "\n",
    "SWAPRATE = [.042560, .0408]\n",
    "\n",
    "TPRICE = 105\n",
    "PAR = 100\n",
    "\n",
    "NOTIONAL = 500e6\n",
    "HAIRCUT = .02\n",
    "\n",
    "DTIME = .5\n",
    "tau0 = 30\n",
    "tau1 = tau0-DTIME"
   ]
  },
  {
   "cell_type": "code",
   "execution_count": 4,
   "id": "db21767a",
   "metadata": {},
   "outputs": [],
   "source": [
    "SOFR = np.nan"
   ]
  },
  {
   "attachments": {},
   "cell_type": "markdown",
   "id": "3fd2744e",
   "metadata": {},
   "source": [
    "### Market Environment"
   ]
  },
  {
   "cell_type": "code",
   "execution_count": 5,
   "id": "5e92acc5",
   "metadata": {},
   "outputs": [
    {
     "data": {
      "text/html": [
       "<style type=\"text/css\">\n",
       "</style>\n",
       "<table id=\"T_6e534\">\n",
       "  <thead>\n",
       "    <tr>\n",
       "      <th class=\"blank level0\" >&nbsp;</th>\n",
       "      <th id=\"T_6e534_level0_col0\" class=\"col_heading level0 col0\" >Nov 2008</th>\n",
       "      <th id=\"T_6e534_level0_col1\" class=\"col_heading level0 col1\" >May 2009</th>\n",
       "    </tr>\n",
       "  </thead>\n",
       "  <tbody>\n",
       "    <tr>\n",
       "      <th id=\"T_6e534_level0_row0\" class=\"row_heading level0 row0\" >Coupon Rate</th>\n",
       "      <td id=\"T_6e534_row0_col0\" class=\"data row0 col0\" >4.50%</td>\n",
       "      <td id=\"T_6e534_row0_col1\" class=\"data row0 col1\" >4.36%</td>\n",
       "    </tr>\n",
       "    <tr>\n",
       "      <th id=\"T_6e534_level0_row1\" class=\"row_heading level0 row1\" >YTM</th>\n",
       "      <td id=\"T_6e534_row1_col0\" class=\"data row1 col0\" >4.19%</td>\n",
       "      <td id=\"T_6e534_row1_col1\" class=\"data row1 col1\" >4.36%</td>\n",
       "    </tr>\n",
       "    <tr>\n",
       "      <th id=\"T_6e534_level0_row2\" class=\"row_heading level0 row2\" >Swap Rate</th>\n",
       "      <td id=\"T_6e534_row2_col0\" class=\"data row2 col0\" >4.26%</td>\n",
       "      <td id=\"T_6e534_row2_col1\" class=\"data row2 col1\" >4.08%</td>\n",
       "    </tr>\n",
       "    <tr>\n",
       "      <th id=\"T_6e534_level0_row3\" class=\"row_heading level0 row3\" >Spread</th>\n",
       "      <td id=\"T_6e534_row3_col0\" class=\"data row3 col0\" >nan%</td>\n",
       "      <td id=\"T_6e534_row3_col1\" class=\"data row3 col1\" >nan%</td>\n",
       "    </tr>\n",
       "    <tr>\n",
       "      <th id=\"T_6e534_level0_row4\" class=\"row_heading level0 row4\" >YTM Spread</th>\n",
       "      <td id=\"T_6e534_row4_col0\" class=\"data row4 col0\" >0.06%</td>\n",
       "      <td id=\"T_6e534_row4_col1\" class=\"data row4 col1\" >-0.28%</td>\n",
       "    </tr>\n",
       "    <tr>\n",
       "      <th id=\"T_6e534_level0_row5\" class=\"row_heading level0 row5\" >coupon spread</th>\n",
       "      <td id=\"T_6e534_row5_col0\" class=\"data row5 col0\" >-0.24%</td>\n",
       "      <td id=\"T_6e534_row5_col1\" class=\"data row5 col1\" >-0.28%</td>\n",
       "    </tr>\n",
       "  </tbody>\n",
       "</table>\n"
      ],
      "text/plain": [
       "<pandas.io.formats.style.Styler at 0x170126b3b80>"
      ]
     },
     "execution_count": 5,
     "metadata": {},
     "output_type": "execute_result"
    }
   ],
   "source": [
    "# Since the floating rate equals SOFER, CF from SWAP is just 0 - fixed payment\n",
    "summary = pd.DataFrame(index = ['Coupon Rate', 'YTM', 'Swap Rate','Spread'], columns=['Nov 2008', 'May 2009'], dtype = 'float')\n",
    "summary.loc['Coupon Rate'] = CPNRATE\n",
    "summary.loc['YTM'] = YTM\n",
    "summary.loc['Swap Rate'] = SWAPRATE\n",
    "summary.loc['YTM Spread'] = summary.loc['Swap Rate']- summary.loc['YTM']\n",
    "summary.loc['coupon spread'] = summary.loc['Swap Rate'] - summary.loc['Coupon Rate']\n",
    "summary.style.format('{:.2%}')"
   ]
  },
  {
   "cell_type": "code",
   "execution_count": 6,
   "id": "23119714",
   "metadata": {},
   "outputs": [
    {
     "data": {
      "text/html": [
       "<div>\n",
       "<style scoped>\n",
       "    .dataframe tbody tr th:only-of-type {\n",
       "        vertical-align: middle;\n",
       "    }\n",
       "\n",
       "    .dataframe tbody tr th {\n",
       "        vertical-align: top;\n",
       "    }\n",
       "\n",
       "    .dataframe thead th {\n",
       "        text-align: right;\n",
       "    }\n",
       "</style>\n",
       "<table border=\"1\" class=\"dataframe\">\n",
       "  <thead>\n",
       "    <tr style=\"text-align: right;\">\n",
       "      <th></th>\n",
       "      <th>May 2009</th>\n",
       "    </tr>\n",
       "  </thead>\n",
       "  <tbody>\n",
       "    <tr>\n",
       "      <th>T bond</th>\n",
       "      <td>2.25</td>\n",
       "    </tr>\n",
       "    <tr>\n",
       "      <th>repo</th>\n",
       "      <td>NaN</td>\n",
       "    </tr>\n",
       "    <tr>\n",
       "      <th>Swap (floating)</th>\n",
       "      <td>NaN</td>\n",
       "    </tr>\n",
       "    <tr>\n",
       "      <th>Swap (fixed)</th>\n",
       "      <td>-2.128</td>\n",
       "    </tr>\n",
       "    <tr>\n",
       "      <th>Net Payment</th>\n",
       "      <td>0.122</td>\n",
       "    </tr>\n",
       "  </tbody>\n",
       "</table>\n",
       "</div>"
      ],
      "text/plain": [
       "                May 2009\n",
       "T bond              2.25\n",
       "repo                 NaN\n",
       "Swap (floating)      NaN\n",
       "Swap (fixed)      -2.128\n",
       "Net Payment        0.122"
      ]
     },
     "execution_count": 6,
     "metadata": {},
     "output_type": "execute_result"
    }
   ],
   "source": [
    "CF = pd.DataFrame(index = ['T bond','repo','Swap (floating)','Swap (fixed)'], columns=['May 2009'])\n",
    "CF.loc['repo'] = SOFR\n",
    "CF.loc['Swap (floating)'] = SOFR\n",
    "CF.loc[['T bond']] = PAR*CPNRATE[0]/2\n",
    "CF.loc[['Swap (fixed)']] = -PAR *SWAPRATE[0]/2\n",
    "CF.loc['Net Payment'] = CF.sum(axis = 0)\n",
    "CF"
   ]
  },
  {
   "attachments": {},
   "cell_type": "markdown",
   "id": "265c04bf",
   "metadata": {},
   "source": [
    "The projected cashflows are equal to this formula 6 months ahead is equal to\n",
    "\n",
    "$V_{swap} = K freq[r_{k}(T_{i-1}, T_{t}) - c_{swap}]$\n",
    "\n",
    "- Thus as of May 4, 2009, the Net-Payment from the point of view for the fixed payer is $\\$12,200,000$. Mills pays the fixed leg of the swap, receives the floating rate which is equal to the repo rate used to borrow his long position in the 30-year treasury bonds. Thus, he is making a slight profit from the exchange of cashflows here. \n"
   ]
  },
  {
   "cell_type": "markdown",
   "id": "f20aa5eb",
   "metadata": {},
   "source": [
    "## 1.2\n",
    "\n",
    "What is the duration of...\n",
    "* the T-bond\n",
    "* the swap\n",
    "\n",
    "Remember that...\n",
    "* the swap can be decomposed into a fixed-rate bond and a floating-rate note\n",
    "* a floating-rate note has duration equal to the time until the next reset. Thus, at initialization, it has duration equal to 0.5 years.\n",
    "\n",
    "Is the duration for the \"paying-fixed\" swap positive or negative? Is it bigger or smaller in magnitude than the T-bond?\n",
    "\n",
    "For this problem, calculate the Macauley duration and the dollar (Macauley) duration."
   ]
  },
  {
   "cell_type": "code",
   "execution_count": 7,
   "id": "8f1f41ce",
   "metadata": {},
   "outputs": [],
   "source": [
    "def duration_closed_form(tau, ytm, cpnrate = None, freq = 2):\n",
    "    if cpnrate is None:\n",
    "        cpnrate = ytm\n",
    "    y = ytm/freq\n",
    "    c = cpnrate/freq\n",
    "    T = tau*freq\n",
    "\n",
    "    if cpnrate == ytm:\n",
    "        duration = (1+y)/y * (1-1/(1+y)**T)\n",
    "    else:\n",
    "        duration = (1+y)/y - (1+y+T*(c-y))/(c*((1+y)**T-1)+y)\n",
    "\n",
    "    duration /= freq\n",
    "\n",
    "    return duration"
   ]
  },
  {
   "cell_type": "code",
   "execution_count": 8,
   "id": "b0871ee5",
   "metadata": {},
   "outputs": [],
   "source": [
    "duration_df = pd.DataFrame(dtype = float, index = ['T bond', 'fixed leg', 'floating leg'], columns = ['duration'])\n",
    "duration_df.loc['T bond', 'duration'] = duration_closed_form(30, summary.loc['YTM', 'Nov 2008'], summary.loc['Coupon Rate','Nov 2008'])\n",
    "duration_df.loc['fixed leg','duration'] = duration_closed_form(30,summary.loc['Swap Rate', 'Nov 2008'])\n",
    "duration_df.loc['floating leg','duration'] = 0.5\n",
    "duration_df['Dollar Duration'] = duration_df['duration']*np.array([TPRICE,PAR,PAR])\n",
    "duration_df.loc['swap'] = duration_df.loc['fixed leg'] - duration_df.loc['floating leg']\n",
    "duration_df.loc['net'] = duration_df.loc['T bond'] - duration_df.loc['swap']"
   ]
  },
  {
   "cell_type": "code",
   "execution_count": 9,
   "id": "0aec05cc",
   "metadata": {},
   "outputs": [
    {
     "data": {
      "text/html": [
       "<div>\n",
       "<style scoped>\n",
       "    .dataframe tbody tr th:only-of-type {\n",
       "        vertical-align: middle;\n",
       "    }\n",
       "\n",
       "    .dataframe tbody tr th {\n",
       "        vertical-align: top;\n",
       "    }\n",
       "\n",
       "    .dataframe thead th {\n",
       "        text-align: right;\n",
       "    }\n",
       "</style>\n",
       "<table border=\"1\" class=\"dataframe\">\n",
       "  <thead>\n",
       "    <tr style=\"text-align: right;\">\n",
       "      <th></th>\n",
       "      <th>duration</th>\n",
       "      <th>Dollar Duration</th>\n",
       "    </tr>\n",
       "  </thead>\n",
       "  <tbody>\n",
       "    <tr>\n",
       "      <th>T bond</th>\n",
       "      <td>17.083633</td>\n",
       "      <td>1793.781472</td>\n",
       "    </tr>\n",
       "    <tr>\n",
       "      <th>fixed leg</th>\n",
       "      <td>17.212744</td>\n",
       "      <td>1721.274445</td>\n",
       "    </tr>\n",
       "    <tr>\n",
       "      <th>floating leg</th>\n",
       "      <td>0.500000</td>\n",
       "      <td>50.000000</td>\n",
       "    </tr>\n",
       "    <tr>\n",
       "      <th>swap</th>\n",
       "      <td>16.712744</td>\n",
       "      <td>1671.274445</td>\n",
       "    </tr>\n",
       "    <tr>\n",
       "      <th>net</th>\n",
       "      <td>0.370889</td>\n",
       "      <td>122.507027</td>\n",
       "    </tr>\n",
       "  </tbody>\n",
       "</table>\n",
       "</div>"
      ],
      "text/plain": [
       "               duration  Dollar Duration\n",
       "T bond        17.083633      1793.781472\n",
       "fixed leg     17.212744      1721.274445\n",
       "floating leg   0.500000        50.000000\n",
       "swap          16.712744      1671.274445\n",
       "net            0.370889       122.507027"
      ]
     },
     "execution_count": 9,
     "metadata": {},
     "output_type": "execute_result"
    }
   ],
   "source": [
    "duration_df"
   ]
  },
  {
   "attachments": {},
   "cell_type": "markdown",
   "id": "2060a7ef",
   "metadata": {},
   "source": [
    "Match the dollar by ensuring that the ratio of swap contracts equals the ratio of the dollar duration.\n",
    "Mills is buying $500M notional value of swap contracts in the case"
   ]
  },
  {
   "cell_type": "code",
   "execution_count": 14,
   "id": "6e092784",
   "metadata": {},
   "outputs": [],
   "source": [
    "hedge_ratio = duration_df.loc['swap','Dollar Duration']/duration_df.loc['T bond','Dollar Duration']\n",
    "contracts = pd.DataFrame(NOTIONAL*np.array([hedge_ratio/TPRICE,-1/PAR]), index = ['T bond','swap'], columns=['positions'])"
   ]
  },
  {
   "cell_type": "code",
   "execution_count": 15,
   "id": "f9acbae9",
   "metadata": {},
   "outputs": [
    {
     "data": {
      "text/html": [
       "<div>\n",
       "<style scoped>\n",
       "    .dataframe tbody tr th:only-of-type {\n",
       "        vertical-align: middle;\n",
       "    }\n",
       "\n",
       "    .dataframe tbody tr th {\n",
       "        vertical-align: top;\n",
       "    }\n",
       "\n",
       "    .dataframe thead th {\n",
       "        text-align: right;\n",
       "    }\n",
       "</style>\n",
       "<table border=\"1\" class=\"dataframe\">\n",
       "  <thead>\n",
       "    <tr style=\"text-align: right;\">\n",
       "      <th></th>\n",
       "      <th>positions</th>\n",
       "    </tr>\n",
       "  </thead>\n",
       "  <tbody>\n",
       "    <tr>\n",
       "      <th>T bond</th>\n",
       "      <td>4.436689e+06</td>\n",
       "    </tr>\n",
       "    <tr>\n",
       "      <th>swap</th>\n",
       "      <td>-5.000000e+06</td>\n",
       "    </tr>\n",
       "  </tbody>\n",
       "</table>\n",
       "</div>"
      ],
      "text/plain": [
       "           positions\n",
       "T bond  4.436689e+06\n",
       "swap   -5.000000e+06"
      ]
     },
     "execution_count": 15,
     "metadata": {},
     "output_type": "execute_result"
    }
   ],
   "source": [
    "contracts"
   ]
  },
  {
   "cell_type": "markdown",
   "id": "5b1fd4c0",
   "metadata": {},
   "source": [
    "## 1.3\n",
    "\n",
    "What hedge ratio should be used to balance the notional size of the Treasury bond with the notional size of the swap, such that it is a duration-neutral position?\n",
    "\n",
    "Specifically, if the trader enters the swap paying fixed on \\$500 million notional, how large of a position should they take in the Treasury bond?"
   ]
  },
  {
   "attachments": {},
   "cell_type": "markdown",
   "id": "bef569c2",
   "metadata": {},
   "source": []
  },
  {
   "cell_type": "markdown",
   "id": "21ec3280",
   "metadata": {},
   "source": [
    "## 1.4\n",
    "\n",
    "Suppose it is May 4, 2009, exactly six months after putting the trade on.\n",
    "\n",
    "The spread is at -28 bps due to...\n",
    "* The YTM on a new 30-year bond has risen to 4.36\\%\n",
    "* The swap rate on a new 30-year swap has dropped to 4.08\\%\n",
    "\n",
    "Explain conceptually how this movement impacts the components of the trade."
   ]
  },
  {
   "cell_type": "markdown",
   "id": "e2325c56",
   "metadata": {},
   "source": [
    "## 1.5\n",
    "\n",
    "Calculate the value of the position on May 4, 2009, immediately after the first coupon and swap payments and swap reset. \n",
    "\n",
    "* Calculate the revised price of the Treasury bond by assuming you can apply the (May 4) 30-year YTM as a discount rate to the 29.5 year bond. (We are just using this for a rough approximation. You know that good pricing would require a discount curve, but let's not get bogged down with that here.)\n",
    "\n",
    "\n",
    "* Calculate the value of the swap by decomposing it into a fixed-rate bond and a floating-rate bond.\n",
    "    * The 29.5 year fixed-rate leg is priced using the (May 4) 30-year swap rate as a discount rate.\n",
    "    * The floating-rate leg is priced at par given that floating-rate notes are par immediately after resets.\n",
    "    \n",
    "**Note**\n",
    "\n",
    "You are being asked to calculate these valuations using the exact formula between price, cashflows, and YTM discount rate. We are not simply approximating with duration, as we already know the position was set up with zero dollar duration.\n",
    "\n",
    "From the Discussion 1 notebook, we have this formula expressing a bond's price as a function of the coupon, $c$, and the YTM, $y_j$.\n",
    "\n",
    "$\\begin{align*}\n",
    "P_j(t,T,c) = \\sum_{i=1}^{n-1}\\frac{100\\left(\\frac{c}{2}\\right)}{\\left(1+\\frac{y_j}{2}\\right)^{2(T_i-t)}} + \\frac{100\\left(1+\\frac{c}{2}\\right)}{\\left(1+\\frac{y_j}{2}\\right)^{2(T-t)}}\n",
    "\\end{align*}\n",
    "$"
   ]
  },
  {
   "cell_type": "code",
   "execution_count": 25,
   "id": "54a05919",
   "metadata": {},
   "outputs": [],
   "source": [
    "def price_treasury_ytm(time_to_maturity, ytm, cpnrate, freq = 2, face = 100):\n",
    "    c = cpnrate/freq\n",
    "    y = ytm/freq\n",
    "    tau = round(time_to_maturity*freq)\n",
    "    pv = 0\n",
    "    for i in range(1, tau):\n",
    "        pv += 1/(1+y)**i\n",
    "    pv = c*pv + (1+c)/(1+y)**tau\n",
    "    pv *= face\n",
    "    return pv\n"
   ]
  },
  {
   "cell_type": "code",
   "execution_count": 19,
   "id": "abe212ce",
   "metadata": {},
   "outputs": [
    {
     "data": {
      "text/html": [
       "<div>\n",
       "<style scoped>\n",
       "    .dataframe tbody tr th:only-of-type {\n",
       "        vertical-align: middle;\n",
       "    }\n",
       "\n",
       "    .dataframe tbody tr th {\n",
       "        vertical-align: top;\n",
       "    }\n",
       "\n",
       "    .dataframe thead th {\n",
       "        text-align: right;\n",
       "    }\n",
       "</style>\n",
       "<table border=\"1\" class=\"dataframe\">\n",
       "  <thead>\n",
       "    <tr style=\"text-align: right;\">\n",
       "      <th></th>\n",
       "      <th>Nov 2008</th>\n",
       "      <th>May 2009</th>\n",
       "    </tr>\n",
       "  </thead>\n",
       "  <tbody>\n",
       "    <tr>\n",
       "      <th>Coupon Rate</th>\n",
       "      <td>0.04500</td>\n",
       "      <td>0.0436</td>\n",
       "    </tr>\n",
       "    <tr>\n",
       "      <th>YTM</th>\n",
       "      <td>0.04193</td>\n",
       "      <td>0.0436</td>\n",
       "    </tr>\n",
       "    <tr>\n",
       "      <th>Swap Rate</th>\n",
       "      <td>0.04256</td>\n",
       "      <td>0.0408</td>\n",
       "    </tr>\n",
       "    <tr>\n",
       "      <th>Spread</th>\n",
       "      <td>NaN</td>\n",
       "      <td>NaN</td>\n",
       "    </tr>\n",
       "    <tr>\n",
       "      <th>YTM Spread</th>\n",
       "      <td>0.00063</td>\n",
       "      <td>-0.0028</td>\n",
       "    </tr>\n",
       "    <tr>\n",
       "      <th>coupon spread</th>\n",
       "      <td>-0.00244</td>\n",
       "      <td>-0.0028</td>\n",
       "    </tr>\n",
       "  </tbody>\n",
       "</table>\n",
       "</div>"
      ],
      "text/plain": [
       "               Nov 2008  May 2009\n",
       "Coupon Rate     0.04500    0.0436\n",
       "YTM             0.04193    0.0436\n",
       "Swap Rate       0.04256    0.0408\n",
       "Spread              NaN       NaN\n",
       "YTM Spread      0.00063   -0.0028\n",
       "coupon spread  -0.00244   -0.0028"
      ]
     },
     "execution_count": 19,
     "metadata": {},
     "output_type": "execute_result"
    }
   ],
   "source": [
    "summary"
   ]
  },
  {
   "cell_type": "code",
   "execution_count": 28,
   "id": "566190bb",
   "metadata": {},
   "outputs": [
    {
     "data": {
      "text/html": [
       "<style type=\"text/css\">\n",
       "</style>\n",
       "<table id=\"T_9c4f3\">\n",
       "  <thead>\n",
       "    <tr>\n",
       "      <th class=\"blank level0\" >&nbsp;</th>\n",
       "      <th id=\"T_9c4f3_level0_col0\" class=\"col_heading level0 col0\" >Nov 2008</th>\n",
       "      <th id=\"T_9c4f3_level0_col1\" class=\"col_heading level0 col1\" >May 2009</th>\n",
       "    </tr>\n",
       "  </thead>\n",
       "  <tbody>\n",
       "    <tr>\n",
       "      <th id=\"T_9c4f3_level0_row0\" class=\"row_heading level0 row0\" >T bond</th>\n",
       "      <td id=\"T_9c4f3_row0_col0\" class=\"data row0 col0\" >$105.00</td>\n",
       "      <td id=\"T_9c4f3_row0_col1\" class=\"data row0 col1\" >$102.31</td>\n",
       "    </tr>\n",
       "    <tr>\n",
       "      <th id=\"T_9c4f3_level0_row1\" class=\"row_heading level0 row1\" >swap</th>\n",
       "      <td id=\"T_9c4f3_row1_col0\" class=\"data row1 col0\" >$0.00</td>\n",
       "      <td id=\"T_9c4f3_row1_col1\" class=\"data row1 col1\" >$3.00</td>\n",
       "    </tr>\n",
       "  </tbody>\n",
       "</table>\n"
      ],
      "text/plain": [
       "<pandas.io.formats.style.Styler at 0x1701282e700>"
      ]
     },
     "execution_count": 28,
     "metadata": {},
     "output_type": "execute_result"
    }
   ],
   "source": [
    "prices = pd.DataFrame(index = ['T bond','swap'], dtype = float, columns=['Nov 2008'])\n",
    "\n",
    "\n",
    "if USE_PAR_TBOND:\n",
    "    prices.loc['T bond','Nov 2008'] = price_treasury_ytm(tau0, summary.loc['YTM','Nov 2008'], summary.loc['Coupon Rate','Nov 2008'])\n",
    "else:\n",
    "    prices.loc['T bond','Nov 2008'] = TPRICE\n",
    "\n",
    "prices.loc['swap','Nov 2008'] = PAR - PAR\n",
    "\n",
    "prices.loc['T bond','May 2009'] = price_treasury_ytm(tau1, summary.loc['YTM','May 2009'], summary.loc['Coupon Rate','Nov 2008'])\n",
    "prices.loc['swap','May 2009'] = price_treasury_ytm(tau1, summary.loc['Swap Rate','May 2009'], summary.loc['Swap Rate','Nov 2008']) - PAR \n",
    "\n",
    "prices.style.format('${:,.2f}')"
   ]
  },
  {
   "cell_type": "markdown",
   "id": "9a722d70",
   "metadata": {},
   "source": [
    "## 1.6\n",
    "\n",
    "Accounting for the change in value of the positions, as well as the 6-month cashflows paid on May 4, \n",
    "* what is the net profit and loss (pnl) of the position?\n",
    "* what is the return on the equity capital, considering that there was a 2\\% haircut (equity contribution) on the size of the initial treasury bond position."
   ]
  },
  {
   "cell_type": "code",
   "execution_count": 47,
   "id": "815dbca3",
   "metadata": {},
   "outputs": [
    {
     "data": {
      "text/html": [
       "<style type=\"text/css\">\n",
       "</style>\n",
       "<table id=\"T_d66df\">\n",
       "  <thead>\n",
       "    <tr>\n",
       "      <th class=\"blank level0\" >&nbsp;</th>\n",
       "      <th id=\"T_d66df_level0_col0\" class=\"col_heading level0 col0\" >Cashflow</th>\n",
       "      <th id=\"T_d66df_level0_col1\" class=\"col_heading level0 col1\" >CapitalGains</th>\n",
       "      <th id=\"T_d66df_level0_col2\" class=\"col_heading level0 col2\" >total</th>\n",
       "    </tr>\n",
       "  </thead>\n",
       "  <tbody>\n",
       "    <tr>\n",
       "      <th id=\"T_d66df_level0_row0\" class=\"row_heading level0 row0\" >T bond</th>\n",
       "      <td id=\"T_d66df_row0_col0\" class=\"data row0 col0\" >$9,982,549.26</td>\n",
       "      <td id=\"T_d66df_row0_col1\" class=\"data row0 col1\" >$-11,928,477.82</td>\n",
       "      <td id=\"T_d66df_row0_col2\" class=\"data row0 col2\" >$-1,945,928.55</td>\n",
       "    </tr>\n",
       "    <tr>\n",
       "      <th id=\"T_d66df_level0_row1\" class=\"row_heading level0 row1\" >swap</th>\n",
       "      <td id=\"T_d66df_row1_col0\" class=\"data row1 col0\" >$-10,640,000.00</td>\n",
       "      <td id=\"T_d66df_row1_col1\" class=\"data row1 col1\" >$-15,016,747.03</td>\n",
       "      <td id=\"T_d66df_row1_col2\" class=\"data row1 col2\" >$-25,656,747.03</td>\n",
       "    </tr>\n",
       "    <tr>\n",
       "      <th id=\"T_d66df_level0_row2\" class=\"row_heading level0 row2\" >net</th>\n",
       "      <td id=\"T_d66df_row2_col0\" class=\"data row2 col0\" >$-657,450.74</td>\n",
       "      <td id=\"T_d66df_row2_col1\" class=\"data row2 col1\" >$-26,945,224.84</td>\n",
       "      <td id=\"T_d66df_row2_col2\" class=\"data row2 col2\" >$-27,602,675.58</td>\n",
       "    </tr>\n",
       "  </tbody>\n",
       "</table>\n"
      ],
      "text/plain": [
       "<pandas.io.formats.style.Styler at 0x1701283c280>"
      ]
     },
     "execution_count": 47,
     "metadata": {},
     "output_type": "execute_result"
    }
   ],
   "source": [
    "pnl = pd.DataFrame(dtype=float, index =['T bond', 'swap'], columns=['Cashflow'])\n",
    "pnl['Cashflow'] = CF.loc[['T bond', 'Swap (fixed)']].values *contracts.abs().values\n",
    "pnl['CapitalGains'] = prices.diff(axis = 1)['May 2009'].values * contracts.values[:,0]\n",
    "\n",
    "pnl['total'] = pnl.sum(axis = 1)\n",
    "pnl.loc['net'] = pnl.sum()\n",
    "pnl.style.format('${:,.2f}')"
   ]
  },
  {
   "cell_type": "code",
   "execution_count": 48,
   "id": "5ecb1d7a",
   "metadata": {},
   "outputs": [
    {
     "data": {
      "text/html": [
       "<div>\n",
       "<style scoped>\n",
       "    .dataframe tbody tr th:only-of-type {\n",
       "        vertical-align: middle;\n",
       "    }\n",
       "\n",
       "    .dataframe tbody tr th {\n",
       "        vertical-align: top;\n",
       "    }\n",
       "\n",
       "    .dataframe thead th {\n",
       "        text-align: right;\n",
       "    }\n",
       "</style>\n",
       "<table border=\"1\" class=\"dataframe\">\n",
       "  <thead>\n",
       "    <tr style=\"text-align: right;\">\n",
       "      <th></th>\n",
       "      <th>Nov 2008</th>\n",
       "      <th>May 2009</th>\n",
       "    </tr>\n",
       "  </thead>\n",
       "  <tbody>\n",
       "    <tr>\n",
       "      <th>T bond</th>\n",
       "      <td>105.0</td>\n",
       "      <td>102.311401</td>\n",
       "    </tr>\n",
       "    <tr>\n",
       "      <th>swap</th>\n",
       "      <td>0.0</td>\n",
       "      <td>3.003349</td>\n",
       "    </tr>\n",
       "  </tbody>\n",
       "</table>\n",
       "</div>"
      ],
      "text/plain": [
       "        Nov 2008    May 2009\n",
       "T bond     105.0  102.311401\n",
       "swap         0.0    3.003349"
      ]
     },
     "execution_count": 48,
     "metadata": {},
     "output_type": "execute_result"
    }
   ],
   "source": [
    "prices"
   ]
  },
  {
   "cell_type": "code",
   "execution_count": 61,
   "id": "19ad30e1",
   "metadata": {},
   "outputs": [
    {
     "data": {
      "text/html": [
       "<style type=\"text/css\">\n",
       "</style>\n",
       "<table id=\"T_adcd5\">\n",
       "  <thead>\n",
       "    <tr>\n",
       "      <th class=\"blank level0\" >&nbsp;</th>\n",
       "      <th id=\"T_adcd5_level0_col0\" class=\"col_heading level0 col0\" >Assets</th>\n",
       "      <th id=\"T_adcd5_level0_col1\" class=\"col_heading level0 col1\" >equity</th>\n",
       "      <th id=\"T_adcd5_level0_col2\" class=\"col_heading level0 col2\" >pnl</th>\n",
       "      <th id=\"T_adcd5_level0_col3\" class=\"col_heading level0 col3\" >Return</th>\n",
       "    </tr>\n",
       "  </thead>\n",
       "  <tbody>\n",
       "    <tr>\n",
       "      <th id=\"T_adcd5_level0_row0\" class=\"row_heading level0 row0\" >T bond</th>\n",
       "      <td id=\"T_adcd5_row0_col0\" class=\"data row0 col0\" >465852298.969647</td>\n",
       "      <td id=\"T_adcd5_row0_col1\" class=\"data row0 col1\" >$9,317,045.98</td>\n",
       "      <td id=\"T_adcd5_row0_col2\" class=\"data row0 col2\" >$-1,945,928.55</td>\n",
       "      <td id=\"T_adcd5_row0_col3\" class=\"data row0 col3\" ></td>\n",
       "    </tr>\n",
       "    <tr>\n",
       "      <th id=\"T_adcd5_level0_row1\" class=\"row_heading level0 row1\" >swap</th>\n",
       "      <td id=\"T_adcd5_row1_col0\" class=\"data row1 col0\" >-0.000000</td>\n",
       "      <td id=\"T_adcd5_row1_col1\" class=\"data row1 col1\" >$-0.00</td>\n",
       "      <td id=\"T_adcd5_row1_col2\" class=\"data row1 col2\" >$-25,656,747.03</td>\n",
       "      <td id=\"T_adcd5_row1_col3\" class=\"data row1 col3\" ></td>\n",
       "    </tr>\n",
       "    <tr>\n",
       "      <th id=\"T_adcd5_level0_row2\" class=\"row_heading level0 row2\" >net</th>\n",
       "      <td id=\"T_adcd5_row2_col0\" class=\"data row2 col0\" >465852298.969647</td>\n",
       "      <td id=\"T_adcd5_row2_col1\" class=\"data row2 col1\" >$9,317,045.98</td>\n",
       "      <td id=\"T_adcd5_row2_col2\" class=\"data row2 col2\" >$-27,602,675.58</td>\n",
       "      <td id=\"T_adcd5_row2_col3\" class=\"data row2 col3\" >-296.26%</td>\n",
       "    </tr>\n",
       "  </tbody>\n",
       "</table>\n"
      ],
      "text/plain": [
       "<pandas.io.formats.style.Styler at 0x17012858b50>"
      ]
     },
     "execution_count": 61,
     "metadata": {},
     "output_type": "execute_result"
    }
   ],
   "source": [
    "# Calculating ROC\n",
    "\n",
    "capital = pd.DataFrame(prices.iloc[:,0].values * contracts.values[:,0], index = ['T bond', 'swap'], columns = ['Assets'])\n",
    "capital['equity'] = capital['Assets']*HAIRCUT\n",
    "\n",
    "capital.loc['net'] = capital.sum()\n",
    "capital['pnl'] = pnl['total']\n",
    "capital['Return'] = capital['pnl']/capital['equity']\n",
    "capital.loc[['T bond','swap'], 'Return'] = np.nan \n",
    "\n",
    "capital.style.format({'assets':'${:,.2f}','equity':'${:,.2f}','pnl':'${:,.2f}','Return':'{:.2%}'},na_rep='')\n"
   ]
  },
  {
   "cell_type": "code",
   "execution_count": 59,
   "id": "f9d67a6e",
   "metadata": {},
   "outputs": [
    {
     "data": {
      "text/html": [
       "<div>\n",
       "<style scoped>\n",
       "    .dataframe tbody tr th:only-of-type {\n",
       "        vertical-align: middle;\n",
       "    }\n",
       "\n",
       "    .dataframe tbody tr th {\n",
       "        vertical-align: top;\n",
       "    }\n",
       "\n",
       "    .dataframe thead th {\n",
       "        text-align: right;\n",
       "    }\n",
       "</style>\n",
       "<table border=\"1\" class=\"dataframe\">\n",
       "  <thead>\n",
       "    <tr style=\"text-align: right;\">\n",
       "      <th></th>\n",
       "      <th>Assets</th>\n",
       "      <th>equity</th>\n",
       "      <th>pnl</th>\n",
       "      <th>Return</th>\n",
       "      <th>return</th>\n",
       "    </tr>\n",
       "  </thead>\n",
       "  <tbody>\n",
       "    <tr>\n",
       "      <th>T bond</th>\n",
       "      <td>4.658523e+08</td>\n",
       "      <td>9.317046e+06</td>\n",
       "      <td>-1.945929e+06</td>\n",
       "      <td>-0.208857</td>\n",
       "      <td>NaN</td>\n",
       "    </tr>\n",
       "    <tr>\n",
       "      <th>swap</th>\n",
       "      <td>-0.000000e+00</td>\n",
       "      <td>-0.000000e+00</td>\n",
       "      <td>-2.565675e+07</td>\n",
       "      <td>inf</td>\n",
       "      <td>NaN</td>\n",
       "    </tr>\n",
       "    <tr>\n",
       "      <th>net</th>\n",
       "      <td>4.658523e+08</td>\n",
       "      <td>9.317046e+06</td>\n",
       "      <td>-2.760268e+07</td>\n",
       "      <td>-2.962599</td>\n",
       "      <td>NaN</td>\n",
       "    </tr>\n",
       "  </tbody>\n",
       "</table>\n",
       "</div>"
      ],
      "text/plain": [
       "              Assets        equity           pnl    Return  return\n",
       "T bond  4.658523e+08  9.317046e+06 -1.945929e+06 -0.208857     NaN\n",
       "swap   -0.000000e+00 -0.000000e+00 -2.565675e+07       inf     NaN\n",
       "net     4.658523e+08  9.317046e+06 -2.760268e+07 -2.962599     NaN"
      ]
     },
     "execution_count": 59,
     "metadata": {},
     "output_type": "execute_result"
    }
   ],
   "source": [
    "\n"
   ]
  }
 ],
 "metadata": {
  "hide_input": false,
  "kernelspec": {
   "display_name": "base",
   "language": "python",
   "name": "python3"
  },
  "language_info": {
   "codemirror_mode": {
    "name": "ipython",
    "version": 3
   },
   "file_extension": ".py",
   "mimetype": "text/x-python",
   "name": "python",
   "nbconvert_exporter": "python",
   "pygments_lexer": "ipython3",
   "version": "3.9.13"
  },
  "vscode": {
   "interpreter": {
    "hash": "44a761cc06a695ddb39d99b7e807436f731f960c127538853a5b90f596df33e4"
   }
  }
 },
 "nbformat": 4,
 "nbformat_minor": 5
}
