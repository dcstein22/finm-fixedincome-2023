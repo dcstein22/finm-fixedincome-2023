{
 "cells": [
  {
   "cell_type": "markdown",
   "id": "3e013a68",
   "metadata": {},
   "source": [
    "# Homework 3\n",
    "\n",
    "## FINM 37400 - 2023\n",
    "\n",
    "### UChicago Financial Mathematics\n",
    "\n",
    "* Mark Hendricks\n",
    "* hendricks@uchicago.edu"
   ]
  },
  {
   "cell_type": "markdown",
   "id": "ad9a8968",
   "metadata": {},
   "source": [
    "# 1 HBS Case: Fixed-Income Arbitrage in a Financial Crisis (C): Spread and Swap Spread in November 2008"
   ]
  },
  {
   "cell_type": "markdown",
   "id": "c4f31467",
   "metadata": {},
   "source": [
    "## Simplification of the setup\n",
    "\n",
    "The date is Nov 4, 2008.\n",
    "\n",
    "**Treasury bond**\n",
    "* Suppose the Treasury bond matures exactly 30 years later, on Nov 4, 2038 rather than May 15, 2008. \n",
    "* The YTM of this freshly issued treasury is 4.193\\% with a semiannual coupon of 4.25\\%, same as is given in the case. (So we're just changing the maturity date to simplify things, but keeping the market data.)\n",
    "\n",
    "**Swap**\n",
    "* The fixed leg of the swap pays semiannually, with swap rate of 4.2560\\%, as given in the case.\n",
    "* The floating leg of the swap also pays semiannually--not quarterly--such that the payment dates are identical on both legs. Thus, it also resets the floating rate semiannually, not quarterly.\n",
    "* The floating rate of the swap equals the repo rate used in the trade. Thus, these two rates cancel in the financing of the trade. (No need to consider the TED spread.) "
   ]
  },
  {
   "cell_type": "code",
   "execution_count": 1,
   "id": "677b5af2",
   "metadata": {},
   "outputs": [],
   "source": [
    "import pandas as pd\n",
    "import numpy as np\n",
    "import datetime\n",
    "import warnings\n",
    "import statsmodels.api as sm\n",
    "\n",
    "from sklearn.linear_model import LinearRegression\n",
    "import scipy.optimize as optimize\n",
    "\n",
    "import matplotlib.pyplot as plt\n",
    "%matplotlib inline\n",
    "plt.rcParams['figure.figsize'] = (12,6)\n",
    "plt.rcParams['font.size'] = 15\n",
    "plt.rcParams['legend.fontsize'] = 13\n",
    "import seaborn as sns\n",
    "sns.set(rc={'figure.figsize':(15, 10)})\n",
    "import treasury_cmds\n"
   ]
  },
  {
   "cell_type": "markdown",
   "id": "1ae4b149",
   "metadata": {},
   "source": [
    "## 1.1\n",
    "\n",
    "List the projected cashflows on May 4, 2009, exactly six months into the trade, on the first coupon and swap date."
   ]
  },
  {
   "attachments": {},
   "cell_type": "markdown",
   "id": "d4166891",
   "metadata": {},
   "source": [
    "- The first exchange of payments of this trade exactly 6-months ahead require a fixed rate payment of 4.2560% and a floating rate payment of the prevailing yield 6-months prior to the exchange of cashflows. In this case the yield is 4.193%.\n"
   ]
  },
  {
   "cell_type": "code",
   "execution_count": 11,
   "id": "fd414b74",
   "metadata": {},
   "outputs": [
    {
     "data": {
      "text/plain": [
       "Timestamp('2008-11-04 00:00:00')"
      ]
     },
     "execution_count": 11,
     "metadata": {},
     "output_type": "execute_result"
    }
   ],
   "source": [
    "t_current = pd.to_datetime('2008-11-4')\n",
    "t_current"
   ]
  },
  {
   "cell_type": "code",
   "execution_count": 3,
   "id": "7931d3d8",
   "metadata": {},
   "outputs": [
    {
     "data": {
      "text/html": [
       "<div>\n",
       "<style scoped>\n",
       "    .dataframe tbody tr th:only-of-type {\n",
       "        vertical-align: middle;\n",
       "    }\n",
       "\n",
       "    .dataframe tbody tr th {\n",
       "        vertical-align: top;\n",
       "    }\n",
       "\n",
       "    .dataframe thead th {\n",
       "        text-align: right;\n",
       "    }\n",
       "</style>\n",
       "<table border=\"1\" class=\"dataframe\">\n",
       "  <thead>\n",
       "    <tr style=\"text-align: right;\">\n",
       "      <th></th>\n",
       "      <th>2009-05-04</th>\n",
       "      <th>2009-11-04</th>\n",
       "      <th>2010-05-04</th>\n",
       "      <th>2010-11-04</th>\n",
       "      <th>2011-05-04</th>\n",
       "      <th>2011-11-04</th>\n",
       "      <th>2012-05-04</th>\n",
       "      <th>2012-11-04</th>\n",
       "      <th>2013-05-04</th>\n",
       "      <th>2013-11-04</th>\n",
       "      <th>...</th>\n",
       "      <th>2034-05-04</th>\n",
       "      <th>2034-11-04</th>\n",
       "      <th>2035-05-04</th>\n",
       "      <th>2035-11-04</th>\n",
       "      <th>2036-05-04</th>\n",
       "      <th>2036-11-04</th>\n",
       "      <th>2037-05-04</th>\n",
       "      <th>2037-11-04</th>\n",
       "      <th>2038-05-04</th>\n",
       "      <th>2038-11-04</th>\n",
       "    </tr>\n",
       "    <tr>\n",
       "      <th>QUOTE</th>\n",
       "      <th></th>\n",
       "      <th></th>\n",
       "      <th></th>\n",
       "      <th></th>\n",
       "      <th></th>\n",
       "      <th></th>\n",
       "      <th></th>\n",
       "      <th></th>\n",
       "      <th></th>\n",
       "      <th></th>\n",
       "      <th></th>\n",
       "      <th></th>\n",
       "      <th></th>\n",
       "      <th></th>\n",
       "      <th></th>\n",
       "      <th></th>\n",
       "      <th></th>\n",
       "      <th></th>\n",
       "      <th></th>\n",
       "      <th></th>\n",
       "      <th></th>\n",
       "    </tr>\n",
       "  </thead>\n",
       "  <tbody>\n",
       "    <tr>\n",
       "      <th>Float(30-Year-Yield)</th>\n",
       "      <td>0.020965</td>\n",
       "      <td>0.020965</td>\n",
       "      <td>0.020965</td>\n",
       "      <td>0.020965</td>\n",
       "      <td>0.020965</td>\n",
       "      <td>0.020965</td>\n",
       "      <td>0.020965</td>\n",
       "      <td>0.020965</td>\n",
       "      <td>0.020965</td>\n",
       "      <td>0.020965</td>\n",
       "      <td>...</td>\n",
       "      <td>0.020965</td>\n",
       "      <td>0.020965</td>\n",
       "      <td>0.020965</td>\n",
       "      <td>0.020965</td>\n",
       "      <td>0.020965</td>\n",
       "      <td>0.020965</td>\n",
       "      <td>0.020965</td>\n",
       "      <td>0.020965</td>\n",
       "      <td>0.020965</td>\n",
       "      <td>100.020965</td>\n",
       "    </tr>\n",
       "    <tr>\n",
       "      <th>FixedSwap</th>\n",
       "      <td>0.021280</td>\n",
       "      <td>0.021280</td>\n",
       "      <td>0.021280</td>\n",
       "      <td>0.021280</td>\n",
       "      <td>0.021280</td>\n",
       "      <td>0.021280</td>\n",
       "      <td>0.021280</td>\n",
       "      <td>0.021280</td>\n",
       "      <td>0.021280</td>\n",
       "      <td>0.021280</td>\n",
       "      <td>...</td>\n",
       "      <td>0.021280</td>\n",
       "      <td>0.021280</td>\n",
       "      <td>0.021280</td>\n",
       "      <td>0.021280</td>\n",
       "      <td>0.021280</td>\n",
       "      <td>0.021280</td>\n",
       "      <td>0.021280</td>\n",
       "      <td>0.021280</td>\n",
       "      <td>0.021280</td>\n",
       "      <td>100.021280</td>\n",
       "    </tr>\n",
       "    <tr>\n",
       "      <th>30-Year-Treasury</th>\n",
       "      <td>0.021250</td>\n",
       "      <td>0.021250</td>\n",
       "      <td>0.021250</td>\n",
       "      <td>0.021250</td>\n",
       "      <td>0.021250</td>\n",
       "      <td>0.021250</td>\n",
       "      <td>0.021250</td>\n",
       "      <td>0.021250</td>\n",
       "      <td>0.021250</td>\n",
       "      <td>0.021250</td>\n",
       "      <td>...</td>\n",
       "      <td>0.021250</td>\n",
       "      <td>0.021250</td>\n",
       "      <td>0.021250</td>\n",
       "      <td>0.021250</td>\n",
       "      <td>0.021250</td>\n",
       "      <td>0.021250</td>\n",
       "      <td>0.021250</td>\n",
       "      <td>0.021250</td>\n",
       "      <td>0.021250</td>\n",
       "      <td>100.021250</td>\n",
       "    </tr>\n",
       "  </tbody>\n",
       "</table>\n",
       "<p>3 rows × 60 columns</p>\n",
       "</div>"
      ],
      "text/plain": [
       "                      2009-05-04  2009-11-04  2010-05-04  2010-11-04  \\\n",
       "QUOTE                                                                  \n",
       "Float(30-Year-Yield)    0.020965    0.020965    0.020965    0.020965   \n",
       "FixedSwap               0.021280    0.021280    0.021280    0.021280   \n",
       "30-Year-Treasury        0.021250    0.021250    0.021250    0.021250   \n",
       "\n",
       "                      2011-05-04  2011-11-04  2012-05-04  2012-11-04  \\\n",
       "QUOTE                                                                  \n",
       "Float(30-Year-Yield)    0.020965    0.020965    0.020965    0.020965   \n",
       "FixedSwap               0.021280    0.021280    0.021280    0.021280   \n",
       "30-Year-Treasury        0.021250    0.021250    0.021250    0.021250   \n",
       "\n",
       "                      2013-05-04  2013-11-04  ...  2034-05-04  2034-11-04  \\\n",
       "QUOTE                                         ...                           \n",
       "Float(30-Year-Yield)    0.020965    0.020965  ...    0.020965    0.020965   \n",
       "FixedSwap               0.021280    0.021280  ...    0.021280    0.021280   \n",
       "30-Year-Treasury        0.021250    0.021250  ...    0.021250    0.021250   \n",
       "\n",
       "                      2035-05-04  2035-11-04  2036-05-04  2036-11-04  \\\n",
       "QUOTE                                                                  \n",
       "Float(30-Year-Yield)    0.020965    0.020965    0.020965    0.020965   \n",
       "FixedSwap               0.021280    0.021280    0.021280    0.021280   \n",
       "30-Year-Treasury        0.021250    0.021250    0.021250    0.021250   \n",
       "\n",
       "                      2037-05-04  2037-11-04  2038-05-04  2038-11-04  \n",
       "QUOTE                                                                 \n",
       "Float(30-Year-Yield)    0.020965    0.020965    0.020965  100.020965  \n",
       "FixedSwap               0.021280    0.021280    0.021280  100.021280  \n",
       "30-Year-Treasury        0.021250    0.021250    0.021250  100.021250  \n",
       "\n",
       "[3 rows x 60 columns]"
      ]
     },
     "execution_count": 3,
     "metadata": {},
     "output_type": "execute_result"
    }
   ],
   "source": [
    "df = {'CALDT':['2008-11-4','2008-11-4','2008-11-4'], 'TMATDT':['2038-11-4','2038-11-4','2038-11-4'],'TCOUPRT':[.04193,.04256,.0425], 'QUOTE':['Float(30-Year-Yield)','FixedSwap','30-Year-Treasury']}\n",
    "df_1 = pd.DataFrame(df).set_index('QUOTE')\n",
    "df_1['CALDT'] = pd.to_datetime(df_1['CALDT'])\n",
    "df_1['TMATDT'] = pd.to_datetime(df_1['TMATDT'])\n",
    "CF = treasury_cmds.calc_cashflows(df_1)\n",
    "CF"
   ]
  },
  {
   "cell_type": "code",
   "execution_count": 41,
   "id": "9a26ac1e",
   "metadata": {},
   "outputs": [
    {
     "data": {
      "text/plain": [
       "2009-05-04     0.495551\n",
       "2009-11-04     0.999316\n",
       "2010-05-04     1.494867\n",
       "2010-11-04     1.998631\n",
       "2011-05-04     2.494182\n",
       "2011-11-04     2.997947\n",
       "2012-05-04     3.496235\n",
       "2012-11-04     4.000000\n",
       "2013-05-04     4.495551\n",
       "2013-11-04     4.999316\n",
       "2014-05-04     5.494867\n",
       "2014-11-04     5.998631\n",
       "2015-05-04     6.494182\n",
       "2015-11-04     6.997947\n",
       "2016-05-04     7.496235\n",
       "2016-11-04     8.000000\n",
       "2017-05-04     8.495551\n",
       "2017-11-04     8.999316\n",
       "2018-05-04     9.494867\n",
       "2018-11-04     9.998631\n",
       "2019-05-04    10.494182\n",
       "2019-11-04    10.997947\n",
       "2020-05-04    11.496235\n",
       "2020-11-04    12.000000\n",
       "2021-05-04    12.495551\n",
       "2021-11-04    12.999316\n",
       "2022-05-04    13.494867\n",
       "2022-11-04    13.998631\n",
       "2023-05-04    14.494182\n",
       "2023-11-04    14.997947\n",
       "2024-05-04    15.496235\n",
       "2024-11-04    16.000000\n",
       "2025-05-04    16.495551\n",
       "2025-11-04    16.999316\n",
       "2026-05-04    17.494867\n",
       "2026-11-04    17.998631\n",
       "2027-05-04    18.494182\n",
       "2027-11-04    18.997947\n",
       "2028-05-04    19.496235\n",
       "2028-11-04    20.000000\n",
       "2029-05-04    20.495551\n",
       "2029-11-04    20.999316\n",
       "2030-05-04    21.494867\n",
       "2030-11-04    21.998631\n",
       "2031-05-04    22.494182\n",
       "2031-11-04    22.997947\n",
       "2032-05-04    23.496235\n",
       "2032-11-04    24.000000\n",
       "2033-05-04    24.495551\n",
       "2033-11-04    24.999316\n",
       "2034-05-04    25.494867\n",
       "2034-11-04    25.998631\n",
       "2035-05-04    26.494182\n",
       "2035-11-04    26.997947\n",
       "2036-05-04    27.496235\n",
       "2036-11-04    28.000000\n",
       "2037-05-04    28.495551\n",
       "2037-11-04    28.999316\n",
       "2038-05-04    29.494867\n",
       "2038-11-04    29.998631\n",
       "dtype: float64"
      ]
     },
     "execution_count": 41,
     "metadata": {},
     "output_type": "execute_result"
    }
   ],
   "source": []
  },
  {
   "cell_type": "code",
   "execution_count": 8,
   "id": "5e92acc5",
   "metadata": {},
   "outputs": [
    {
     "data": {
      "text/html": [
       "<div>\n",
       "<style scoped>\n",
       "    .dataframe tbody tr th:only-of-type {\n",
       "        vertical-align: middle;\n",
       "    }\n",
       "\n",
       "    .dataframe tbody tr th {\n",
       "        vertical-align: top;\n",
       "    }\n",
       "\n",
       "    .dataframe thead th {\n",
       "        text-align: right;\n",
       "    }\n",
       "</style>\n",
       "<table border=\"1\" class=\"dataframe\">\n",
       "  <thead>\n",
       "    <tr style=\"text-align: right;\">\n",
       "      <th></th>\n",
       "      <th>Projected Cashflow on May 4 2009</th>\n",
       "    </tr>\n",
       "    <tr>\n",
       "      <th>QUOTE</th>\n",
       "      <th></th>\n",
       "    </tr>\n",
       "  </thead>\n",
       "  <tbody>\n",
       "    <tr>\n",
       "      <th>Float(30-Year-Yield)</th>\n",
       "      <td>2.0965</td>\n",
       "    </tr>\n",
       "    <tr>\n",
       "      <th>FixedSwap</th>\n",
       "      <td>2.1280</td>\n",
       "    </tr>\n",
       "    <tr>\n",
       "      <th>30-Year-Treasury</th>\n",
       "      <td>2.1250</td>\n",
       "    </tr>\n",
       "    <tr>\n",
       "      <th>VSWAP</th>\n",
       "      <td>-0.0315</td>\n",
       "    </tr>\n",
       "    <tr>\n",
       "      <th>CF_Trade</th>\n",
       "      <td>2.0935</td>\n",
       "    </tr>\n",
       "  </tbody>\n",
       "</table>\n",
       "</div>"
      ],
      "text/plain": [
       "                      Projected Cashflow on May 4 2009\n",
       "QUOTE                                                 \n",
       "Float(30-Year-Yield)                            2.0965\n",
       "FixedSwap                                       2.1280\n",
       "30-Year-Treasury                                2.1250\n",
       "VSWAP                                          -0.0315\n",
       "CF_Trade                                        2.0935"
      ]
     },
     "execution_count": 8,
     "metadata": {},
     "output_type": "execute_result"
    }
   ],
   "source": [
    "CF.loc['VSWAP',:] = CF.loc['Float(30-Year-Yield)',:]-CF.loc['FixedSwap',:]\n",
    "CF.loc['CF_Trade',:] = CF.loc['VSWAP',:] + CF.loc['30-Year-Treasury',:]\n",
    "# Multiply the CF by Notonal Value\n",
    "\n",
    "CF.loc[:,'2009-05-04'].to_frame('Projected Cashflow on May 4 2009')*100"
   ]
  },
  {
   "attachments": {},
   "cell_type": "markdown",
   "id": "265c04bf",
   "metadata": {},
   "source": [
    "The projected cashflows are equal to this formula 6 months ahead is equal to\n",
    "\n",
    "$V_{swap} = K freq[r_{k}(T_{i-1}, T_{t}) - c_{swap}]$\n",
    "\n",
    "- Thus as of May 4, 2009, the value of the swap from the point of view for the fixed payer is $\\$-31,500$. However, since Mills bought $\\$100M$ notional of 30-year Treasury bonds with a coupon of 4.25% his net cashflow of the trade 6-months is $V_{swap} + CF_{30year_Treasury}  = \\$2.0935M$\n",
    "\n"
   ]
  },
  {
   "cell_type": "markdown",
   "id": "f20aa5eb",
   "metadata": {},
   "source": [
    "## 1.2\n",
    "\n",
    "What is the duration of...\n",
    "* the T-bond\n",
    "* the swap\n",
    "\n",
    "Remember that...\n",
    "* the swap can be decomposed into a fixed-rate bond and a floating-rate note\n",
    "* a floating-rate note has duration equal to the time until the next reset. Thus, at initialization, it has duration equal to 0.5 years.\n",
    "\n",
    "Is the duration for the \"paying-fixed\" swap positive or negative? Is it bigger or smaller in magnitude than the T-bond?\n",
    "\n",
    "For this problem, calculate the Macauley duration and the dollar (Macauley) duration."
   ]
  },
  {
   "cell_type": "code",
   "execution_count": 55,
   "id": "3a8ba7a5",
   "metadata": {},
   "outputs": [
    {
     "data": {
      "text/plain": [
       "<AxesSubplot:title={'center':'Dicount Factor Based off Current Yield'}>"
      ]
     },
     "execution_count": 55,
     "metadata": {},
     "output_type": "execute_result"
    },
    {
     "data": {
      "image/png": "[encoded data removed]",
      "text/plain": [
       "<Figure size 700x300 with 1 Axes>"
      ]
     },
     "metadata": {},
     "output_type": "display_data"
    }
   ],
   "source": [
    "rate = .0419/2\n",
    "maturidy_grid = pd.Series(treasury_cmds.get_maturity_delta(pd.to_datetime(CF.columns.values), t_current=t_current), index = CF.columns)\n",
    "discount_factor = np.exp(-rate*maturidy_grid)\n",
    "curves = pd.DataFrame(discount_factor, columns =['Discount_Factor'], index = CF.columns)\n",
    "curves.plot(figsize=(7,3), title = 'Dicount Factor Based off Current Yield')"
   ]
  },
  {
   "cell_type": "code",
   "execution_count": 54,
   "id": "bb311beb",
   "metadata": {},
   "outputs": [
    {
     "data": {
      "text/html": [
       "<div>\n",
       "<style scoped>\n",
       "    .dataframe tbody tr th:only-of-type {\n",
       "        vertical-align: middle;\n",
       "    }\n",
       "\n",
       "    .dataframe tbody tr th {\n",
       "        vertical-align: top;\n",
       "    }\n",
       "\n",
       "    .dataframe thead th {\n",
       "        text-align: right;\n",
       "    }\n",
       "</style>\n",
       "<table border=\"1\" class=\"dataframe\">\n",
       "  <thead>\n",
       "    <tr style=\"text-align: right;\">\n",
       "      <th></th>\n",
       "      <th>Duration</th>\n",
       "    </tr>\n",
       "    <tr>\n",
       "      <th>QUOTE</th>\n",
       "      <th></th>\n",
       "    </tr>\n",
       "  </thead>\n",
       "  <tbody>\n",
       "    <tr>\n",
       "      <th>FixedSwap</th>\n",
       "      <td>29.715256</td>\n",
       "    </tr>\n",
       "    <tr>\n",
       "      <th>30-Year-Treasury</th>\n",
       "      <td>29.715648</td>\n",
       "    </tr>\n",
       "    <tr>\n",
       "      <th>Duration_SWAP</th>\n",
       "      <td>-29.215256</td>\n",
       "    </tr>\n",
       "  </tbody>\n",
       "</table>\n",
       "</div>"
      ],
      "text/plain": [
       "                   Duration\n",
       "QUOTE                      \n",
       "FixedSwap         29.715256\n",
       "30-Year-Treasury  29.715648\n",
       "Duration_SWAP    -29.215256"
      ]
     },
     "execution_count": 54,
     "metadata": {},
     "output_type": "execute_result"
    }
   ],
   "source": [
    "wts = CF.mul(curves['Discount_Factor'], axis = 1)\n",
    "wts = wts.div(wts.sum(axis = 1), axis = 0)\n",
    "duration = (wts @ maturidy_grid)\n",
    "duration = pd.DataFrame(duration, columns = ['Duration'])\n",
    "duration = duration.loc['FixedSwap':'30-Year-Treasury',:]\n",
    "duration.loc['Duration_SWAP',:] = .5 - duration.loc['FixedSwap',:]\n",
    "duration\n",
    "# Since it is a reset date, the duration of the swap = .5 - duration of the FIXED Leg."
   ]
  },
  {
   "cell_type": "code",
   "execution_count": 64,
   "id": "2bc0ce07",
   "metadata": {},
   "outputs": [
    {
     "data": {
      "text/plain": [
       "QUOTE\n",
       "Float(30-Year-Yield)    101.2579\n",
       "FixedSwap               101.2768\n",
       "30-Year-Treasury        101.2750\n",
       "VSWAP                    -0.0189\n",
       "CF_Trade                101.2561\n",
       "dtype: float64"
      ]
     },
     "execution_count": 64,
     "metadata": {},
     "output_type": "execute_result"
    }
   ],
   "source": []
  },
  {
   "cell_type": "markdown",
   "id": "5b1fd4c0",
   "metadata": {},
   "source": [
    "## 1.3\n",
    "\n",
    "What hedge ratio should be used to balance the notional size of the Treasury bond with the notional size of the swap, such that it is a duration-neutral position?\n",
    "\n",
    "Specifically, if the trader enters the swap paying fixed on \\$500 million notional, how large of a position should they take in the Treasury bond?"
   ]
  },
  {
   "cell_type": "markdown",
   "id": "21ec3280",
   "metadata": {},
   "source": [
    "## 1.4\n",
    "\n",
    "Suppose it is May 4, 2009, exactly six months after putting the trade on.\n",
    "\n",
    "The spread is at -28 bps due to...\n",
    "* The YTM on a new 30-year bond has risen to 4.36\\%\n",
    "* The swap rate on a new 30-year swap has dropped to 4.08\\%\n",
    "\n",
    "Explain conceptually how this movement impacts the components of the trade."
   ]
  },
  {
   "cell_type": "markdown",
   "id": "e2325c56",
   "metadata": {},
   "source": [
    "## 1.5\n",
    "\n",
    "Calculate the value of the position on May 4, 2009, immediately after the first coupon and swap payments and swap reset. \n",
    "\n",
    "* Calculate the revised price of the Treasury bond by assuming you can apply the (May 4) 30-year YTM as a discount rate to the 29.5 year bond. (We are just using this for a rough approximation. You know that good pricing would require a discount curve, but let's not get bogged down with that here.)\n",
    "\n",
    "\n",
    "* Calculate the value of the swap by decomposing it into a fixed-rate bond and a floating-rate bond.\n",
    "    * The 29.5 year fixed-rate leg is priced using the (May 4) 30-year swap rate as a discount rate.\n",
    "    * The floating-rate leg is priced at par given that floating-rate notes are par immediately after resets.\n",
    "    \n",
    "**Note**\n",
    "\n",
    "You are being asked to calculate these valuations using the exact formula between price, cashflows, and YTM discount rate. We are not simply approximating with duration, as we already know the position was set up with zero dollar duration.\n",
    "\n",
    "From the Discussion 1 notebook, we have this formula expressing a bond's price as a function of the coupon, $c$, and the YTM, $y_j$.\n",
    "\n",
    "$\\begin{align*}\n",
    "P_j(t,T,c) = \\sum_{i=1}^{n-1}\\frac{100\\left(\\frac{c}{2}\\right)}{\\left(1+\\frac{y_j}{2}\\right)^{2(T_i-t)}} + \\frac{100\\left(1+\\frac{c}{2}\\right)}{\\left(1+\\frac{y_j}{2}\\right)^{2(T-t)}}\n",
    "\\end{align*}\n",
    "$"
   ]
  },
  {
   "cell_type": "markdown",
   "id": "9a722d70",
   "metadata": {},
   "source": [
    "## 1.6\n",
    "\n",
    "Accounting for the change in value of the positions, as well as the 6-month cashflows paid on May 4, \n",
    "* what is the net profit and loss (pnl) of the position?\n",
    "* what is the return on the equity capital, considering that there was a 2\\% haircut (equity contribution) on the size of the initial treasury bond position."
   ]
  }
 ],
 "metadata": {
  "hide_input": false,
  "kernelspec": {
   "display_name": "base",
   "language": "python",
   "name": "python3"
  },
  "language_info": {
   "codemirror_mode": {
    "name": "ipython",
    "version": 3
   },
   "file_extension": ".py",
   "mimetype": "text/x-python",
   "name": "python",
   "nbconvert_exporter": "python",
   "pygments_lexer": "ipython3",
   "version": "3.9.13"
  },
  "vscode": {
   "interpreter": {
    "hash": "44a761cc06a695ddb39d99b7e807436f731f960c127538853a5b90f596df33e4"
   }
  }
 },
 "nbformat": 4,
 "nbformat_minor": 5
}
