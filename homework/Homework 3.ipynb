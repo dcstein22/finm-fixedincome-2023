{
 "cells": [
  {
   "cell_type": "markdown",
   "id": "3e013a68",
   "metadata": {},
   "source": [
    "# Homework 3\n",
    "\n",
    "## FINM 37400 - 2023\n",
    "\n",
    "### UChicago Financial Mathematics\n",
    "\n",
    "* Mark Hendricks\n",
    "* hendricks@uchicago.edu"
   ]
  },
  {
   "cell_type": "markdown",
   "id": "ad9a8968",
   "metadata": {},
   "source": [
    "# 1 HBS Case: Fixed-Income Arbitrage in a Financial Crisis (C): Spread and Swap Spread in November 2008"
   ]
  },
  {
   "cell_type": "markdown",
   "id": "c4f31467",
   "metadata": {},
   "source": [
    "## Simplification of the setup\n",
    "\n",
    "The date is Nov 4, 2008.\n",
    "\n",
    "**Treasury bond**\n",
    "* Suppose the Treasury bond matures exactly 30 years later, on Nov 4, 2038 rather than May 15, 2008. \n",
    "* The YTM of this freshly issued treasury is 4.193\\% with a semiannual coupon of 4.25\\%, same as is given in the case. (So we're just changing the maturity date to simplify things, but keeping the market data.)\n",
    "\n",
    "**Swap**\n",
    "* The fixed leg of the swap pays semiannually, with swap rate of 4.2560\\%, as given in the case.\n",
    "* The floating leg of the swap also pays semiannually--not quarterly--such that the payment dates are identical on both legs. Thus, it also resets the floating rate semiannually, not quarterly.\n",
    "* The floating rate of the swap equals the repo rate used in the trade. Thus, these two rates cancel in the financing of the trade. (No need to consider the TED spread.) "
   ]
  },
  {
   "cell_type": "code",
   "execution_count": 49,
   "id": "677b5af2",
   "metadata": {},
   "outputs": [],
   "source": [
    "import pandas as pd\n",
    "import numpy as np\n",
    "import datetime\n",
    "import warnings\n",
    "import statsmodels.api as sm\n",
    "\n",
    "from sklearn.linear_model import LinearRegression\n",
    "import scipy.optimize as optimize\n",
    "\n",
    "import matplotlib.pyplot as plt\n",
    "%matplotlib inline\n",
    "plt.rcParams['figure.figsize'] = (12,6)\n",
    "plt.rcParams['font.size'] = 15\n",
    "plt.rcParams['legend.fontsize'] = 13\n",
    "import seaborn as sns\n",
    "sns.set(rc={'figure.figsize':(15, 10)})\n",
    "import treasury_cmds\n"
   ]
  },
  {
   "cell_type": "markdown",
   "id": "1ae4b149",
   "metadata": {},
   "source": [
    "## 1.1\n",
    "\n",
    "List the projected cashflows on May 4, 2009, exactly six months into the trade, on the first coupon and swap date."
   ]
  },
  {
   "attachments": {},
   "cell_type": "markdown",
   "id": "d4166891",
   "metadata": {},
   "source": [
    "- The first exchange of payments of this trade exactly 6-months ahead require a fixed rate payment of 4.2560% and a floating rate payment of the prevailing yield 6-months prior to the exchange of cashflows. In this case the yield is 4.193%.\n"
   ]
  },
  {
   "cell_type": "code",
   "execution_count": 52,
   "id": "7931d3d8",
   "metadata": {},
   "outputs": [
    {
     "data": {
      "text/html": [
       "<div>\n",
       "<style scoped>\n",
       "    .dataframe tbody tr th:only-of-type {\n",
       "        vertical-align: middle;\n",
       "    }\n",
       "\n",
       "    .dataframe tbody tr th {\n",
       "        vertical-align: top;\n",
       "    }\n",
       "\n",
       "    .dataframe thead th {\n",
       "        text-align: right;\n",
       "    }\n",
       "</style>\n",
       "<table border=\"1\" class=\"dataframe\">\n",
       "  <thead>\n",
       "    <tr style=\"text-align: right;\">\n",
       "      <th></th>\n",
       "      <th>2009-05-04</th>\n",
       "      <th>2009-11-04</th>\n",
       "      <th>2010-05-04</th>\n",
       "      <th>2010-11-04</th>\n",
       "      <th>2011-05-04</th>\n",
       "      <th>2011-11-04</th>\n",
       "      <th>2012-05-04</th>\n",
       "      <th>2012-11-04</th>\n",
       "      <th>2013-05-04</th>\n",
       "      <th>2013-11-04</th>\n",
       "      <th>...</th>\n",
       "      <th>2034-05-04</th>\n",
       "      <th>2034-11-04</th>\n",
       "      <th>2035-05-04</th>\n",
       "      <th>2035-11-04</th>\n",
       "      <th>2036-05-04</th>\n",
       "      <th>2036-11-04</th>\n",
       "      <th>2037-05-04</th>\n",
       "      <th>2037-11-04</th>\n",
       "      <th>2038-05-04</th>\n",
       "      <th>2038-11-04</th>\n",
       "    </tr>\n",
       "    <tr>\n",
       "      <th>QUOTE</th>\n",
       "      <th></th>\n",
       "      <th></th>\n",
       "      <th></th>\n",
       "      <th></th>\n",
       "      <th></th>\n",
       "      <th></th>\n",
       "      <th></th>\n",
       "      <th></th>\n",
       "      <th></th>\n",
       "      <th></th>\n",
       "      <th></th>\n",
       "      <th></th>\n",
       "      <th></th>\n",
       "      <th></th>\n",
       "      <th></th>\n",
       "      <th></th>\n",
       "      <th></th>\n",
       "      <th></th>\n",
       "      <th></th>\n",
       "      <th></th>\n",
       "      <th></th>\n",
       "    </tr>\n",
       "  </thead>\n",
       "  <tbody>\n",
       "    <tr>\n",
       "      <th>Treasury_Bond</th>\n",
       "      <td>0.02125</td>\n",
       "      <td>0.02125</td>\n",
       "      <td>0.02125</td>\n",
       "      <td>0.02125</td>\n",
       "      <td>0.02125</td>\n",
       "      <td>0.02125</td>\n",
       "      <td>0.02125</td>\n",
       "      <td>0.02125</td>\n",
       "      <td>0.02125</td>\n",
       "      <td>0.02125</td>\n",
       "      <td>...</td>\n",
       "      <td>0.02125</td>\n",
       "      <td>0.02125</td>\n",
       "      <td>0.02125</td>\n",
       "      <td>0.02125</td>\n",
       "      <td>0.02125</td>\n",
       "      <td>0.02125</td>\n",
       "      <td>0.02125</td>\n",
       "      <td>0.02125</td>\n",
       "      <td>0.02125</td>\n",
       "      <td>100.02125</td>\n",
       "    </tr>\n",
       "    <tr>\n",
       "      <th>FixedSwap</th>\n",
       "      <td>0.02128</td>\n",
       "      <td>0.02128</td>\n",
       "      <td>0.02128</td>\n",
       "      <td>0.02128</td>\n",
       "      <td>0.02128</td>\n",
       "      <td>0.02128</td>\n",
       "      <td>0.02128</td>\n",
       "      <td>0.02128</td>\n",
       "      <td>0.02128</td>\n",
       "      <td>0.02128</td>\n",
       "      <td>...</td>\n",
       "      <td>0.02128</td>\n",
       "      <td>0.02128</td>\n",
       "      <td>0.02128</td>\n",
       "      <td>0.02128</td>\n",
       "      <td>0.02128</td>\n",
       "      <td>0.02128</td>\n",
       "      <td>0.02128</td>\n",
       "      <td>0.02128</td>\n",
       "      <td>0.02128</td>\n",
       "      <td>100.02128</td>\n",
       "    </tr>\n",
       "  </tbody>\n",
       "</table>\n",
       "<p>2 rows × 60 columns</p>\n",
       "</div>"
      ],
      "text/plain": [
       "               2009-05-04  2009-11-04  2010-05-04  2010-11-04  2011-05-04  \\\n",
       "QUOTE                                                                       \n",
       "Treasury_Bond     0.02125     0.02125     0.02125     0.02125     0.02125   \n",
       "FixedSwap         0.02128     0.02128     0.02128     0.02128     0.02128   \n",
       "\n",
       "               2011-11-04  2012-05-04  2012-11-04  2013-05-04  2013-11-04  \\\n",
       "QUOTE                                                                       \n",
       "Treasury_Bond     0.02125     0.02125     0.02125     0.02125     0.02125   \n",
       "FixedSwap         0.02128     0.02128     0.02128     0.02128     0.02128   \n",
       "\n",
       "               ...  2034-05-04  2034-11-04  2035-05-04  2035-11-04  \\\n",
       "QUOTE          ...                                                   \n",
       "Treasury_Bond  ...     0.02125     0.02125     0.02125     0.02125   \n",
       "FixedSwap      ...     0.02128     0.02128     0.02128     0.02128   \n",
       "\n",
       "               2036-05-04  2036-11-04  2037-05-04  2037-11-04  2038-05-04  \\\n",
       "QUOTE                                                                       \n",
       "Treasury_Bond     0.02125     0.02125     0.02125     0.02125     0.02125   \n",
       "FixedSwap         0.02128     0.02128     0.02128     0.02128     0.02128   \n",
       "\n",
       "               2038-11-04  \n",
       "QUOTE                      \n",
       "Treasury_Bond   100.02125  \n",
       "FixedSwap       100.02128  \n",
       "\n",
       "[2 rows x 60 columns]"
      ]
     },
     "execution_count": 52,
     "metadata": {},
     "output_type": "execute_result"
    }
   ],
   "source": [
    "df = {'CALDT':['2008-11-4','2008-11-4'], 'TMATDT':['2038-11-4','2038-11-4',],'TCOUPRT':[.0425,.04256], 'QUOTE':['Treasury_Bond','FixedSwap']}\n",
    "df_1 = pd.DataFrame(df).set_index('QUOTE')\n",
    "df_1['CALDT'] = pd.to_datetime(df_1['CALDT'])\n",
    "df_1['TMATDT'] = pd.to_datetime(df_1['TMATDT'])\n",
    "CF = treasury_cmds.calc_cashflows(df_1)\n",
    "CF"
   ]
  },
  {
   "cell_type": "code",
   "execution_count": 53,
   "id": "5e92acc5",
   "metadata": {},
   "outputs": [
    {
     "data": {
      "text/html": [
       "<div>\n",
       "<style scoped>\n",
       "    .dataframe tbody tr th:only-of-type {\n",
       "        vertical-align: middle;\n",
       "    }\n",
       "\n",
       "    .dataframe tbody tr th {\n",
       "        vertical-align: top;\n",
       "    }\n",
       "\n",
       "    .dataframe thead th {\n",
       "        text-align: right;\n",
       "    }\n",
       "</style>\n",
       "<table border=\"1\" class=\"dataframe\">\n",
       "  <thead>\n",
       "    <tr style=\"text-align: right;\">\n",
       "      <th></th>\n",
       "      <th>Projected Cashflow on May 4 2009</th>\n",
       "    </tr>\n",
       "    <tr>\n",
       "      <th>QUOTE</th>\n",
       "      <th></th>\n",
       "    </tr>\n",
       "  </thead>\n",
       "  <tbody>\n",
       "    <tr>\n",
       "      <th>Treasury_Bond</th>\n",
       "      <td>2.125</td>\n",
       "    </tr>\n",
       "    <tr>\n",
       "      <th>FixedSwap</th>\n",
       "      <td>2.128</td>\n",
       "    </tr>\n",
       "    <tr>\n",
       "      <th>VSWAP</th>\n",
       "      <td>-0.003</td>\n",
       "    </tr>\n",
       "  </tbody>\n",
       "</table>\n",
       "</div>"
      ],
      "text/plain": [
       "               Projected Cashflow on May 4 2009\n",
       "QUOTE                                          \n",
       "Treasury_Bond                             2.125\n",
       "FixedSwap                                 2.128\n",
       "VSWAP                                    -0.003"
      ]
     },
     "execution_count": 53,
     "metadata": {},
     "output_type": "execute_result"
    }
   ],
   "source": [
    "CF.loc['VSWAP',:] = CF.loc['Treasury_Bond',:]-CF.loc['FixedSwap',:]\n",
    "# Multiply the CF by Notonal Value\n",
    "CF = CF*100\n",
    "CF.loc[:,'2009-05-04'].to_frame('Projected Cashflow on May 4 2009')"
   ]
  },
  {
   "attachments": {},
   "cell_type": "markdown",
   "id": "265c04bf",
   "metadata": {},
   "source": [
    "The projected cashflows are equal to this formula 6 months ahead is equal to\n",
    "\n",
    "$V_{swap} = K freq[r_{k}(T_{i-1}, T_{t}) - c_{swap}]$\n",
    "\n",
    "- Thus as of May 4, 2009, the value of the swap from the point of view for the fixed payer is -31,500$.\n",
    "\n"
   ]
  },
  {
   "cell_type": "markdown",
   "id": "f20aa5eb",
   "metadata": {},
   "source": [
    "## 1.2\n",
    "\n",
    "What is the duration of...\n",
    "* the T-bond\n",
    "* the swap\n",
    "\n",
    "Remember that...\n",
    "* the swap can be decomposed into a fixed-rate bond and a floating-rate note\n",
    "* a floating-rate note has duration equal to the time until the next reset. Thus, at initialization, it has duration equal to 0.5 years.\n",
    "\n",
    "Is the duration for the \"paying-fixed\" swap positive or negative? Is it bigger or smaller in magnitude than the T-bond?\n",
    "\n",
    "For this problem, calculate the Macauley duration and the dollar (Macauley) duration."
   ]
  },
  {
   "cell_type": "markdown",
   "id": "5b1fd4c0",
   "metadata": {},
   "source": [
    "## 1.3\n",
    "\n",
    "What hedge ratio should be used to balance the notional size of the Treasury bond with the notional size of the swap, such that it is a duration-neutral position?\n",
    "\n",
    "Specifically, if the trader enters the swap paying fixed on \\$500 million notional, how large of a position should they take in the Treasury bond?"
   ]
  },
  {
   "cell_type": "markdown",
   "id": "21ec3280",
   "metadata": {},
   "source": [
    "## 1.4\n",
    "\n",
    "Suppose it is May 4, 2009, exactly six months after putting the trade on.\n",
    "\n",
    "The spread is at -28 bps due to...\n",
    "* The YTM on a new 30-year bond has risen to 4.36\\%\n",
    "* The swap rate on a new 30-year swap has dropped to 4.08\\%\n",
    "\n",
    "Explain conceptually how this movement impacts the components of the trade."
   ]
  },
  {
   "cell_type": "markdown",
   "id": "e2325c56",
   "metadata": {},
   "source": [
    "## 1.5\n",
    "\n",
    "Calculate the value of the position on May 4, 2009, immediately after the first coupon and swap payments and swap reset. \n",
    "\n",
    "* Calculate the revised price of the Treasury bond by assuming you can apply the (May 4) 30-year YTM as a discount rate to the 29.5 year bond. (We are just using this for a rough approximation. You know that good pricing would require a discount curve, but let's not get bogged down with that here.)\n",
    "\n",
    "\n",
    "* Calculate the value of the swap by decomposing it into a fixed-rate bond and a floating-rate bond.\n",
    "    * The 29.5 year fixed-rate leg is priced using the (May 4) 30-year swap rate as a discount rate.\n",
    "    * The floating-rate leg is priced at par given that floating-rate notes are par immediately after resets.\n",
    "    \n",
    "**Note**\n",
    "\n",
    "You are being asked to calculate these valuations using the exact formula between price, cashflows, and YTM discount rate. We are not simply approximating with duration, as we already know the position was set up with zero dollar duration.\n",
    "\n",
    "From the Discussion 1 notebook, we have this formula expressing a bond's price as a function of the coupon, $c$, and the YTM, $y_j$.\n",
    "\n",
    "$\\begin{align*}\n",
    "P_j(t,T,c) = \\sum_{i=1}^{n-1}\\frac{100\\left(\\frac{c}{2}\\right)}{\\left(1+\\frac{y_j}{2}\\right)^{2(T_i-t)}} + \\frac{100\\left(1+\\frac{c}{2}\\right)}{\\left(1+\\frac{y_j}{2}\\right)^{2(T-t)}}\n",
    "\\end{align*}\n",
    "$"
   ]
  },
  {
   "cell_type": "markdown",
   "id": "9a722d70",
   "metadata": {},
   "source": [
    "## 1.6\n",
    "\n",
    "Accounting for the change in value of the positions, as well as the 6-month cashflows paid on May 4, \n",
    "* what is the net profit and loss (pnl) of the position?\n",
    "* what is the return on the equity capital, considering that there was a 2\\% haircut (equity contribution) on the size of the initial treasury bond position."
   ]
  }
 ],
 "metadata": {
  "hide_input": false,
  "kernelspec": {
   "display_name": "base",
   "language": "python",
   "name": "python3"
  },
  "language_info": {
   "codemirror_mode": {
    "name": "ipython",
    "version": 3
   },
   "file_extension": ".py",
   "mimetype": "text/x-python",
   "name": "python",
   "nbconvert_exporter": "python",
   "pygments_lexer": "ipython3",
   "version": "3.9.13"
  },
  "vscode": {
   "interpreter": {
    "hash": "44a761cc06a695ddb39d99b7e807436f731f960c127538853a5b90f596df33e4"
   }
  }
 },
 "nbformat": 4,
 "nbformat_minor": 5
}
