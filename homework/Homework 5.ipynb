{
 "cells": [
  {
   "cell_type": "markdown",
   "id": "3e013a68",
   "metadata": {},
   "source": [
    "# Homework 5\n",
    "\n",
    "## FINM 37400 - 2023\n",
    "\n",
    "### UChicago Financial Mathematics\n",
    "\n",
    "* Mark Hendricks\n",
    "* hendricks@uchicago.edu"
   ]
  },
  {
   "cell_type": "markdown",
   "id": "c509a321",
   "metadata": {},
   "source": [
    "# 1. Forward Rates"
   ]
  },
  {
   "cell_type": "markdown",
   "id": "d31bd42d",
   "metadata": {},
   "source": [
    "Use the data set `treasury_zero_coupon_2022-12-30.xlsx`.\n",
    "\n",
    "It gives prices on **zero coupon bonds** with maturities of 1 through 5 years.\n",
    "* These are prices per \\\\$1 face value on bonds that only pay principal.\n",
    "* Such bonds can be created from treasuries by *stripping* out their coupons.\n",
    "* In essence, you can consider these prices as the discount factors $Z$, for maturity intervals 1 through 5 years.\n",
    "\n",
    "In this problem, we focus on six dates: the month of December in 2017 through 2022."
   ]
  },
  {
   "cell_type": "code",
   "execution_count": 27,
   "id": "9c6acf78",
   "metadata": {},
   "outputs": [],
   "source": [
    "import pandas as pd\n",
    "import numpy as np\n",
    "import datetime\n",
    "import warnings\n",
    "from sklearn.linear_model import LinearRegression\n",
    "from scipy.optimize import minimize\n",
    "from scipy import interpolate\n",
    "from pandas.tseries.holiday import USFederalHolidayCalendar\n",
    "from pandas.tseries.offsets import CustomBusinessDay\n",
    "import holidays\n",
    "\n",
    "import matplotlib.pyplot as plt\n",
    "%matplotlib inline\n",
    "plt.rcParams['figure.figsize'] = (12,6)\n",
    "plt.rcParams['font.size'] = 15\n",
    "plt.rcParams['legend.fontsize'] = 13\n",
    "\n",
    "from matplotlib.ticker import (MultipleLocator,\n",
    "                               FormatStrFormatter,\n",
    "                               AutoMinorLocator)\n",
    "import sys\n",
    "import treasury_cmds"
   ]
  },
  {
   "cell_type": "code",
   "execution_count": 68,
   "id": "24aff680",
   "metadata": {},
   "outputs": [],
   "source": [
    "treasury_zero_coupon = pd.read_excel('C:/Users/dcste/OneDrive/fixed_income/fixed_income_FORKED/finm-fixedincome-2023/data/treasury_zero_coupon_2022-12-30.xlsx')"
   ]
  },
  {
   "cell_type": "code",
   "execution_count": 69,
   "id": "25c440fa",
   "metadata": {},
   "outputs": [],
   "source": [
    "treasury_zero_coupon = treasury_zero_coupon.set_index('date')\n",
    "dates_ = ['2017-12-29','2018-12-31','2019-12-31','2020-12-31','2021-12-31','2022-12-30']"
   ]
  },
  {
   "cell_type": "code",
   "execution_count": 74,
   "id": "eebe0841",
   "metadata": {},
   "outputs": [],
   "source": [
    "selected_treasury_dates = treasury_zero_coupon.loc[dates_,:]"
   ]
  },
  {
   "cell_type": "code",
   "execution_count": 76,
   "id": "b62e46f6",
   "metadata": {},
   "outputs": [
    {
     "data": {
      "text/html": [
       "<div>\n",
       "<style scoped>\n",
       "    .dataframe tbody tr th:only-of-type {\n",
       "        vertical-align: middle;\n",
       "    }\n",
       "\n",
       "    .dataframe tbody tr th {\n",
       "        vertical-align: top;\n",
       "    }\n",
       "\n",
       "    .dataframe thead th {\n",
       "        text-align: right;\n",
       "    }\n",
       "</style>\n",
       "<table border=\"1\" class=\"dataframe\">\n",
       "  <thead>\n",
       "    <tr style=\"text-align: right;\">\n",
       "      <th></th>\n",
       "      <th>1</th>\n",
       "      <th>2</th>\n",
       "      <th>3</th>\n",
       "      <th>4</th>\n",
       "      <th>5</th>\n",
       "    </tr>\n",
       "    <tr>\n",
       "      <th>date</th>\n",
       "      <th></th>\n",
       "      <th></th>\n",
       "      <th></th>\n",
       "      <th></th>\n",
       "      <th></th>\n",
       "    </tr>\n",
       "  </thead>\n",
       "  <tbody>\n",
       "    <tr>\n",
       "      <th>2017-12-29</th>\n",
       "      <td>0.982422</td>\n",
       "      <td>0.963139</td>\n",
       "      <td>0.942395</td>\n",
       "      <td>0.918869</td>\n",
       "      <td>0.895638</td>\n",
       "    </tr>\n",
       "    <tr>\n",
       "      <th>2018-12-31</th>\n",
       "      <td>0.974310</td>\n",
       "      <td>0.951959</td>\n",
       "      <td>0.929327</td>\n",
       "      <td>0.905801</td>\n",
       "      <td>0.882568</td>\n",
       "    </tr>\n",
       "    <tr>\n",
       "      <th>2019-12-31</th>\n",
       "      <td>0.984394</td>\n",
       "      <td>0.968938</td>\n",
       "      <td>0.952964</td>\n",
       "      <td>0.935710</td>\n",
       "      <td>0.918910</td>\n",
       "    </tr>\n",
       "    <tr>\n",
       "      <th>2020-12-31</th>\n",
       "      <td>0.998959</td>\n",
       "      <td>0.997520</td>\n",
       "      <td>0.995299</td>\n",
       "      <td>0.989455</td>\n",
       "      <td>0.981537</td>\n",
       "    </tr>\n",
       "    <tr>\n",
       "      <th>2021-12-31</th>\n",
       "      <td>0.996173</td>\n",
       "      <td>0.985500</td>\n",
       "      <td>0.971251</td>\n",
       "      <td>0.954872</td>\n",
       "      <td>0.938668</td>\n",
       "    </tr>\n",
       "    <tr>\n",
       "      <th>2022-12-30</th>\n",
       "      <td>0.954636</td>\n",
       "      <td>0.916229</td>\n",
       "      <td>0.883347</td>\n",
       "      <td>0.851046</td>\n",
       "      <td>0.820298</td>\n",
       "    </tr>\n",
       "  </tbody>\n",
       "</table>\n",
       "</div>"
      ],
      "text/plain": [
       "                   1         2         3         4         5\n",
       "date                                                        \n",
       "2017-12-29  0.982422  0.963139  0.942395  0.918869  0.895638\n",
       "2018-12-31  0.974310  0.951959  0.929327  0.905801  0.882568\n",
       "2019-12-31  0.984394  0.968938  0.952964  0.935710  0.918910\n",
       "2020-12-31  0.998959  0.997520  0.995299  0.989455  0.981537\n",
       "2021-12-31  0.996173  0.985500  0.971251  0.954872  0.938668\n",
       "2022-12-30  0.954636  0.916229  0.883347  0.851046  0.820298"
      ]
     },
     "execution_count": 76,
     "metadata": {},
     "output_type": "execute_result"
    }
   ],
   "source": [
    "selected_treasury_dates"
   ]
  },
  {
   "cell_type": "code",
   "execution_count": 81,
   "id": "04aa0528",
   "metadata": {},
   "outputs": [],
   "source": [
    "# (1.1)\n",
    "def forward_discount_factor(df):\n",
    "    F_discount_factors = pd.DataFrame(columns=df.columns)\n",
    "    col = df.columns\n",
    "    for i in range(len(df.columns)-1):\n",
    "        F_discount_factors[col[i+1]] = df[col[i+1]].divide(df[col[i]])\n",
    "\n",
    "    F_curve = pd.DataFrame(F_discount_factors)\n",
    "    return F_curve"
   ]
  },
  {
   "cell_type": "code",
   "execution_count": null,
   "id": "8d75be0d",
   "metadata": {},
   "outputs": [],
   "source": [
    "# (1.2)\n",
    "def forward_rates(F_discount_factor_curve_df, time_delta):\n",
    "    f_rates = pd.DataFrame(columns = F_discount_factor_curve_df.columns)\n",
    "    f_rates = -np.log(F_discount_factor_curve_df.astype('float64'))/time_delta\n",
    "    return f_rates"
   ]
  },
  {
   "cell_type": "code",
   "execution_count": 82,
   "id": "d6ec5d9c",
   "metadata": {},
   "outputs": [],
   "source": [
    "discount_factors = forward_discount_factor(selected_treasury_dates)"
   ]
  },
  {
   "cell_type": "code",
   "execution_count": 83,
   "id": "d9f2c6f6",
   "metadata": {},
   "outputs": [
    {
     "data": {
      "text/html": [
       "<div>\n",
       "<style scoped>\n",
       "    .dataframe tbody tr th:only-of-type {\n",
       "        vertical-align: middle;\n",
       "    }\n",
       "\n",
       "    .dataframe tbody tr th {\n",
       "        vertical-align: top;\n",
       "    }\n",
       "\n",
       "    .dataframe thead th {\n",
       "        text-align: right;\n",
       "    }\n",
       "</style>\n",
       "<table border=\"1\" class=\"dataframe\">\n",
       "  <thead>\n",
       "    <tr style=\"text-align: right;\">\n",
       "      <th></th>\n",
       "      <th>1</th>\n",
       "      <th>2</th>\n",
       "      <th>3</th>\n",
       "      <th>4</th>\n",
       "      <th>5</th>\n",
       "    </tr>\n",
       "    <tr>\n",
       "      <th>date</th>\n",
       "      <th></th>\n",
       "      <th></th>\n",
       "      <th></th>\n",
       "      <th></th>\n",
       "      <th></th>\n",
       "    </tr>\n",
       "  </thead>\n",
       "  <tbody>\n",
       "    <tr>\n",
       "      <th>2017-12-29</th>\n",
       "      <td>NaN</td>\n",
       "      <td>0.980372</td>\n",
       "      <td>0.978461</td>\n",
       "      <td>0.975036</td>\n",
       "      <td>0.974718</td>\n",
       "    </tr>\n",
       "    <tr>\n",
       "      <th>2018-12-31</th>\n",
       "      <td>NaN</td>\n",
       "      <td>0.977060</td>\n",
       "      <td>0.976226</td>\n",
       "      <td>0.974684</td>\n",
       "      <td>0.974351</td>\n",
       "    </tr>\n",
       "    <tr>\n",
       "      <th>2019-12-31</th>\n",
       "      <td>NaN</td>\n",
       "      <td>0.984299</td>\n",
       "      <td>0.983514</td>\n",
       "      <td>0.981894</td>\n",
       "      <td>0.982046</td>\n",
       "    </tr>\n",
       "    <tr>\n",
       "      <th>2020-12-31</th>\n",
       "      <td>NaN</td>\n",
       "      <td>0.998560</td>\n",
       "      <td>0.997773</td>\n",
       "      <td>0.994129</td>\n",
       "      <td>0.991997</td>\n",
       "    </tr>\n",
       "    <tr>\n",
       "      <th>2021-12-31</th>\n",
       "      <td>NaN</td>\n",
       "      <td>0.989286</td>\n",
       "      <td>0.985541</td>\n",
       "      <td>0.983136</td>\n",
       "      <td>0.983031</td>\n",
       "    </tr>\n",
       "    <tr>\n",
       "      <th>2022-12-30</th>\n",
       "      <td>NaN</td>\n",
       "      <td>0.959768</td>\n",
       "      <td>0.964111</td>\n",
       "      <td>0.963434</td>\n",
       "      <td>0.963870</td>\n",
       "    </tr>\n",
       "  </tbody>\n",
       "</table>\n",
       "</div>"
      ],
      "text/plain": [
       "              1         2         3         4         5\n",
       "date                                                   \n",
       "2017-12-29  NaN  0.980372  0.978461  0.975036  0.974718\n",
       "2018-12-31  NaN  0.977060  0.976226  0.974684  0.974351\n",
       "2019-12-31  NaN  0.984299  0.983514  0.981894  0.982046\n",
       "2020-12-31  NaN  0.998560  0.997773  0.994129  0.991997\n",
       "2021-12-31  NaN  0.989286  0.985541  0.983136  0.983031\n",
       "2022-12-30  NaN  0.959768  0.964111  0.963434  0.963870"
      ]
     },
     "execution_count": 83,
     "metadata": {},
     "output_type": "execute_result"
    }
   ],
   "source": [
    "discount_factors"
   ]
  },
  {
   "cell_type": "markdown",
   "id": "19845af0",
   "metadata": {},
   "source": [
    "## 1.1\n",
    "\n",
    "For each of the six dates, (Dec 2017, Dec 2018, ...), calculate the forward discount factor, $F(t,T_1,T_2)$, where $T_2 = T_1 + 1$ for $1\\le T_1\\le 4$.\n",
    "\n",
    "Make a plot of the curve $F$ at each of these six dates."
   ]
  },
  {
   "cell_type": "code",
   "execution_count": 84,
   "id": "29fdd4e4",
   "metadata": {},
   "outputs": [
    {
     "data": {
      "text/plain": [
       "[<matplotlib.lines.Line2D at 0x1692e7e99a0>,\n",
       " <matplotlib.lines.Line2D at 0x1692e0a3250>,\n",
       " <matplotlib.lines.Line2D at 0x1692e0a3310>,\n",
       " <matplotlib.lines.Line2D at 0x1692e0a34f0>,\n",
       " <matplotlib.lines.Line2D at 0x1692e0a3610>]"
      ]
     },
     "execution_count": 84,
     "metadata": {},
     "output_type": "execute_result"
    },
    {
     "data": {
      "image/png": "[encoded data removed]",
      "text/plain": [
       "<Figure size 1200x600 with 1 Axes>"
      ]
     },
     "metadata": {},
     "output_type": "display_data"
    }
   ],
   "source": [
    "plt.plot(discount_factors)"
   ]
  },
  {
   "cell_type": "markdown",
   "id": "43ff9ac2",
   "metadata": {},
   "source": [
    "## 1.2\n",
    "\n"
   ]
  },
  {
   "cell_type": "markdown",
   "id": "3dafd627",
   "metadata": {},
   "source": [
    "Use $F$ above to calculate the continuously compounded forward rates, $f$, at the six dates.\n",
    "\n",
    "Make a plot of the curve, $f$, at each of these six dates."
   ]
  },
  {
   "cell_type": "code",
   "execution_count": null,
   "id": "cfd9c1d9",
   "metadata": {},
   "outputs": [],
   "source": []
  },
  {
   "cell_type": "markdown",
   "id": "f65d4d51",
   "metadata": {},
   "source": [
    "## 1.3\n",
    "\n",
    "Calculate the continuously compounded spot rates, $r$, at the six dates.\n",
    "\n",
    "Plot both the forward curve and the spot curve on the date of Dec 2017.\n",
    "\n",
    "Recall that $f(t,t,t+1) = r(t,t+1)$."
   ]
  },
  {
   "cell_type": "markdown",
   "id": "480da114",
   "metadata": {},
   "source": [
    "## 1.4\n",
    "\n",
    "Plot the forward curve on Dec 2017 against the time-series evolution of $r(t,t+1)$ for dates $t$ between Dec 2017 and Dec 2021.\n",
    "\n",
    "How does the evolution of one-year rates between 2017-2021 compare to the forward rates of 2017?"
   ]
  },
  {
   "cell_type": "markdown",
   "id": "e59463ad",
   "metadata": {},
   "source": [
    "# 2. Carry Trade"
   ]
  },
  {
   "cell_type": "markdown",
   "id": "0e84a1de",
   "metadata": {},
   "source": [
    "## 2.1\n",
    "\n",
    "Suppose it is December 2017, and you determine to implement a carry trade with the following specification...\n",
    "\n",
    "* Long \\\\$100 million of the 5-year zero-coupon bond (maturing Dec 2022.)\n",
    "* Short \\\\$100 million of the 1-year zero-coupon bond (maturing Dec 2018.)\n",
    "* Assume there is a 2% haircut on each side of the trade, so it requires \\\\$4 million of investor capital to initiate it.\n",
    "\n",
    "Trace the profit and loss each year.\n",
    "* Note that each year you will roll over the short position until the trade concludes in Dec 2022.\n",
    "\n",
    "Calculate the total profit and loss when the trade concludes in Dec 2022.\n",
    "* Calculate the total return on the initial \\\\$4 million of investor capital."
   ]
  },
  {
   "cell_type": "code",
   "execution_count": null,
   "id": "2ad3cd17",
   "metadata": {},
   "outputs": [],
   "source": []
  },
  {
   "cell_type": "markdown",
   "id": "11f8d196",
   "metadata": {},
   "source": [
    "## 2.2\n",
    "\n",
    "How would this trade play out if the path of one-year spot rates equaled the forward rates observed in 2017?"
   ]
  },
  {
   "cell_type": "markdown",
   "id": "7b9ea799",
   "metadata": {},
   "source": [
    "## 2.3\n",
    "\n",
    "Given Fact 3 of the *dynamic* (conditional) tests of EH in notebook W.5., do you expect that as of Dec 2022 the long-short trade above looks more or less favorable as of Dec 2022-2027 than it did as of Dec 2017-2022?"
   ]
  }
 ],
 "metadata": {
  "hide_input": false,
  "kernelspec": {
   "display_name": "base",
   "language": "python",
   "name": "python3"
  },
  "language_info": {
   "codemirror_mode": {
    "name": "ipython",
    "version": 3
   },
   "file_extension": ".py",
   "mimetype": "text/x-python",
   "name": "python",
   "nbconvert_exporter": "python",
   "pygments_lexer": "ipython3",
   "version": "3.9.13"
  },
  "vscode": {
   "interpreter": {
    "hash": "44a761cc06a695ddb39d99b7e807436f731f960c127538853a5b90f596df33e4"
   }
  }
 },
 "nbformat": 4,
 "nbformat_minor": 5
}
