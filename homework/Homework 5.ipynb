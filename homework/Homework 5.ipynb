{
 "cells": [
  {
   "cell_type": "markdown",
   "id": "3e013a68",
   "metadata": {},
   "source": [
    "# Homework 5\n",
    "\n",
    "## FINM 37400 - 2023\n",
    "\n",
    "### UChicago Financial Mathematics\n",
    "\n",
    "* Mark Hendricks\n",
    "* hendricks@uchicago.edu"
   ]
  },
  {
   "cell_type": "markdown",
   "id": "c509a321",
   "metadata": {},
   "source": [
    "# 1. Forward Rates"
   ]
  },
  {
   "cell_type": "markdown",
   "id": "d31bd42d",
   "metadata": {},
   "source": [
    "Use the data set `treasury_zero_coupon_2022-12-30.xlsx`.\n",
    "\n",
    "It gives prices on **zero coupon bonds** with maturities of 1 through 5 years.\n",
    "* These are prices per \\\\$1 face value on bonds that only pay principal.\n",
    "* Such bonds can be created from treasuries by *stripping* out their coupons.\n",
    "* In essence, you can consider these prices as the discount factors $Z$, for maturity intervals 1 through 5 years.\n",
    "\n",
    "In this problem, we focus on six dates: the month of December in 2017 through 2022."
   ]
  },
  {
   "cell_type": "code",
   "execution_count": 2,
   "id": "9c6acf78",
   "metadata": {},
   "outputs": [],
   "source": [
    "import pandas as pd\n",
    "import numpy as np\n",
    "import datetime\n",
    "import warnings\n",
    "\n",
    "import matplotlib.pyplot as plt\n",
    "%matplotlib inline\n",
    "plt.rcParams['figure.figsize'] = (12,6)\n",
    "plt.rcParams['font.size'] = 15\n",
    "plt.rcParams['legend.fontsize'] = 13\n",
    "\n",
    "from matplotlib.ticker import (MultipleLocator,\n",
    "                               FormatStrFormatter,\n",
    "                               AutoMinorLocator)\n",
    "import sys\n",
    "import treasury_cmds"
   ]
  },
  {
   "cell_type": "code",
   "execution_count": 3,
   "id": "24aff680",
   "metadata": {},
   "outputs": [],
   "source": [
    "treasury_zero_coupon = pd.read_excel('C:/Users/dcste/OneDrive/fixed_income/fixed_income_FORKED/finm-fixedincome-2023/data/treasury_zero_coupon_2022-12-30.xlsx')"
   ]
  },
  {
   "cell_type": "code",
   "execution_count": 4,
   "id": "25c440fa",
   "metadata": {},
   "outputs": [
    {
     "data": {
      "text/html": [
       "<div>\n",
       "<style scoped>\n",
       "    .dataframe tbody tr th:only-of-type {\n",
       "        vertical-align: middle;\n",
       "    }\n",
       "\n",
       "    .dataframe tbody tr th {\n",
       "        vertical-align: top;\n",
       "    }\n",
       "\n",
       "    .dataframe thead th {\n",
       "        text-align: right;\n",
       "    }\n",
       "</style>\n",
       "<table border=\"1\" class=\"dataframe\">\n",
       "  <thead>\n",
       "    <tr style=\"text-align: right;\">\n",
       "      <th></th>\n",
       "      <th>date</th>\n",
       "      <th>1</th>\n",
       "      <th>2</th>\n",
       "      <th>3</th>\n",
       "      <th>4</th>\n",
       "      <th>5</th>\n",
       "    </tr>\n",
       "  </thead>\n",
       "  <tbody>\n",
       "    <tr>\n",
       "      <th>0</th>\n",
       "      <td>1952-06-30</td>\n",
       "      <td>0.981778</td>\n",
       "      <td>0.962531</td>\n",
       "      <td>0.942467</td>\n",
       "      <td>0.926341</td>\n",
       "      <td>0.904183</td>\n",
       "    </tr>\n",
       "    <tr>\n",
       "      <th>1</th>\n",
       "      <td>1952-07-31</td>\n",
       "      <td>0.980948</td>\n",
       "      <td>0.960315</td>\n",
       "      <td>0.939312</td>\n",
       "      <td>0.923089</td>\n",
       "      <td>0.898516</td>\n",
       "    </tr>\n",
       "    <tr>\n",
       "      <th>2</th>\n",
       "      <td>1952-08-29</td>\n",
       "      <td>0.980578</td>\n",
       "      <td>0.959750</td>\n",
       "      <td>0.937819</td>\n",
       "      <td>0.921458</td>\n",
       "      <td>0.895717</td>\n",
       "    </tr>\n",
       "    <tr>\n",
       "      <th>3</th>\n",
       "      <td>1952-09-30</td>\n",
       "      <td>0.980312</td>\n",
       "      <td>0.959098</td>\n",
       "      <td>0.937551</td>\n",
       "      <td>0.920961</td>\n",
       "      <td>0.891676</td>\n",
       "    </tr>\n",
       "    <tr>\n",
       "      <th>4</th>\n",
       "      <td>1952-10-31</td>\n",
       "      <td>0.981108</td>\n",
       "      <td>0.959745</td>\n",
       "      <td>0.937583</td>\n",
       "      <td>0.919290</td>\n",
       "      <td>0.897248</td>\n",
       "    </tr>\n",
       "    <tr>\n",
       "      <th>...</th>\n",
       "      <td>...</td>\n",
       "      <td>...</td>\n",
       "      <td>...</td>\n",
       "      <td>...</td>\n",
       "      <td>...</td>\n",
       "      <td>...</td>\n",
       "    </tr>\n",
       "    <tr>\n",
       "      <th>842</th>\n",
       "      <td>2022-08-31</td>\n",
       "      <td>0.965955</td>\n",
       "      <td>0.933432</td>\n",
       "      <td>0.900600</td>\n",
       "      <td>0.871263</td>\n",
       "      <td>0.846584</td>\n",
       "    </tr>\n",
       "    <tr>\n",
       "      <th>843</th>\n",
       "      <td>2022-09-30</td>\n",
       "      <td>0.959839</td>\n",
       "      <td>0.918517</td>\n",
       "      <td>0.880655</td>\n",
       "      <td>0.846696</td>\n",
       "      <td>0.816731</td>\n",
       "    </tr>\n",
       "    <tr>\n",
       "      <th>844</th>\n",
       "      <td>2022-10-31</td>\n",
       "      <td>0.954288</td>\n",
       "      <td>0.914926</td>\n",
       "      <td>0.876564</td>\n",
       "      <td>0.841926</td>\n",
       "      <td>0.811304</td>\n",
       "    </tr>\n",
       "    <tr>\n",
       "      <th>845</th>\n",
       "      <td>2022-11-30</td>\n",
       "      <td>0.954375</td>\n",
       "      <td>0.918220</td>\n",
       "      <td>0.887608</td>\n",
       "      <td>0.857356</td>\n",
       "      <td>0.830593</td>\n",
       "    </tr>\n",
       "    <tr>\n",
       "      <th>846</th>\n",
       "      <td>2022-12-30</td>\n",
       "      <td>0.954636</td>\n",
       "      <td>0.916229</td>\n",
       "      <td>0.883347</td>\n",
       "      <td>0.851046</td>\n",
       "      <td>0.820298</td>\n",
       "    </tr>\n",
       "  </tbody>\n",
       "</table>\n",
       "<p>847 rows × 6 columns</p>\n",
       "</div>"
      ],
      "text/plain": [
       "          date         1         2         3         4         5\n",
       "0   1952-06-30  0.981778  0.962531  0.942467  0.926341  0.904183\n",
       "1   1952-07-31  0.980948  0.960315  0.939312  0.923089  0.898516\n",
       "2   1952-08-29  0.980578  0.959750  0.937819  0.921458  0.895717\n",
       "3   1952-09-30  0.980312  0.959098  0.937551  0.920961  0.891676\n",
       "4   1952-10-31  0.981108  0.959745  0.937583  0.919290  0.897248\n",
       "..         ...       ...       ...       ...       ...       ...\n",
       "842 2022-08-31  0.965955  0.933432  0.900600  0.871263  0.846584\n",
       "843 2022-09-30  0.959839  0.918517  0.880655  0.846696  0.816731\n",
       "844 2022-10-31  0.954288  0.914926  0.876564  0.841926  0.811304\n",
       "845 2022-11-30  0.954375  0.918220  0.887608  0.857356  0.830593\n",
       "846 2022-12-30  0.954636  0.916229  0.883347  0.851046  0.820298\n",
       "\n",
       "[847 rows x 6 columns]"
      ]
     },
     "execution_count": 4,
     "metadata": {},
     "output_type": "execute_result"
    }
   ],
   "source": [
    "treasury_zero_coupon"
   ]
  },
  {
   "cell_type": "markdown",
   "id": "19845af0",
   "metadata": {},
   "source": [
    "## 1.1\n",
    "\n",
    "For each of the six dates, (Dec 2017, Dec 2018, ...), calculate the forward discount factor, $F(t,T_1,T_2)$, where $T_2 = T_1 + 1$ for $1\\le T_1\\le 4$.\n",
    "\n",
    "Make a plot of the curve $F$ at each of these six dates."
   ]
  },
  {
   "cell_type": "code",
   "execution_count": null,
   "id": "29fdd4e4",
   "metadata": {},
   "outputs": [],
   "source": []
  },
  {
   "cell_type": "markdown",
   "id": "43ff9ac2",
   "metadata": {},
   "source": [
    "## 1.2\n",
    "\n"
   ]
  },
  {
   "cell_type": "markdown",
   "id": "3dafd627",
   "metadata": {},
   "source": [
    "Use $F$ above to calculate the continuously compounded forward rates, $f$, at the six dates.\n",
    "\n",
    "Make a plot of the curve, $f$, at each of these six dates."
   ]
  },
  {
   "cell_type": "markdown",
   "id": "f65d4d51",
   "metadata": {},
   "source": [
    "## 1.3\n",
    "\n",
    "Calculate the continuously compounded spot rates, $r$, at the six dates.\n",
    "\n",
    "Plot both the forward curve and the spot curve on the date of Dec 2017.\n",
    "\n",
    "Recall that $f(t,t,t+1) = r(t,t+1)$."
   ]
  },
  {
   "cell_type": "markdown",
   "id": "480da114",
   "metadata": {},
   "source": [
    "## 1.4\n",
    "\n",
    "Plot the forward curve on Dec 2017 against the time-series evolution of $r(t,t+1)$ for dates $t$ between Dec 2017 and Dec 2021.\n",
    "\n",
    "How does the evolution of one-year rates between 2017-2021 compare to the forward rates of 2017?"
   ]
  },
  {
   "cell_type": "markdown",
   "id": "e59463ad",
   "metadata": {},
   "source": [
    "# 2. Carry Trade"
   ]
  },
  {
   "cell_type": "markdown",
   "id": "0e84a1de",
   "metadata": {},
   "source": [
    "## 2.1\n",
    "\n",
    "Suppose it is December 2017, and you determine to implement a carry trade with the following specification...\n",
    "\n",
    "* Long \\\\$100 million of the 5-year zero-coupon bond (maturing Dec 2022.)\n",
    "* Short \\\\$100 million of the 1-year zero-coupon bond (maturing Dec 2018.)\n",
    "* Assume there is a 2% haircut on each side of the trade, so it requires \\\\$4 million of investor capital to initiate it.\n",
    "\n",
    "Trace the profit and loss each year.\n",
    "* Note that each year you will roll over the short position until the trade concludes in Dec 2022.\n",
    "\n",
    "Calculate the total profit and loss when the trade concludes in Dec 2022.\n",
    "* Calculate the total return on the initial \\\\$4 million of investor capital."
   ]
  },
  {
   "cell_type": "markdown",
   "id": "11f8d196",
   "metadata": {},
   "source": [
    "## 2.2\n",
    "\n",
    "How would this trade play out if the path of one-year spot rates equaled the forward rates observed in 2017?"
   ]
  },
  {
   "cell_type": "markdown",
   "id": "7b9ea799",
   "metadata": {},
   "source": [
    "## 2.3\n",
    "\n",
    "Given Fact 3 of the *dynamic* (conditional) tests of EH in notebook W.5., do you expect that as of Dec 2022 the long-short trade above looks more or less favorable as of Dec 2022-2027 than it did as of Dec 2017-2022?"
   ]
  }
 ],
 "metadata": {
  "hide_input": false,
  "kernelspec": {
   "display_name": "base",
   "language": "python",
   "name": "python3"
  },
  "language_info": {
   "codemirror_mode": {
    "name": "ipython",
    "version": 3
   },
   "file_extension": ".py",
   "mimetype": "text/x-python",
   "name": "python",
   "nbconvert_exporter": "python",
   "pygments_lexer": "ipython3",
   "version": "3.9.13"
  },
  "vscode": {
   "interpreter": {
    "hash": "44a761cc06a695ddb39d99b7e807436f731f960c127538853a5b90f596df33e4"
   }
  }
 },
 "nbformat": 4,
 "nbformat_minor": 5
}
