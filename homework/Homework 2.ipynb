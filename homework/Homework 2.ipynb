{
 "cells": [
  {
   "cell_type": "markdown",
   "id": "3e013a68",
   "metadata": {},
   "source": [
    "# Homework 2\n",
    "\n",
    "## FINM 37400 - 2023\n",
    "\n",
    "### UChicago Financial Mathematics\n",
    "\n",
    "* Mark Hendricks\n",
    "* hendricks@uchicago.edu"
   ]
  },
  {
   "cell_type": "markdown",
   "id": "be85b5d0",
   "metadata": {},
   "source": [
    "***"
   ]
  },
  {
   "cell_type": "markdown",
   "id": "013254e0",
   "metadata": {},
   "source": [
    "# 1 HBS Case: Fixed-Income Arbitrage in a Financial Crisis (A): US Treasuries in November 2008\n",
    "\n",
    "## Data\n",
    "* Use the data file `treasury_ts_2015-08-15.xlsx`.\n",
    "* Examine the treasure issues with `kytreasno` of `204046` and `204047`. These are the bond and note (respectively) which mature on 2015-08-15.\n",
    "* Look at the data on 2008-11-04.\n",
    "\n",
    "## 1.1 The situation\n",
    "\n",
    "Make a chart comparing the issues in the following features, (as of Nov 4, 2008.)\n",
    "* coupon rate\n",
    "* bid\n",
    "* ask\n",
    "* accrued interest\n",
    "* dirty price\n",
    "* duration (quoted in years, not days, assuming 365.25 days per year.)\n",
    "* modified duration\n",
    "* YTM\n",
    "\n",
    "## 1.2 Hedge Ratio\n",
    "\n",
    "Suppose you are building a trade to go long $n_i$ bonds (`204046`) and short $n_j$ notes (`204047`).\n",
    "\n",
    "We can find an equation for $n_j$ in terms of $n_i$ such that the total holdings will have duration equal to zero. (Having zero duration also means have zero dollar duration, if helpful.)\n",
    "\n",
    "Notation:\n",
    "* $n_i$: number of bonds purchased (or sold)\n",
    "* $D_i$: duration of bond $i$\n",
    "* $D_{\\$,i}$: dollar duration of bond $i$, equal to $p_iD_i$\n",
    "\n",
    "If we want the total duration of our holdings to be zero, then we need to size the trade such that $n_i$ and $n_j$ satisfy,\n",
    "\n",
    "$$0 = n_iD_{\\$,i} + n_jD_{\\$,j}$$\n",
    "\n",
    "$$n_j = -n_i\\frac{D_{\\$,i}}{D_{\\$,j}}$$\n",
    "\n",
    "Suppose you will use \\\\$1mm of capital, leveraged 50x to buy \\\\$50mm of the bonds (`204046`).\n",
    "\n",
    "Use the ratio above to short a number of notes (`204047`) to keep zero duration.\n",
    "\n",
    "Report the number of bonds and notes of your position, along with the total dollars in the short position."
   ]
  },
  {
   "cell_type": "code",
   "execution_count": 57,
   "id": "114bd4a3",
   "metadata": {},
   "outputs": [],
   "source": [
    "import pandas as pd\n",
    "import numpy as np\n",
    "import datetime\n",
    "import warnings\n",
    "import matplotlib as mpl\n",
    "import matplotlib.pyplot as plt\n",
    "from sklearn.linear_model import LinearRegression\n",
    "from scipy.optimize import minimize\n",
    "%matplotlib inline\n",
    "plt.style.use('seaborn')\n",
    "mpl.rcParams['font.family'] = 'serif'\n",
    "from treasury_cmds import *"
   ]
  },
  {
   "cell_type": "code",
   "execution_count": 58,
   "id": "ab794bd5",
   "metadata": {},
   "outputs": [],
   "source": [
    "treasury_path = 'C:/Users/dcste/OneDrive/fixed_income/fixed_income_FORKED/finm-fixedincome-2023/data/treasury_ts_2015-08-15.xlsx'\n",
    "t_path_2 = 'C:/Users/dcste/OneDrive/fixed_income/fixed_income_FORKED/finm-fixedincome-2023/data/treasury_quotes_2022-09-30.xlsx'\n",
    "info = pd.read_excel(treasury_path, sheet_name='info', index_col = 0)\n",
    "ts_data = pd.read_excel(treasury_path, sheet_name= 'database')\n",
    "ts_data.columns = ts_data.columns.str.upper()\n",
    "treasury_df = pd.read_excel(t_path_2)\n",
    "treasury_df.columns = treasury_df.columns.str.upper()\n",
    "treasury_df.sort_values('TMATDT', inplace=True)\n",
    "treasury_df.set_index(\"KYTREASNO\", inplace = True)\n"
   ]
  },
  {
   "cell_type": "code",
   "execution_count": 59,
   "id": "1034986d",
   "metadata": {},
   "outputs": [],
   "source": [
    "mask = ts_data[ts_data.CALDT == '2008-11-04']\n",
    "metrics = mask.copy()[['KYTREASNO','CALDT','TDBID','TDASK','TDNOMPRC','TDACCINT', 'TDYLD','TDDURATN','TDPUBOUT']].set_index('KYTREASNO')\n",
    "metrics.columns = ['CALDT','BID','ASK', 'Nominal_Price','Accrued Interest','YTM','Duration','Outstanding']"
   ]
  },
  {
   "cell_type": "code",
   "execution_count": 60,
   "id": "7bd5f73d",
   "metadata": {},
   "outputs": [],
   "source": [
    "metrics['Dirty_Price'] = (metrics['BID']+metrics['ASK'])*.5 + metrics['Accrued Interest']"
   ]
  },
  {
   "cell_type": "code",
   "execution_count": 61,
   "id": "721a7cae",
   "metadata": {},
   "outputs": [],
   "source": [
    "metrics['YTM'] *= 365.25\n",
    "metrics['Coupon_Rate'] = [4.25,10.625]\n",
    "metrics['Duration'] /= 365.25\n",
    "metrics['Modified Duration'] = metrics['Duration']/(1+(metrics['YTM']/2))\n",
    "metrics['Dollar_Duration'] = metrics['Modified Duration']*metrics['Dirty_Price']\n",
    "metrics = metrics.T"
   ]
  },
  {
   "cell_type": "code",
   "execution_count": 62,
   "id": "caa6aca2",
   "metadata": {},
   "outputs": [
    {
     "data": {
      "text/html": [
       "<div>\n",
       "<style scoped>\n",
       "    .dataframe tbody tr th:only-of-type {\n",
       "        vertical-align: middle;\n",
       "    }\n",
       "\n",
       "    .dataframe tbody tr th {\n",
       "        vertical-align: top;\n",
       "    }\n",
       "\n",
       "    .dataframe thead th {\n",
       "        text-align: right;\n",
       "    }\n",
       "</style>\n",
       "<table border=\"1\" class=\"dataframe\">\n",
       "  <thead>\n",
       "    <tr style=\"text-align: right;\">\n",
       "      <th>KYTREASNO</th>\n",
       "      <th>204047</th>\n",
       "      <th>204046</th>\n",
       "    </tr>\n",
       "  </thead>\n",
       "  <tbody>\n",
       "    <tr>\n",
       "      <th>CALDT</th>\n",
       "      <td>2008-11-04 00:00:00</td>\n",
       "      <td>2008-11-04 00:00:00</td>\n",
       "    </tr>\n",
       "    <tr>\n",
       "      <th>BID</th>\n",
       "      <td>105.953</td>\n",
       "      <td>141.859</td>\n",
       "    </tr>\n",
       "    <tr>\n",
       "      <th>ASK</th>\n",
       "      <td>105.984</td>\n",
       "      <td>141.891</td>\n",
       "    </tr>\n",
       "    <tr>\n",
       "      <th>Nominal_Price</th>\n",
       "      <td>105.969</td>\n",
       "      <td>141.875</td>\n",
       "    </tr>\n",
       "    <tr>\n",
       "      <th>Accrued Interest</th>\n",
       "      <td>0.935</td>\n",
       "      <td>2.339</td>\n",
       "    </tr>\n",
       "    <tr>\n",
       "      <th>YTM</th>\n",
       "      <td>0.032</td>\n",
       "      <td>0.036</td>\n",
       "    </tr>\n",
       "    <tr>\n",
       "      <th>Duration</th>\n",
       "      <td>5.936</td>\n",
       "      <td>5.230</td>\n",
       "    </tr>\n",
       "    <tr>\n",
       "      <th>Outstanding</th>\n",
       "      <td>20,998.000</td>\n",
       "      <td>2,852.000</td>\n",
       "    </tr>\n",
       "    <tr>\n",
       "      <th>Dirty_Price</th>\n",
       "      <td>106.904</td>\n",
       "      <td>144.214</td>\n",
       "    </tr>\n",
       "    <tr>\n",
       "      <th>Coupon_Rate</th>\n",
       "      <td>4.250</td>\n",
       "      <td>10.625</td>\n",
       "    </tr>\n",
       "    <tr>\n",
       "      <th>Modified Duration</th>\n",
       "      <td>5.841</td>\n",
       "      <td>5.138</td>\n",
       "    </tr>\n",
       "    <tr>\n",
       "      <th>Dollar_Duration</th>\n",
       "      <td>624.448</td>\n",
       "      <td>741.011</td>\n",
       "    </tr>\n",
       "  </tbody>\n",
       "</table>\n",
       "</div>"
      ],
      "text/plain": [
       "KYTREASNO                       204047               204046\n",
       "CALDT              2008-11-04 00:00:00  2008-11-04 00:00:00\n",
       "BID                            105.953              141.859\n",
       "ASK                            105.984              141.891\n",
       "Nominal_Price                  105.969              141.875\n",
       "Accrued Interest                 0.935                2.339\n",
       "YTM                              0.032                0.036\n",
       "Duration                         5.936                5.230\n",
       "Outstanding                 20,998.000            2,852.000\n",
       "Dirty_Price                    106.904              144.214\n",
       "Coupon_Rate                      4.250               10.625\n",
       "Modified Duration                5.841                5.138\n",
       "Dollar_Duration                624.448              741.011"
      ]
     },
     "execution_count": 62,
     "metadata": {},
     "output_type": "execute_result"
    }
   ],
   "source": [
    "metrics"
   ]
  },
  {
   "cell_type": "code",
   "execution_count": 63,
   "id": "1fd31a75",
   "metadata": {},
   "outputs": [],
   "source": [
    "trade_pair = pd.DataFrame(data = None, columns=['204047','204046'])\n",
    "trade_pair.loc['YTM'] = [0.032362,0.035753]\n",
    "trade_pair.loc['Dirty_Price']  = [106.904212,144.213655]\n",
    "\n",
    "trade_pair.loc['Modified_Duration'] = [5.841189,5.13824]\n",
    "trade_pair.loc['dollar_duration'] = [624.447664,741.010749]"
   ]
  },
  {
   "cell_type": "code",
   "execution_count": 64,
   "id": "4f4b16f2",
   "metadata": {},
   "outputs": [
    {
     "data": {
      "text/html": [
       "<div>\n",
       "<style scoped>\n",
       "    .dataframe tbody tr th:only-of-type {\n",
       "        vertical-align: middle;\n",
       "    }\n",
       "\n",
       "    .dataframe tbody tr th {\n",
       "        vertical-align: top;\n",
       "    }\n",
       "\n",
       "    .dataframe thead th {\n",
       "        text-align: right;\n",
       "    }\n",
       "</style>\n",
       "<table border=\"1\" class=\"dataframe\">\n",
       "  <thead>\n",
       "    <tr style=\"text-align: right;\">\n",
       "      <th></th>\n",
       "      <th>204047</th>\n",
       "      <th>204046</th>\n",
       "    </tr>\n",
       "  </thead>\n",
       "  <tbody>\n",
       "    <tr>\n",
       "      <th>YTM</th>\n",
       "      <td>0.032</td>\n",
       "      <td>0.036</td>\n",
       "    </tr>\n",
       "    <tr>\n",
       "      <th>Dirty_Price</th>\n",
       "      <td>106.904</td>\n",
       "      <td>144.214</td>\n",
       "    </tr>\n",
       "    <tr>\n",
       "      <th>Modified_Duration</th>\n",
       "      <td>5.841</td>\n",
       "      <td>5.138</td>\n",
       "    </tr>\n",
       "    <tr>\n",
       "      <th>dollar_duration</th>\n",
       "      <td>624.448</td>\n",
       "      <td>741.011</td>\n",
       "    </tr>\n",
       "  </tbody>\n",
       "</table>\n",
       "</div>"
      ],
      "text/plain": [
       "                   204047  204046\n",
       "YTM                 0.032   0.036\n",
       "Dirty_Price       106.904 144.214\n",
       "Modified_Duration   5.841   5.138\n",
       "dollar_duration   624.448 741.011"
      ]
     },
     "execution_count": 64,
     "metadata": {},
     "output_type": "execute_result"
    }
   ],
   "source": [
    "trade_pair"
   ]
  },
  {
   "cell_type": "code",
   "execution_count": 65,
   "id": "19ba016e",
   "metadata": {},
   "outputs": [
    {
     "data": {
      "text/plain": [
       "'204047'"
      ]
     },
     "execution_count": 65,
     "metadata": {},
     "output_type": "execute_result"
    }
   ],
   "source": [
    "long_security = trade_pair.loc['YTM'].idxmax()\n",
    "short_security = trade_pair.loc['YTM'].idxmin()\n",
    "\n",
    "short_security"
   ]
  },
  {
   "cell_type": "code",
   "execution_count": 66,
   "id": "6aa8f98d",
   "metadata": {},
   "outputs": [
    {
     "data": {
      "text/plain": [
       "144.213655"
      ]
     },
     "execution_count": 66,
     "metadata": {},
     "output_type": "execute_result"
    }
   ],
   "source": [
    "p = trade_pair.loc['Dirty_Price']\n",
    "p.loc['204046']"
   ]
  },
  {
   "attachments": {},
   "cell_type": "markdown",
   "id": "5b935b6e",
   "metadata": {},
   "source": [
    "# Calculating Hedge Ratio"
   ]
  },
  {
   "attachments": {},
   "cell_type": "markdown",
   "id": "62363274",
   "metadata": {},
   "source": [
    "## Financing Assumptions\n",
    "\n",
    "- In this trade we take a long position in the bond which has the higher yield and short the note that has a lower yield."
   ]
  },
  {
   "cell_type": "code",
   "execution_count": 67,
   "id": "2d969bdd",
   "metadata": {},
   "outputs": [],
   "source": [
    "def hedge_ratio(dollar_duration_long, dollar_duration_short, size_long = None):\n",
    "    if size_long == None:\n",
    "        return -dollar_duration_long/dollar_duration_short\n",
    "    else:\n",
    "        return (-size_long*(dollar_duration_long))/dollar_duration_short"
   ]
  },
  {
   "cell_type": "code",
   "execution_count": 68,
   "id": "2b83ccd3",
   "metadata": {},
   "outputs": [],
   "source": [
    "LONG_EQUITY = 1e6\n",
    "def trade_balance_sheet(prices, durations, haircuts, long_equity, short_equity):\n",
    "    balance_sheet = pd.DataFrame(data = None,columns=['Equity','Asset_Value','Contracts','Dollar_Duration'], index = [long_equity,short_equity])\n",
    "    long_price = prices.loc[long_equity]\n",
    "    short_price = prices.loc[short_equity]\n",
    "    duration_long = durations.loc[long_equity]\n",
    "    duration_short = durations.loc[short_equity]\n",
    "    haircut_short = haircuts.loc['short']\n",
    "    haircut_long = haircuts.loc['long']\n",
    "    balance_sheet.loc[long_equity,'Dollar_Duration'] = duration_long\n",
    "    balance_sheet.loc[short_equity,'Dollar_Duration'] = duration_short\n",
    "    balance_sheet.loc[long_equity,'Equity'] = LONG_EQUITY\n",
    "    balance_sheet.loc[long_equity,'Asset_Value'] = 5e7\n",
    "    balance_sheet.loc[long_equity,'Contracts'] = balance_sheet.loc[long_equity,'Asset_Value']/long_price\n",
    "    balance_sheet.loc[short_equity,'Contracts'] = hedge_ratio(dollar_duration_long=duration_long,dollar_duration_short=duration_short,\\\n",
    "        size_long=balance_sheet.loc[long_equity,'Contracts'])\n",
    "    balance_sheet.loc[short_equity,'Asset_Value'] = balance_sheet.loc[short_equity,'Contracts']*short_price\n",
    "    balance_sheet.loc[short_equity,'Equity'] = balance_sheet.loc[short_equity,'Asset_Value']*haircut_short\n",
    "    \n",
    "    return balance_sheet\n",
    "    \n",
    "    "
   ]
  },
  {
   "cell_type": "code",
   "execution_count": 69,
   "id": "a601e60a",
   "metadata": {},
   "outputs": [
    {
     "data": {
      "text/html": [
       "<div>\n",
       "<style scoped>\n",
       "    .dataframe tbody tr th:only-of-type {\n",
       "        vertical-align: middle;\n",
       "    }\n",
       "\n",
       "    .dataframe tbody tr th {\n",
       "        vertical-align: top;\n",
       "    }\n",
       "\n",
       "    .dataframe thead th {\n",
       "        text-align: right;\n",
       "    }\n",
       "</style>\n",
       "<table border=\"1\" class=\"dataframe\">\n",
       "  <thead>\n",
       "    <tr style=\"text-align: right;\">\n",
       "      <th></th>\n",
       "      <th>haircut</th>\n",
       "      <th>repo</th>\n",
       "    </tr>\n",
       "  </thead>\n",
       "  <tbody>\n",
       "    <tr>\n",
       "      <th>long</th>\n",
       "      <td>0.020</td>\n",
       "      <td>0.002</td>\n",
       "    </tr>\n",
       "    <tr>\n",
       "      <th>short</th>\n",
       "      <td>0.020</td>\n",
       "      <td>0.001</td>\n",
       "    </tr>\n",
       "  </tbody>\n",
       "</table>\n",
       "</div>"
      ],
      "text/plain": [
       "       haircut  repo\n",
       "long     0.020 0.002\n",
       "short    0.020 0.001"
      ]
     },
     "execution_count": 69,
     "metadata": {},
     "output_type": "execute_result"
    }
   ],
   "source": [
    "financing = pd.DataFrame(dtype='float64',index=['long','short'])\n",
    "financing['haircut'] = [.02,.02]\n",
    "financing['repo'] = [.0015,.0010]\n",
    "financing"
   ]
  },
  {
   "cell_type": "code",
   "execution_count": 70,
   "id": "014485cd",
   "metadata": {},
   "outputs": [
    {
     "data": {
      "text/html": [
       "<div>\n",
       "<style scoped>\n",
       "    .dataframe tbody tr th:only-of-type {\n",
       "        vertical-align: middle;\n",
       "    }\n",
       "\n",
       "    .dataframe tbody tr th {\n",
       "        vertical-align: top;\n",
       "    }\n",
       "\n",
       "    .dataframe thead th {\n",
       "        text-align: right;\n",
       "    }\n",
       "</style>\n",
       "<table border=\"1\" class=\"dataframe\">\n",
       "  <thead>\n",
       "    <tr style=\"text-align: right;\">\n",
       "      <th></th>\n",
       "      <th>Equity</th>\n",
       "      <th>Asset_Value</th>\n",
       "      <th>Contracts</th>\n",
       "      <th>Dollar_Duration</th>\n",
       "    </tr>\n",
       "  </thead>\n",
       "  <tbody>\n",
       "    <tr>\n",
       "      <th>204046</th>\n",
       "      <td>1,000,000.000</td>\n",
       "      <td>50,000,000.000</td>\n",
       "      <td>346,707.807</td>\n",
       "      <td>741.011</td>\n",
       "    </tr>\n",
       "    <tr>\n",
       "      <th>204047</th>\n",
       "      <td>-879,664.155</td>\n",
       "      <td>-43,983,207.732</td>\n",
       "      <td>-411,426.331</td>\n",
       "      <td>624.448</td>\n",
       "    </tr>\n",
       "  </tbody>\n",
       "</table>\n",
       "</div>"
      ],
      "text/plain": [
       "              Equity     Asset_Value    Contracts Dollar_Duration\n",
       "204046 1,000,000.000  50,000,000.000  346,707.807         741.011\n",
       "204047  -879,664.155 -43,983,207.732 -411,426.331         624.448"
      ]
     },
     "execution_count": 70,
     "metadata": {},
     "output_type": "execute_result"
    }
   ],
   "source": [
    "trade_balance_sheet(prices=trade_pair.loc['Dirty_Price'], durations=trade_pair.loc['dollar_duration'],haircuts = financing['haircut'],\\\n",
    "   long_equity = long_security, short_equity = short_security )\n"
   ]
  },
  {
   "cell_type": "code",
   "execution_count": 86,
   "id": "d7d220c5",
   "metadata": {},
   "outputs": [],
   "source": [
    "spread_df = ts_data.pivot_table(values='TDYLD', index = 'CALDT',columns='KYTREASNO')\n",
    "spread_df.columns = ['204046','204047','206524']\n",
    "spread_df['206524'] = spread_df['204046']- spread_df['204047']\n",
    "spread_df = spread_df.rename(columns={'206524':'Spread'})\n",
    "# I need to format the yields\n",
    "spread_df *= 365.25\n",
    "spread_df = spread_df.loc['2006':,:]"
   ]
  },
  {
   "cell_type": "code",
   "execution_count": 93,
   "id": "88fbedb1",
   "metadata": {},
   "outputs": [
    {
     "data": {
      "text/plain": [
       "(-0.001, 0.005)"
      ]
     },
     "execution_count": 93,
     "metadata": {},
     "output_type": "execute_result"
    },
    {
     "data": {
      "image/png": "[encoded data removed]",
      "text/plain": [
       "<Figure size 800x550 with 1 Axes>"
      ]
     },
     "metadata": {},
     "output_type": "display_data"
    }
   ],
   "source": [
    "plt.plot(spread_df.loc['2008-10':,'Spread'])\n",
    "plt.title('Historical Spread(bps)')\n",
    "plt.ylim(-.001,.005)"
   ]
  },
  {
   "cell_type": "code",
   "execution_count": 94,
   "id": "c3c6bdb7",
   "metadata": {},
   "outputs": [
    {
     "data": {
      "text/html": [
       "<div>\n",
       "<style scoped>\n",
       "    .dataframe tbody tr th:only-of-type {\n",
       "        vertical-align: middle;\n",
       "    }\n",
       "\n",
       "    .dataframe tbody tr th {\n",
       "        vertical-align: top;\n",
       "    }\n",
       "\n",
       "    .dataframe thead th {\n",
       "        text-align: right;\n",
       "    }\n",
       "</style>\n",
       "<table border=\"1\" class=\"dataframe\">\n",
       "  <thead>\n",
       "    <tr style=\"text-align: right;\">\n",
       "      <th></th>\n",
       "      <th>204046</th>\n",
       "      <th>204047</th>\n",
       "      <th>Spread</th>\n",
       "    </tr>\n",
       "  </thead>\n",
       "  <tbody>\n",
       "    <tr>\n",
       "      <th>count</th>\n",
       "      <td>2,410.000</td>\n",
       "      <td>2,410.000</td>\n",
       "      <td>2,410.000</td>\n",
       "    </tr>\n",
       "    <tr>\n",
       "      <th>mean</th>\n",
       "      <td>2.009</td>\n",
       "      <td>1.990</td>\n",
       "      <td>0.019</td>\n",
       "    </tr>\n",
       "    <tr>\n",
       "      <th>std</th>\n",
       "      <td>1.720</td>\n",
       "      <td>1.709</td>\n",
       "      <td>0.182</td>\n",
       "    </tr>\n",
       "    <tr>\n",
       "      <th>min</th>\n",
       "      <td>-6.077</td>\n",
       "      <td>0.008</td>\n",
       "      <td>-6.085</td>\n",
       "    </tr>\n",
       "    <tr>\n",
       "      <th>25%</th>\n",
       "      <td>0.354</td>\n",
       "      <td>0.345</td>\n",
       "      <td>-0.026</td>\n",
       "    </tr>\n",
       "    <tr>\n",
       "      <th>50%</th>\n",
       "      <td>1.728</td>\n",
       "      <td>1.719</td>\n",
       "      <td>0.001</td>\n",
       "    </tr>\n",
       "    <tr>\n",
       "      <th>75%</th>\n",
       "      <td>3.466</td>\n",
       "      <td>3.399</td>\n",
       "      <td>0.020</td>\n",
       "    </tr>\n",
       "    <tr>\n",
       "      <th>max</th>\n",
       "      <td>5.221</td>\n",
       "      <td>5.230</td>\n",
       "      <td>2.658</td>\n",
       "    </tr>\n",
       "  </tbody>\n",
       "</table>\n",
       "</div>"
      ],
      "text/plain": [
       "         204046    204047    Spread\n",
       "count 2,410.000 2,410.000 2,410.000\n",
       "mean      2.009     1.990     0.019\n",
       "std       1.720     1.709     0.182\n",
       "min      -6.077     0.008    -6.085\n",
       "25%       0.354     0.345    -0.026\n",
       "50%       1.728     1.719     0.001\n",
       "75%       3.466     3.399     0.020\n",
       "max       5.221     5.230     2.658"
      ]
     },
     "execution_count": 94,
     "metadata": {},
     "output_type": "execute_result"
    }
   ],
   "source": [
    "(spread_df*100).describe()"
   ]
  },
  {
   "cell_type": "markdown",
   "id": "e42121bc",
   "metadata": {},
   "source": [
    "## 1.3 Profit Opportunity\n",
    "\n",
    "Using the concept of **modified duration**, how much profit or loss (PnL) would you expect to make for every basis point of convergence in the spread? Specifically, assume the convergence is symmetric: the bond's (`204046`) ytm goes down 0.5bp and the note (`204047`) ytm goes up 0.5bp.\n",
    "\n",
    "Describe the PnL you would expect to achieve on your position should this happen. Specify the PnL of the long position, the short position, and the net total.\n",
    "\n",
    "Suppose the spread in YTM between the two securities disappears, due to a symmetric move of roughly ~17bps in each security's YTM. What is the PnL? (This is just a linearly scaling of your prior answer for a 1bp convergence.) \n",
    "\n",
    "\n",
    "## 1.4 Result in 2008\n",
    "\n",
    "Calculate the profit (or loss) on the position on the following two dates:\n",
    "* 2008-11-25\n",
    "* 2008-12-16\n",
    "\n",
    "To calculate the pnl on each date, simply use the prices of the securities on those dates along with your position sizes, ($n_i, n_j$). No coupon is being paid in November or December, so all you need is the \"dirty\" price on these two dates.\n",
    "\n",
    "Does the pnl make sense (approximately) given your results in 1.3 with regard to the sensitivity of pnl to moves in the YTM spread?\n",
    "\n",
    "## 1.5 *Optional*: Examining the Trade through June 2009\n",
    "\n",
    "Calculate the pnl of the trade for the following dates:\n",
    "* 2009-01-27\n",
    "* 2009-03-24\n",
    "* 2009-06-16\n",
    "\n",
    "Did the trade do well or poorly in the first six months of 2009?\n",
    "\n",
    "Calculate the YTM spreads on these dates. Does the YTM spread correspond to pnl roughly as we would expect based on the calculation in 1.3?"
   ]
  },
  {
   "cell_type": "code",
   "execution_count": 74,
   "id": "933f3603",
   "metadata": {},
   "outputs": [
    {
     "ename": "SyntaxError",
     "evalue": "invalid syntax (2383850710.py, line 2)",
     "output_type": "error",
     "traceback": [
      "\u001b[1;36m  File \u001b[1;32m\"C:\\Users\\dcste\\AppData\\Local\\Temp\\ipykernel_12812\\2383850710.py\"\u001b[1;36m, line \u001b[1;32m2\u001b[0m\n\u001b[1;33m    def pnl_spread_trade()\u001b[0m\n\u001b[1;37m                          ^\u001b[0m\n\u001b[1;31mSyntaxError\u001b[0m\u001b[1;31m:\u001b[0m invalid syntax\n"
     ]
    }
   ],
   "source": [
    "#1.3\n",
    "def pnl_spread_trade()"
   ]
  },
  {
   "cell_type": "markdown",
   "id": "e42a4ad4",
   "metadata": {},
   "source": [
    "***"
   ]
  },
  {
   "cell_type": "markdown",
   "id": "78a91c5d",
   "metadata": {},
   "source": [
    "# 2 Calculating Duration"
   ]
  },
  {
   "cell_type": "markdown",
   "id": "db1c8aea",
   "metadata": {},
   "source": [
    "Use the data file `../data/treasury_quotes_2022-09-30.xlsx`.\n",
    "\n",
    "This data reports duration as `TDDURATN`. It quotes the duration in days, so I recommend dividing by 365 to get the duration in its usual format.\n",
    "\n",
    "## 2.1 \n",
    "Set up the cashflow matrix. \n",
    "\n",
    "\n",
    "## 2.2\n",
    "Build a discount curve assuming that the spot rate is 2\\% per year, continuously compounded.\n",
    "\n",
    "Plot the discount curve and the associated spot curve out to 30 years maturity.\n",
    "\n",
    "*Note, you do not need to properly extract a spot curve and associated discount factors; rather, you are simply assuming a flat term structure of spot rates at 2\\% and using that to figure out discount rates.*\n",
    "\n",
    "## 2.3\n",
    "For each treasury issue, calculate the duration as the weighted average of the (discounted!) cashflow maturity.\n",
    "\n",
    "Report the summary statistics of the durations. (Use `.describe()` from pandas.)\n",
    "\n",
    "\n",
    "## 2.4\n",
    "How close are your duration estimates to the imputed durations given in the data source, (column `TDDURATN`)?\n",
    "\n",
    "Report the summary statistics of the imputed durations minus your calculated durations from above.\n",
    "\n",
    "Why might they be different?\n",
    "\n",
    "## 2.5\n",
    "Continue using your assumed discount rates of 2\\% to calculate the convexity of each issue.\n",
    "\n",
    "Report the summary statistics of these convexity calculations.\n",
    "\n",
    "## 2.6 (Optional)\n",
    "\n",
    "Re-do the duration and convexity calculations using an extracted discount curve instead of a discount curve based on a constant (arbitrary) spot rate. "
   ]
  },
  {
   "cell_type": "markdown",
   "id": "b4399246",
   "metadata": {},
   "source": [
    "# 3 Hedging Duration"
   ]
  },
  {
   "cell_type": "markdown",
   "id": "56022773",
   "metadata": {},
   "source": [
    "Import `treasury_ts_issue_duration_(207392, 207391, 207457).xlsx`.\n",
    "\n",
    "I suggest using code such as\n",
    "\n",
    "* `tsdata = pd.read_excel(filepath_tsdata,sheet_name='ts')`\n",
    "\n",
    "* `tsdata.columns = tsdata.columns.str.upper()`\n",
    "\n",
    "* `px = tsdata.pivot_table(index='CALDT',columns='KYTREASNO',values='TDASK').dropna()`\n",
    "* `duration = tsdata.pivot_table(index='CALDT',columns='KYTREASNO',values='TDDURATN').dropna()`\n",
    "\n",
    "## 3.1 \n",
    "\n",
    "Suppose you have a portfolio of 10,000 USD long in security `207391` on the last day of the sample.\n",
    "\n",
    "If you want to manage interest rate exposure using duration, how large of a short position should you hold in `207392`?\n",
    "\n",
    "(Duration is the column `TDDURATN` in the raw data.)\n",
    "\n",
    "## 3.2\n",
    "\n",
    "Step through the time-series, doing the following:\n",
    "\n",
    "* Starting at the end of the first day, set the hedged position according to the relative given durations.\n",
    "* Use the second day's price data to evaluate the net profit or loss of the hedged position.\n",
    "* Reset the the hedged position using the end-of-second-day durations. Again fix the long position of security `207391` to be 10,000.\n",
    "* Repeat throughout the timeseries.\n",
    "\n",
    "Report \n",
    "* the total profit (or loss.)\n",
    "* the mean, standard deviation, min, and max of the daily profit or loss."
   ]
  },
  {
   "cell_type": "markdown",
   "id": "cfaae81d",
   "metadata": {},
   "source": [
    "***"
   ]
  },
  {
   "cell_type": "markdown",
   "id": "dc11f388",
   "metadata": {},
   "source": [
    "# 4 Other Interest-Rate Risks\n",
    "\n",
    "## *Optional*\n",
    "\n",
    "***No need to submit this problem, but if we discuss it, then you are expected to know it.***"
   ]
  },
  {
   "cell_type": "markdown",
   "id": "77df6678",
   "metadata": {},
   "source": [
    "## 4.1 Other Yield Curve Movements\n",
    "\n",
    "Use the yield curve time-series data in `'../data/yields_2022-11-30.xlsx` to calculate the time-series of the **level**, **slope**, and curvature** factors.\n",
    "\n",
    "Calculate the yield-curve factors. For each point in time, calculate the following three factors:\n",
    "\n",
    "$\\begin{align}\n",
    "x^{\\text{level}}_t =& \\frac{1}{N_{\\text{yields}}}\\sum_{i=1}^{N_{\\text{yields}}} y^{(i)}_t\\\\\n",
    "x^{\\text{slope}}_t =& y^{(30)}_t - y^{(1)}_t\\\\\n",
    "x^{\\text{curvature}}_t =& -y^{(1)}_t + 2 y^{(10)}_t - y^{(30)}_t\n",
    "\\end{align}$\n",
    "\n",
    "Report the mean and volatility of each factor.\n",
    "\n",
    "Report the correlation matrix of the factors."
   ]
  },
  {
   "cell_type": "markdown",
   "id": "2a62659e",
   "metadata": {},
   "source": [
    "## 4.2 Factor Duration\n",
    "\n",
    "Calculate the factor duration of the treasuries from `treasury_ts_issue_duration_(207392, 207391, 207457).xlsx`.\n",
    "\n",
    "Run a multivariate regression of the bond prices on all three factors constructed above from the yield factors: level, slope, and curvature. \n",
    "\n",
    "Estimate the regression in the form of day-over-day differences for both bond prices and factors. That is, we are using regression to approximate the factor duration equation,\n",
    "\n",
    "$\\begin{align}\n",
    "\\frac{dP}{P} = \\beta_1 dz_1 + \\beta_2 dz_2 + \\beta_3 dz_3 + \\epsilon\n",
    "\\end{align}$\n",
    "\n",
    "Report the betas for each of these factors, for each of the bond prices."
   ]
  }
 ],
 "metadata": {
  "hide_input": false,
  "kernelspec": {
   "display_name": "base",
   "language": "python",
   "name": "python3"
  },
  "language_info": {
   "codemirror_mode": {
    "name": "ipython",
    "version": 3
   },
   "file_extension": ".py",
   "mimetype": "text/x-python",
   "name": "python",
   "nbconvert_exporter": "python",
   "pygments_lexer": "ipython3",
   "version": "3.9.13"
  },
  "vscode": {
   "interpreter": {
    "hash": "44a761cc06a695ddb39d99b7e807436f731f960c127538853a5b90f596df33e4"
   }
  }
 },
 "nbformat": 4,
 "nbformat_minor": 5
}
