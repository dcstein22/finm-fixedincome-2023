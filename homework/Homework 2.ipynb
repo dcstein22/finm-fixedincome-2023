{
 "cells": [
  {
   "cell_type": "markdown",
   "id": "3e013a68",
   "metadata": {},
   "source": [
    "# Homework 2\n",
    "\n",
    "## FINM 37400 - 2023\n",
    "\n",
    "### UChicago Financial Mathematics\n",
    "\n",
    "* Mark Hendricks\n",
    "* hendricks@uchicago.edu"
   ]
  },
  {
   "cell_type": "markdown",
   "id": "be85b5d0",
   "metadata": {},
   "source": [
    "***"
   ]
  },
  {
   "cell_type": "markdown",
   "id": "013254e0",
   "metadata": {},
   "source": [
    "# 1 HBS Case: Fixed-Income Arbitrage in a Financial Crisis (A): US Treasuries in November 2008\n",
    "\n",
    "## Data\n",
    "* Use the data file `treasury_ts_2015-08-15.xlsx`.\n",
    "* Examine the treasure issues with `kytreasno` of `204046` and `204047`. These are the bond and note (respectively) which mature on 2015-08-15.\n",
    "* Look at the data on 2008-11-04.\n",
    "\n",
    "## 1.1 The situation\n",
    "\n",
    "Make a chart comparing the issues in the following features, (as of Nov 4, 2008.)\n",
    "* coupon rate\n",
    "* bid\n",
    "* ask\n",
    "* accrued interest\n",
    "* dirty price\n",
    "* duration (quoted in years, not days, assuming 365.25 days per year.)\n",
    "* modified duration\n",
    "* YTM\n",
    "\n",
    "## 1.2 Hedge Ratio\n",
    "\n",
    "Suppose you are building a trade to go long $n_i$ bonds (`204046`) and short $n_j$ notes (`204047`).\n",
    "\n",
    "We can find an equation for $n_j$ in terms of $n_i$ such that the total holdings will have duration equal to zero. (Having zero duration also means have zero dollar duration, if helpful.)\n",
    "\n",
    "Notation:\n",
    "* $n_i$: number of bonds purchased (or sold)\n",
    "* $D_i$: duration of bond $i$\n",
    "* $D_{\\$,i}$: dollar duration of bond $i$, equal to $p_iD_i$\n",
    "\n",
    "If we want the total duration of our holdings to be zero, then we need to size the trade such that $n_i$ and $n_j$ satisfy,\n",
    "\n",
    "$$0 = n_iD_{\\$,i} + n_jD_{\\$,j}$$\n",
    "\n",
    "$$n_j = -n_i\\frac{D_{\\$,i}}{D_{\\$,j}}$$\n",
    "\n",
    "Suppose you will use \\\\$1mm of capital, leveraged 50x to buy \\\\$50mm of the bonds (`204046`).\n",
    "\n",
    "Use the ratio above to short a number of notes (`204047`) to keep zero duration.\n",
    "\n",
    "Report the number of bonds and notes of your position, along with the total dollars in the short position."
   ]
  },
  {
   "cell_type": "code",
   "execution_count": 77,
   "id": "114bd4a3",
   "metadata": {},
   "outputs": [],
   "source": [
    "import pandas as pd\n",
    "import numpy as np\n",
    "import datetime\n",
    "import warnings\n",
    "import matplotlib as mpl\n",
    "import matplotlib.pyplot as plt\n",
    "from sklearn.linear_model import LinearRegression\n",
    "from scipy.optimize import minimize\n",
    "%matplotlib inline\n",
    "plt.style.use('seaborn')\n",
    "mpl.rcParams['font.family'] = 'serif'\n",
    "from treasury_cmds import *\n",
    "pd.options.display.float_format = '{:,.6f}'.format"
   ]
  },
  {
   "cell_type": "code",
   "execution_count": 78,
   "id": "ab794bd5",
   "metadata": {},
   "outputs": [],
   "source": [
    "treasury_path = 'C:/Users/dcste/OneDrive/fixed_income/fixed_income_FORKED/finm-fixedincome-2023/data/treasury_ts_2015-08-15.xlsx'\n",
    "t_path_2 = 'C:/Users/dcste/OneDrive/fixed_income/fixed_income_FORKED/finm-fixedincome-2023/data/treasury_quotes_2022-09-30.xlsx'\n",
    "info = pd.read_excel(treasury_path, sheet_name='info', index_col = 0)\n",
    "ts_data = pd.read_excel(treasury_path, sheet_name= 'database')\n",
    "ts_data.columns = ts_data.columns.str.upper()\n",
    "treasury_df = pd.read_excel(t_path_2)\n",
    "treasury_df.columns = treasury_df.columns.str.upper()\n",
    "treasury_df.sort_values('TMATDT', inplace=True)\n",
    "treasury_df.set_index(\"KYTREASNO\", inplace = True)\n"
   ]
  },
  {
   "cell_type": "code",
   "execution_count": 79,
   "id": "1034986d",
   "metadata": {},
   "outputs": [],
   "source": [
    "mask = ts_data[ts_data.CALDT == '2008-11-04']\n",
    "metrics = mask.copy()[['KYTREASNO','CALDT','TDBID','TDASK','TDNOMPRC','TDACCINT', 'TDYLD','TDDURATN','TDPUBOUT']].set_index('KYTREASNO')\n",
    "metrics.columns = ['CALDT','BID','ASK', 'Nominal_Price','Accrued Interest','YTM','Duration','Outstanding']"
   ]
  },
  {
   "cell_type": "code",
   "execution_count": 80,
   "id": "7bd5f73d",
   "metadata": {},
   "outputs": [],
   "source": [
    "metrics['Dirty_Price'] = (metrics['BID']+metrics['ASK'])*.5 + metrics['Accrued Interest']"
   ]
  },
  {
   "cell_type": "code",
   "execution_count": 81,
   "id": "721a7cae",
   "metadata": {},
   "outputs": [],
   "source": [
    "metrics['YTM'] *= 365.25\n",
    "metrics['Coupon_Rate'] = [4.25,10.625]\n",
    "metrics['Duration'] /= 365.25\n",
    "metrics['Modified Duration'] = metrics['Duration']/(1+(metrics['YTM']/2))\n",
    "metrics['Dollar_Duration'] = metrics['Modified Duration']*metrics['Dirty_Price']\n",
    "metrics = metrics.T"
   ]
  },
  {
   "cell_type": "code",
   "execution_count": 82,
   "id": "caa6aca2",
   "metadata": {},
   "outputs": [
    {
     "data": {
      "text/html": [
       "<div>\n",
       "<style scoped>\n",
       "    .dataframe tbody tr th:only-of-type {\n",
       "        vertical-align: middle;\n",
       "    }\n",
       "\n",
       "    .dataframe tbody tr th {\n",
       "        vertical-align: top;\n",
       "    }\n",
       "\n",
       "    .dataframe thead th {\n",
       "        text-align: right;\n",
       "    }\n",
       "</style>\n",
       "<table border=\"1\" class=\"dataframe\">\n",
       "  <thead>\n",
       "    <tr style=\"text-align: right;\">\n",
       "      <th>KYTREASNO</th>\n",
       "      <th>204047</th>\n",
       "      <th>204046</th>\n",
       "    </tr>\n",
       "  </thead>\n",
       "  <tbody>\n",
       "    <tr>\n",
       "      <th>CALDT</th>\n",
       "      <td>2008-11-04 00:00:00</td>\n",
       "      <td>2008-11-04 00:00:00</td>\n",
       "    </tr>\n",
       "    <tr>\n",
       "      <th>BID</th>\n",
       "      <td>105.953125</td>\n",
       "      <td>141.859375</td>\n",
       "    </tr>\n",
       "    <tr>\n",
       "      <th>ASK</th>\n",
       "      <td>105.984375</td>\n",
       "      <td>141.890625</td>\n",
       "    </tr>\n",
       "    <tr>\n",
       "      <th>Nominal_Price</th>\n",
       "      <td>105.968750</td>\n",
       "      <td>141.875000</td>\n",
       "    </tr>\n",
       "    <tr>\n",
       "      <th>Accrued Interest</th>\n",
       "      <td>0.935462</td>\n",
       "      <td>2.338655</td>\n",
       "    </tr>\n",
       "    <tr>\n",
       "      <th>YTM</th>\n",
       "      <td>0.032362</td>\n",
       "      <td>0.035753</td>\n",
       "    </tr>\n",
       "    <tr>\n",
       "      <th>Duration</th>\n",
       "      <td>5.935706</td>\n",
       "      <td>5.230138</td>\n",
       "    </tr>\n",
       "    <tr>\n",
       "      <th>Outstanding</th>\n",
       "      <td>20,998.000000</td>\n",
       "      <td>2,852.000000</td>\n",
       "    </tr>\n",
       "    <tr>\n",
       "      <th>Dirty_Price</th>\n",
       "      <td>106.904212</td>\n",
       "      <td>144.213655</td>\n",
       "    </tr>\n",
       "    <tr>\n",
       "      <th>Coupon_Rate</th>\n",
       "      <td>4.250000</td>\n",
       "      <td>10.625000</td>\n",
       "    </tr>\n",
       "    <tr>\n",
       "      <th>Modified Duration</th>\n",
       "      <td>5.841189</td>\n",
       "      <td>5.138284</td>\n",
       "    </tr>\n",
       "    <tr>\n",
       "      <th>Dollar_Duration</th>\n",
       "      <td>624.447664</td>\n",
       "      <td>741.010749</td>\n",
       "    </tr>\n",
       "  </tbody>\n",
       "</table>\n",
       "</div>"
      ],
      "text/plain": [
       "KYTREASNO                       204047               204046\n",
       "CALDT              2008-11-04 00:00:00  2008-11-04 00:00:00\n",
       "BID                         105.953125           141.859375\n",
       "ASK                         105.984375           141.890625\n",
       "Nominal_Price               105.968750           141.875000\n",
       "Accrued Interest              0.935462             2.338655\n",
       "YTM                           0.032362             0.035753\n",
       "Duration                      5.935706             5.230138\n",
       "Outstanding              20,998.000000         2,852.000000\n",
       "Dirty_Price                 106.904212           144.213655\n",
       "Coupon_Rate                   4.250000            10.625000\n",
       "Modified Duration             5.841189             5.138284\n",
       "Dollar_Duration             624.447664           741.010749"
      ]
     },
     "execution_count": 82,
     "metadata": {},
     "output_type": "execute_result"
    }
   ],
   "source": [
    "metrics"
   ]
  },
  {
   "cell_type": "code",
   "execution_count": 83,
   "id": "1fd31a75",
   "metadata": {},
   "outputs": [],
   "source": [
    "trade_pair = pd.DataFrame(data = None, columns=['204047','204046'])\n",
    "trade_pair.loc['YTM'] = [0.032362,0.035753]\n",
    "trade_pair.loc['Dirty_Price']  = [106.904212,144.213655]\n",
    "\n",
    "trade_pair.loc['Modified_Duration'] = [5.841189,5.13824]\n",
    "trade_pair.loc['dollar_duration'] = [624.447664,741.010749]"
   ]
  },
  {
   "cell_type": "code",
   "execution_count": 84,
   "id": "4f4b16f2",
   "metadata": {},
   "outputs": [
    {
     "data": {
      "text/html": [
       "<div>\n",
       "<style scoped>\n",
       "    .dataframe tbody tr th:only-of-type {\n",
       "        vertical-align: middle;\n",
       "    }\n",
       "\n",
       "    .dataframe tbody tr th {\n",
       "        vertical-align: top;\n",
       "    }\n",
       "\n",
       "    .dataframe thead th {\n",
       "        text-align: right;\n",
       "    }\n",
       "</style>\n",
       "<table border=\"1\" class=\"dataframe\">\n",
       "  <thead>\n",
       "    <tr style=\"text-align: right;\">\n",
       "      <th></th>\n",
       "      <th>204047</th>\n",
       "      <th>204046</th>\n",
       "    </tr>\n",
       "  </thead>\n",
       "  <tbody>\n",
       "    <tr>\n",
       "      <th>YTM</th>\n",
       "      <td>0.032362</td>\n",
       "      <td>0.035753</td>\n",
       "    </tr>\n",
       "    <tr>\n",
       "      <th>Dirty_Price</th>\n",
       "      <td>106.904212</td>\n",
       "      <td>144.213655</td>\n",
       "    </tr>\n",
       "    <tr>\n",
       "      <th>Modified_Duration</th>\n",
       "      <td>5.841189</td>\n",
       "      <td>5.138240</td>\n",
       "    </tr>\n",
       "    <tr>\n",
       "      <th>dollar_duration</th>\n",
       "      <td>624.447664</td>\n",
       "      <td>741.010749</td>\n",
       "    </tr>\n",
       "  </tbody>\n",
       "</table>\n",
       "</div>"
      ],
      "text/plain": [
       "                      204047     204046\n",
       "YTM                 0.032362   0.035753\n",
       "Dirty_Price       106.904212 144.213655\n",
       "Modified_Duration   5.841189   5.138240\n",
       "dollar_duration   624.447664 741.010749"
      ]
     },
     "execution_count": 84,
     "metadata": {},
     "output_type": "execute_result"
    }
   ],
   "source": [
    "trade_pair"
   ]
  },
  {
   "cell_type": "code",
   "execution_count": 85,
   "id": "19ba016e",
   "metadata": {},
   "outputs": [
    {
     "data": {
      "text/plain": [
       "'204047'"
      ]
     },
     "execution_count": 85,
     "metadata": {},
     "output_type": "execute_result"
    }
   ],
   "source": [
    "long_security = trade_pair.loc['YTM'].idxmax()\n",
    "short_security = trade_pair.loc['YTM'].idxmin()\n",
    "\n",
    "short_security"
   ]
  },
  {
   "cell_type": "code",
   "execution_count": 86,
   "id": "6aa8f98d",
   "metadata": {},
   "outputs": [
    {
     "data": {
      "text/plain": [
       "144.213655"
      ]
     },
     "execution_count": 86,
     "metadata": {},
     "output_type": "execute_result"
    }
   ],
   "source": [
    "p = trade_pair.loc['Dirty_Price']\n",
    "p.loc['204046']"
   ]
  },
  {
   "attachments": {},
   "cell_type": "markdown",
   "id": "5b935b6e",
   "metadata": {},
   "source": [
    "# Calculating Hedge Ratio"
   ]
  },
  {
   "attachments": {},
   "cell_type": "markdown",
   "id": "62363274",
   "metadata": {},
   "source": [
    "## Financing Assumptions\n",
    "\n",
    "- In this trade we take a long position in the bond which has the higher yield and short the note that has a lower yield."
   ]
  },
  {
   "cell_type": "code",
   "execution_count": 87,
   "id": "2d969bdd",
   "metadata": {},
   "outputs": [],
   "source": [
    "def hedge_ratio(dollar_duration_long, dollar_duration_short, size_long = None):\n",
    "    if size_long == None:\n",
    "        return -dollar_duration_long/dollar_duration_short\n",
    "    else:\n",
    "        return (-size_long*(dollar_duration_long))/dollar_duration_short"
   ]
  },
  {
   "cell_type": "code",
   "execution_count": 101,
   "id": "2b83ccd3",
   "metadata": {},
   "outputs": [],
   "source": [
    "LONG_EQUITY = 1e6\n",
    "def trade_balance_sheet(prices, durations, haircuts, long_equity, short_equity):\n",
    "    balance_sheet = pd.DataFrame(data = None,columns=['Equity','Asset_Value','Contracts','Dollar_Duration','Dirty_Price'], index = [long_equity,short_equity])\n",
    "    long_price = prices.loc[long_equity]\n",
    "    short_price = prices.loc[short_equity]\n",
    "    duration_long = durations.loc[long_equity]\n",
    "    duration_short = durations.loc[short_equity]\n",
    "    haircut_short = haircuts.loc['short']\n",
    "    haircut_long = haircuts.loc['long']\n",
    "    balance_sheet.loc[long_equity,'Dollar_Duration'] = duration_long\n",
    "    balance_sheet.loc[short_equity,'Dollar_Duration'] = duration_short\n",
    "    balance_sheet.loc[long_equity,'Equity'] = LONG_EQUITY\n",
    "    balance_sheet.loc[long_equity,'Asset_Value'] = 5e7\n",
    "    balance_sheet.loc[long_equity,'Contracts'] = balance_sheet.loc[long_equity,'Asset_Value']/long_price\n",
    "    balance_sheet.loc[short_equity,'Contracts'] = hedge_ratio(dollar_duration_long=duration_long,dollar_duration_short=duration_short,\\\n",
    "        size_long=balance_sheet.loc[long_equity,'Contracts'])\n",
    "    balance_sheet.loc[short_equity,'Asset_Value'] = balance_sheet.loc[short_equity,'Contracts']*short_price\n",
    "    balance_sheet.loc[short_equity,'Equity'] = balance_sheet.loc[short_equity,'Asset_Value']*haircut_short\n",
    "    balance_sheet.loc[short_equity,'Dirty_Price'] = short_price\n",
    "    balance_sheet.loc[long_equity,'Dirty_Price'] = long_price\n",
    "    \n",
    "    return balance_sheet\n",
    "    \n",
    "    "
   ]
  },
  {
   "cell_type": "code",
   "execution_count": 102,
   "id": "a601e60a",
   "metadata": {},
   "outputs": [
    {
     "data": {
      "text/html": [
       "<div>\n",
       "<style scoped>\n",
       "    .dataframe tbody tr th:only-of-type {\n",
       "        vertical-align: middle;\n",
       "    }\n",
       "\n",
       "    .dataframe tbody tr th {\n",
       "        vertical-align: top;\n",
       "    }\n",
       "\n",
       "    .dataframe thead th {\n",
       "        text-align: right;\n",
       "    }\n",
       "</style>\n",
       "<table border=\"1\" class=\"dataframe\">\n",
       "  <thead>\n",
       "    <tr style=\"text-align: right;\">\n",
       "      <th></th>\n",
       "      <th>haircut</th>\n",
       "      <th>repo</th>\n",
       "    </tr>\n",
       "  </thead>\n",
       "  <tbody>\n",
       "    <tr>\n",
       "      <th>long</th>\n",
       "      <td>0.020000</td>\n",
       "      <td>0.001500</td>\n",
       "    </tr>\n",
       "    <tr>\n",
       "      <th>short</th>\n",
       "      <td>0.020000</td>\n",
       "      <td>0.001000</td>\n",
       "    </tr>\n",
       "  </tbody>\n",
       "</table>\n",
       "</div>"
      ],
      "text/plain": [
       "       haircut     repo\n",
       "long  0.020000 0.001500\n",
       "short 0.020000 0.001000"
      ]
     },
     "execution_count": 102,
     "metadata": {},
     "output_type": "execute_result"
    }
   ],
   "source": [
    "financing = pd.DataFrame(dtype='float64',index=['long','short'])\n",
    "financing['haircut'] = [.02,.02]\n",
    "financing['repo'] = [.0015,.0010]\n",
    "financing"
   ]
  },
  {
   "cell_type": "code",
   "execution_count": 103,
   "id": "014485cd",
   "metadata": {},
   "outputs": [],
   "source": [
    "balance_sheet = trade_balance_sheet(prices=trade_pair.loc['Dirty_Price'], durations=trade_pair.loc['dollar_duration'],haircuts = financing['haircut'],\\\n",
    "   long_equity = long_security, short_equity = short_security )\n"
   ]
  },
  {
   "cell_type": "code",
   "execution_count": 104,
   "id": "d7d220c5",
   "metadata": {},
   "outputs": [],
   "source": [
    "spread_df = ts_data.pivot_table(values='TDYLD', index = 'CALDT',columns='KYTREASNO')\n",
    "spread_df.columns = ['204046','204047','206524']\n",
    "spread_df['206524'] = spread_df['204046']- spread_df['204047']\n",
    "spread_df = spread_df.rename(columns={'206524':'Spread'})\n",
    "# I need to format the yields\n",
    "spread_df *= 365.25\n",
    "spread_df = spread_df.loc['2006':,:]"
   ]
  },
  {
   "cell_type": "code",
   "execution_count": 105,
   "id": "88fbedb1",
   "metadata": {},
   "outputs": [
    {
     "data": {
      "text/plain": [
       "(-0.001, 0.008)"
      ]
     },
     "execution_count": 105,
     "metadata": {},
     "output_type": "execute_result"
    },
    {
     "data": {
      "image/png": "[encoded data removed]",
      "text/plain": [
       "<Figure size 800x550 with 1 Axes>"
      ]
     },
     "metadata": {},
     "output_type": "display_data"
    }
   ],
   "source": [
    "plt.plot(spread_df.loc['2008-10':,'Spread'])\n",
    "plt.title('Historical Spread(bps)')\n",
    "plt.ylim(-.001,.008)"
   ]
  },
  {
   "cell_type": "code",
   "execution_count": 93,
   "id": "c3c6bdb7",
   "metadata": {},
   "outputs": [
    {
     "data": {
      "text/html": [
       "<div>\n",
       "<style scoped>\n",
       "    .dataframe tbody tr th:only-of-type {\n",
       "        vertical-align: middle;\n",
       "    }\n",
       "\n",
       "    .dataframe tbody tr th {\n",
       "        vertical-align: top;\n",
       "    }\n",
       "\n",
       "    .dataframe thead th {\n",
       "        text-align: right;\n",
       "    }\n",
       "</style>\n",
       "<table border=\"1\" class=\"dataframe\">\n",
       "  <thead>\n",
       "    <tr style=\"text-align: right;\">\n",
       "      <th></th>\n",
       "      <th>204046</th>\n",
       "      <th>204047</th>\n",
       "      <th>Spread</th>\n",
       "    </tr>\n",
       "  </thead>\n",
       "  <tbody>\n",
       "    <tr>\n",
       "      <th>count</th>\n",
       "      <td>2,410.000000</td>\n",
       "      <td>2,410.000000</td>\n",
       "      <td>2,410.000000</td>\n",
       "    </tr>\n",
       "    <tr>\n",
       "      <th>mean</th>\n",
       "      <td>2.009363</td>\n",
       "      <td>1.990174</td>\n",
       "      <td>0.019189</td>\n",
       "    </tr>\n",
       "    <tr>\n",
       "      <th>std</th>\n",
       "      <td>1.719906</td>\n",
       "      <td>1.709289</td>\n",
       "      <td>0.182395</td>\n",
       "    </tr>\n",
       "    <tr>\n",
       "      <th>min</th>\n",
       "      <td>-6.077314</td>\n",
       "      <td>0.007719</td>\n",
       "      <td>-6.085032</td>\n",
       "    </tr>\n",
       "    <tr>\n",
       "      <th>25%</th>\n",
       "      <td>0.353566</td>\n",
       "      <td>0.345058</td>\n",
       "      <td>-0.026247</td>\n",
       "    </tr>\n",
       "    <tr>\n",
       "      <th>50%</th>\n",
       "      <td>1.727539</td>\n",
       "      <td>1.718937</td>\n",
       "      <td>0.001298</td>\n",
       "    </tr>\n",
       "    <tr>\n",
       "      <th>75%</th>\n",
       "      <td>3.465700</td>\n",
       "      <td>3.398835</td>\n",
       "      <td>0.020286</td>\n",
       "    </tr>\n",
       "    <tr>\n",
       "      <th>max</th>\n",
       "      <td>5.221068</td>\n",
       "      <td>5.229953</td>\n",
       "      <td>2.657635</td>\n",
       "    </tr>\n",
       "  </tbody>\n",
       "</table>\n",
       "</div>"
      ],
      "text/plain": [
       "            204046       204047       Spread\n",
       "count 2,410.000000 2,410.000000 2,410.000000\n",
       "mean      2.009363     1.990174     0.019189\n",
       "std       1.719906     1.709289     0.182395\n",
       "min      -6.077314     0.007719    -6.085032\n",
       "25%       0.353566     0.345058    -0.026247\n",
       "50%       1.727539     1.718937     0.001298\n",
       "75%       3.465700     3.398835     0.020286\n",
       "max       5.221068     5.229953     2.657635"
      ]
     },
     "execution_count": 93,
     "metadata": {},
     "output_type": "execute_result"
    }
   ],
   "source": [
    "(spread_df*100).describe()"
   ]
  },
  {
   "cell_type": "markdown",
   "id": "e42121bc",
   "metadata": {},
   "source": [
    "## 1.3 Profit Opportunity\n",
    "\n",
    "Using the concept of **modified duration**, how much profit or loss (PnL) would you expect to make for every basis point of convergence in the spread? Specifically, assume the convergence is symmetric: the bond's (`204046`) ytm goes down 0.5bp and the note (`204047`) ytm goes up 0.5bp.\n",
    "\n",
    "Describe the PnL you would expect to achieve on your position should this happen. Specify the PnL of the long position, the short position, and the net total.\n",
    "\n",
    "Suppose the spread in YTM between the two securities disappears, due to a symmetric move of roughly ~17bps in each security's YTM. What is the PnL? (This is just a linearly scaling of your prior answer for a 1bp convergence.) \n",
    "\n",
    "\n",
    "## 1.4 Result in 2008\n",
    "\n",
    "Calculate the profit (or loss) on the position on the following two dates:\n",
    "* 2008-11-25\n",
    "* 2008-12-16\n",
    "\n",
    "To calculate the pnl on each date, simply use the prices of the securities on those dates along with your position sizes, ($n_i, n_j$). No coupon is being paid in November or December, so all you need is the \"dirty\" price on these two dates.\n",
    "\n",
    "Does the pnl make sense (approximately) given your results in 1.3 with regard to the sensitivity of pnl to moves in the YTM spread?\n",
    "\n",
    "## 1.5 *Optional*: Examining the Trade through June 2009\n",
    "\n",
    "Calculate the pnl of the trade for the following dates:\n",
    "* 2009-01-27\n",
    "* 2009-03-24\n",
    "* 2009-06-16\n",
    "\n",
    "Did the trade do well or poorly in the first six months of 2009?\n",
    "\n",
    "Calculate the YTM spreads on these dates. Does the YTM spread correspond to pnl roughly as we would expect based on the calculation in 1.3?"
   ]
  },
  {
   "cell_type": "code",
   "execution_count": 94,
   "id": "1fd7a390",
   "metadata": {},
   "outputs": [
    {
     "data": {
      "text/html": [
       "<div>\n",
       "<style scoped>\n",
       "    .dataframe tbody tr th:only-of-type {\n",
       "        vertical-align: middle;\n",
       "    }\n",
       "\n",
       "    .dataframe tbody tr th {\n",
       "        vertical-align: top;\n",
       "    }\n",
       "\n",
       "    .dataframe thead th {\n",
       "        text-align: right;\n",
       "    }\n",
       "</style>\n",
       "<table border=\"1\" class=\"dataframe\">\n",
       "  <thead>\n",
       "    <tr style=\"text-align: right;\">\n",
       "      <th></th>\n",
       "      <th>204047</th>\n",
       "      <th>204046</th>\n",
       "    </tr>\n",
       "  </thead>\n",
       "  <tbody>\n",
       "    <tr>\n",
       "      <th>YTM</th>\n",
       "      <td>0.032362</td>\n",
       "      <td>0.035753</td>\n",
       "    </tr>\n",
       "    <tr>\n",
       "      <th>Dirty_Price</th>\n",
       "      <td>106.904212</td>\n",
       "      <td>144.213655</td>\n",
       "    </tr>\n",
       "    <tr>\n",
       "      <th>Modified_Duration</th>\n",
       "      <td>5.841189</td>\n",
       "      <td>5.138240</td>\n",
       "    </tr>\n",
       "    <tr>\n",
       "      <th>dollar_duration</th>\n",
       "      <td>624.447664</td>\n",
       "      <td>741.010749</td>\n",
       "    </tr>\n",
       "  </tbody>\n",
       "</table>\n",
       "</div>"
      ],
      "text/plain": [
       "                      204047     204046\n",
       "YTM                 0.032362   0.035753\n",
       "Dirty_Price       106.904212 144.213655\n",
       "Modified_Duration   5.841189   5.138240\n",
       "dollar_duration   624.447664 741.010749"
      ]
     },
     "execution_count": 94,
     "metadata": {},
     "output_type": "execute_result"
    }
   ],
   "source": [
    "trade_pair"
   ]
  },
  {
   "cell_type": "code",
   "execution_count": 100,
   "id": "ab470bd6",
   "metadata": {},
   "outputs": [
    {
     "data": {
      "text/plain": [
       "'204046'"
      ]
     },
     "execution_count": 100,
     "metadata": {},
     "output_type": "execute_result"
    }
   ],
   "source": [
    "spread_convergence = .0001\n",
    "\n",
    "trade_pair.loc['YTM'].idxmax()"
   ]
  },
  {
   "cell_type": "code",
   "execution_count": 131,
   "id": "d058cc77",
   "metadata": {},
   "outputs": [],
   "source": [
    "def duration_pnl(dollar_duration, delta_rate, no_contracts):\n",
    "    delta_bond_price = -dollar_duration*delta_rate\n",
    "    PNL = no_contracts*delta_bond_price\n",
    "    return PNL"
   ]
  },
  {
   "cell_type": "code",
   "execution_count": 108,
   "id": "cdae8358",
   "metadata": {},
   "outputs": [
    {
     "data": {
      "text/html": [
       "<div>\n",
       "<style scoped>\n",
       "    .dataframe tbody tr th:only-of-type {\n",
       "        vertical-align: middle;\n",
       "    }\n",
       "\n",
       "    .dataframe tbody tr th {\n",
       "        vertical-align: top;\n",
       "    }\n",
       "\n",
       "    .dataframe thead th {\n",
       "        text-align: right;\n",
       "    }\n",
       "</style>\n",
       "<table border=\"1\" class=\"dataframe\">\n",
       "  <thead>\n",
       "    <tr style=\"text-align: right;\">\n",
       "      <th></th>\n",
       "      <th>Equity</th>\n",
       "      <th>Asset_Value</th>\n",
       "      <th>Contracts</th>\n",
       "      <th>Dollar_Duration</th>\n",
       "      <th>Dirty_Price</th>\n",
       "    </tr>\n",
       "  </thead>\n",
       "  <tbody>\n",
       "    <tr>\n",
       "      <th>204046</th>\n",
       "      <td>1,000,000.000000</td>\n",
       "      <td>50,000,000.000000</td>\n",
       "      <td>346,707.806553</td>\n",
       "      <td>741.010749</td>\n",
       "      <td>144.213655</td>\n",
       "    </tr>\n",
       "    <tr>\n",
       "      <th>204047</th>\n",
       "      <td>-879,664.154632</td>\n",
       "      <td>-43,983,207.731591</td>\n",
       "      <td>-411,426.331187</td>\n",
       "      <td>624.447664</td>\n",
       "      <td>106.904212</td>\n",
       "    </tr>\n",
       "  </tbody>\n",
       "</table>\n",
       "</div>"
      ],
      "text/plain": [
       "                 Equity        Asset_Value       Contracts Dollar_Duration  \\\n",
       "204046 1,000,000.000000  50,000,000.000000  346,707.806553      741.010749   \n",
       "204047  -879,664.154632 -43,983,207.731591 -411,426.331187      624.447664   \n",
       "\n",
       "       Dirty_Price  \n",
       "204046  144.213655  \n",
       "204047  106.904212  "
      ]
     },
     "execution_count": 108,
     "metadata": {},
     "output_type": "execute_result"
    }
   ],
   "source": [
    "balance_sheet"
   ]
  },
  {
   "cell_type": "code",
   "execution_count": 143,
   "id": "8d72803d",
   "metadata": {},
   "outputs": [],
   "source": [
    "def pnl_spread_trade(spread_conv, dollar_duration,prices,size_pos, long_equity, short_equity):\n",
    "    spread_conv /= 2\n",
    "    pnl_df = pd.DataFrame(data = None, index = [long_equity,short_equity,'total'])\n",
    "    long_price = prices.loc[long_equity]\n",
    "\n",
    "    short_price = prices.loc[short_equity]\n",
    "    \n",
    "    long_d_duration = dollar_duration.loc[long_equity]\n",
    "    short_d_duration = dollar_duration.loc[short_equity]\n",
    "    no_contracts_long = size_pos.loc[long_equity]\n",
    "    no_contracts_short = size_pos.loc[short_equity]\n",
    "    pnl_df.loc[long_equity,'YTM_Change'] = -spread_conv\n",
    "    pnl_df.loc[short_equity,'YTM_Change'] = spread_conv\n",
    "    pnl_df.loc[long_equity,'Dollar_Duration'] = long_d_duration\n",
    "    pnl_df.loc[short_equity,'Dollar_Duration'] = short_d_duration\n",
    "    pnl_df.loc[long_equity,'Contracts'] = no_contracts_long\n",
    "    pnl_df.loc[short_equity,'Contracts'] = no_contracts_short\n",
    "    pnl_df.loc[long_equity,'PNL'] = duration_pnl(long_d_duration,-spread_conv,no_contracts_long)\n",
    "    pnl_df.loc[short_equity,'PNL'] = duration_pnl(short_d_duration,spread_conv,no_contracts_short)\n",
    "    pnl_df.loc['total','PNL'] = pnl_df['PNL'].sum()\n",
    "    return pnl_df.fillna(0)\n",
    "\n",
    "   \n",
    "\n",
    "\n",
    "\n"
   ]
  },
  {
   "cell_type": "code",
   "execution_count": 117,
   "id": "542e6f42",
   "metadata": {},
   "outputs": [
    {
     "data": {
      "text/plain": [
       "204046   144.213655\n",
       "204047   106.904212\n",
       "Name: Dirty_Price, dtype: object"
      ]
     },
     "execution_count": 117,
     "metadata": {},
     "output_type": "execute_result"
    }
   ],
   "source": [
    "balance_sheet.Dirty_Price"
   ]
  },
  {
   "cell_type": "code",
   "execution_count": 156,
   "id": "b224eaca",
   "metadata": {},
   "outputs": [],
   "source": [
    "# if the spread converges by 1 basis point you are projected to make $25,000\n",
    "pnl_1bs = pnl_spread_trade(spread_convergence,balance_sheet.Dollar_Duration,balance_sheet.Dirty_Price,balance_sheet.Contracts,long_security,short_security)"
   ]
  },
  {
   "cell_type": "code",
   "execution_count": 160,
   "id": "cda7b77c",
   "metadata": {},
   "outputs": [
    {
     "data": {
      "text/html": [
       "<div>\n",
       "<style scoped>\n",
       "    .dataframe tbody tr th:only-of-type {\n",
       "        vertical-align: middle;\n",
       "    }\n",
       "\n",
       "    .dataframe tbody tr th {\n",
       "        vertical-align: top;\n",
       "    }\n",
       "\n",
       "    .dataframe thead th {\n",
       "        text-align: right;\n",
       "    }\n",
       "</style>\n",
       "<table border=\"1\" class=\"dataframe\">\n",
       "  <thead>\n",
       "    <tr style=\"text-align: right;\">\n",
       "      <th></th>\n",
       "      <th>YTM_Change</th>\n",
       "      <th>Dollar_Duration</th>\n",
       "      <th>Contracts</th>\n",
       "      <th>PNL</th>\n",
       "    </tr>\n",
       "  </thead>\n",
       "  <tbody>\n",
       "    <tr>\n",
       "      <th>204046</th>\n",
       "      <td>-0.000050</td>\n",
       "      <td>741.010749</td>\n",
       "      <td>346,707.806553</td>\n",
       "      <td>12,845.710571</td>\n",
       "    </tr>\n",
       "    <tr>\n",
       "      <th>204047</th>\n",
       "      <td>0.000050</td>\n",
       "      <td>624.447664</td>\n",
       "      <td>-411,426.331187</td>\n",
       "      <td>12,845.710571</td>\n",
       "    </tr>\n",
       "    <tr>\n",
       "      <th>total</th>\n",
       "      <td>0.000000</td>\n",
       "      <td>0.000000</td>\n",
       "      <td>0.000000</td>\n",
       "      <td>25,691.421142</td>\n",
       "    </tr>\n",
       "  </tbody>\n",
       "</table>\n",
       "</div>"
      ],
      "text/plain": [
       "        YTM_Change  Dollar_Duration       Contracts           PNL\n",
       "204046   -0.000050       741.010749  346,707.806553 12,845.710571\n",
       "204047    0.000050       624.447664 -411,426.331187 12,845.710571\n",
       "total     0.000000         0.000000        0.000000 25,691.421142"
      ]
     },
     "execution_count": 160,
     "metadata": {},
     "output_type": "execute_result"
    }
   ],
   "source": [
    "pnl_1bs"
   ]
  },
  {
   "cell_type": "code",
   "execution_count": 161,
   "id": "a4e93a4c",
   "metadata": {},
   "outputs": [
    {
     "data": {
      "text/plain": [
       "25691.421141777464"
      ]
     },
     "execution_count": 161,
     "metadata": {},
     "output_type": "execute_result"
    }
   ],
   "source": [
    "pnl_1bs.loc['total','PNL']\n"
   ]
  },
  {
   "attachments": {},
   "cell_type": "markdown",
   "id": "fa166dab",
   "metadata": {},
   "source": [
    "# Calculating the PNL on 2008-11-25 and 2008-12-16\n",
    "\n"
   ]
  },
  {
   "cell_type": "code",
   "execution_count": 166,
   "id": "066e35a8",
   "metadata": {},
   "outputs": [
    {
     "data": {
      "text/html": [
       "<div>\n",
       "<style scoped>\n",
       "    .dataframe tbody tr th:only-of-type {\n",
       "        vertical-align: middle;\n",
       "    }\n",
       "\n",
       "    .dataframe tbody tr th {\n",
       "        vertical-align: top;\n",
       "    }\n",
       "\n",
       "    .dataframe thead th {\n",
       "        text-align: right;\n",
       "    }\n",
       "</style>\n",
       "<table border=\"1\" class=\"dataframe\">\n",
       "  <thead>\n",
       "    <tr style=\"text-align: right;\">\n",
       "      <th></th>\n",
       "      <th>YTM_Change</th>\n",
       "      <th>Dollar_Duration</th>\n",
       "      <th>Contracts</th>\n",
       "      <th>PNL</th>\n",
       "    </tr>\n",
       "  </thead>\n",
       "  <tbody>\n",
       "    <tr>\n",
       "      <th>204046</th>\n",
       "      <td>0.000955</td>\n",
       "      <td>741.010749</td>\n",
       "      <td>346,707.806553</td>\n",
       "      <td>-245,234.069145</td>\n",
       "    </tr>\n",
       "    <tr>\n",
       "      <th>204047</th>\n",
       "      <td>-0.000955</td>\n",
       "      <td>624.447664</td>\n",
       "      <td>-411,426.331187</td>\n",
       "      <td>-245,234.069145</td>\n",
       "    </tr>\n",
       "    <tr>\n",
       "      <th>total</th>\n",
       "      <td>0.000000</td>\n",
       "      <td>0.000000</td>\n",
       "      <td>0.000000</td>\n",
       "      <td>-490,468.138290</td>\n",
       "    </tr>\n",
       "  </tbody>\n",
       "</table>\n",
       "</div>"
      ],
      "text/plain": [
       "        YTM_Change  Dollar_Duration       Contracts             PNL\n",
       "204046    0.000955       741.010749  346,707.806553 -245,234.069145\n",
       "204047   -0.000955       624.447664 -411,426.331187 -245,234.069145\n",
       "total     0.000000         0.000000        0.000000 -490,468.138290"
      ]
     },
     "execution_count": 166,
     "metadata": {},
     "output_type": "execute_result"
    }
   ],
   "source": [
    "\n",
    "pnl_spread_trade(st1,balance_sheet.Dollar_Duration,balance_sheet.Dirty_Price,balance_sheet.Contracts,long_security,short_security)"
   ]
  },
  {
   "cell_type": "code",
   "execution_count": null,
   "id": "8c0c8045",
   "metadata": {},
   "outputs": [],
   "source": []
  },
  {
   "cell_type": "code",
   "execution_count": 167,
   "id": "8edc0ec0",
   "metadata": {},
   "outputs": [],
   "source": [
    "st1 = -(spread_df.loc['2008-11-25']['Spread']-spread_df.loc['2008-11-04']['Spread'])\n",
    "st2 = -(spread_df.loc['2008-12-16']['Spread'] - spread_df.loc['2008-11-04']['Spread'])"
   ]
  },
  {
   "cell_type": "code",
   "execution_count": 168,
   "id": "e571db31",
   "metadata": {},
   "outputs": [
    {
     "data": {
      "text/html": [
       "<div>\n",
       "<style scoped>\n",
       "    .dataframe tbody tr th:only-of-type {\n",
       "        vertical-align: middle;\n",
       "    }\n",
       "\n",
       "    .dataframe tbody tr th {\n",
       "        vertical-align: top;\n",
       "    }\n",
       "\n",
       "    .dataframe thead th {\n",
       "        text-align: right;\n",
       "    }\n",
       "</style>\n",
       "<table border=\"1\" class=\"dataframe\">\n",
       "  <thead>\n",
       "    <tr style=\"text-align: right;\">\n",
       "      <th></th>\n",
       "      <th>YTM_Change</th>\n",
       "      <th>Dollar_Duration</th>\n",
       "      <th>Contracts</th>\n",
       "      <th>PNL</th>\n",
       "    </tr>\n",
       "  </thead>\n",
       "  <tbody>\n",
       "    <tr>\n",
       "      <th>204046</th>\n",
       "      <td>0.001888</td>\n",
       "      <td>741.010749</td>\n",
       "      <td>346,707.806553</td>\n",
       "      <td>-485,037.913422</td>\n",
       "    </tr>\n",
       "    <tr>\n",
       "      <th>204047</th>\n",
       "      <td>-0.001888</td>\n",
       "      <td>624.447664</td>\n",
       "      <td>-411,426.331187</td>\n",
       "      <td>-485,037.913422</td>\n",
       "    </tr>\n",
       "    <tr>\n",
       "      <th>total</th>\n",
       "      <td>0.000000</td>\n",
       "      <td>0.000000</td>\n",
       "      <td>0.000000</td>\n",
       "      <td>-970,075.826844</td>\n",
       "    </tr>\n",
       "  </tbody>\n",
       "</table>\n",
       "</div>"
      ],
      "text/plain": [
       "        YTM_Change  Dollar_Duration       Contracts             PNL\n",
       "204046    0.001888       741.010749  346,707.806553 -485,037.913422\n",
       "204047   -0.001888       624.447664 -411,426.331187 -485,037.913422\n",
       "total     0.000000         0.000000        0.000000 -970,075.826844"
      ]
     },
     "execution_count": 168,
     "metadata": {},
     "output_type": "execute_result"
    }
   ],
   "source": [
    "pnl_spread_trade(st2,balance_sheet.Dollar_Duration,balance_sheet.Dirty_Price,balance_sheet.Contracts,long_security,short_security)"
   ]
  },
  {
   "cell_type": "markdown",
   "id": "e42a4ad4",
   "metadata": {},
   "source": [
    "***"
   ]
  },
  {
   "cell_type": "markdown",
   "id": "78a91c5d",
   "metadata": {},
   "source": [
    "# 2 Calculating Duration"
   ]
  },
  {
   "cell_type": "markdown",
   "id": "db1c8aea",
   "metadata": {},
   "source": [
    "Use the data file `../data/treasury_quotes_2022-09-30.xlsx`.\n",
    "\n",
    "This data reports duration as `TDDURATN`. It quotes the duration in days, so I recommend dividing by 365 to get the duration in its usual format.\n",
    "\n",
    "## 2.1 \n",
    "Set up the cashflow matrix. \n",
    "\n",
    "\n",
    "## 2.2\n",
    "Build a discount curve assuming that the spot rate is 2\\% per year, continuously compounded.\n",
    "\n",
    "Plot the discount curve and the associated spot curve out to 30 years maturity.\n",
    "\n",
    "*Note, you do not need to properly extract a spot curve and associated discount factors; rather, you are simply assuming a flat term structure of spot rates at 2\\% and using that to figure out discount rates.*\n",
    "\n",
    "## 2.3\n",
    "For each treasury issue, calculate the duration as the weighted average of the (discounted!) cashflow maturity.\n",
    "\n",
    "Report the summary statistics of the durations. (Use `.describe()` from pandas.)\n",
    "\n",
    "\n",
    "## 2.4\n",
    "How close are your duration estimates to the imputed durations given in the data source, (column `TDDURATN`)?\n",
    "\n",
    "Report the summary statistics of the imputed durations minus your calculated durations from above.\n",
    "\n",
    "Why might they be different?\n",
    "\n",
    "## 2.5\n",
    "Continue using your assumed discount rates of 2\\% to calculate the convexity of each issue.\n",
    "\n",
    "Report the summary statistics of these convexity calculations.\n",
    "\n",
    "## 2.6 (Optional)\n",
    "\n",
    "Re-do the duration and convexity calculations using an extracted discount curve instead of a discount curve based on a constant (arbitrary) spot rate. "
   ]
  },
  {
   "cell_type": "code",
   "execution_count": 177,
   "id": "53316d02",
   "metadata": {},
   "outputs": [],
   "source": [
    "t_current = treasury_df.CALDT.values[0]\n",
    "rawprice = (treasury_df['TDASK']+ treasury_df['TDBID'])*.5 + treasury_df['TDACCINT']\n",
    "rawprice.name = 'Prices'"
   ]
  },
  {
   "cell_type": "code",
   "execution_count": 179,
   "id": "101abf42",
   "metadata": {},
   "outputs": [],
   "source": [
    "maturity_delta = get_maturity_delta(treasury_df.TMATDT,t_current=t_current)\n"
   ]
  },
  {
   "cell_type": "code",
   "execution_count": 181,
   "id": "b241f2d5",
   "metadata": {},
   "outputs": [],
   "source": [
    "RESTRICT_YLD = True\n",
    "RESTRICT_TIPS = True\n",
    "\n",
    "RESTRICT_DTS_MATURING = False\n",
    "RESTRICT_REDUNDANT = False\n",
    "treasury_filtered = filter_treasuries(treasury_df, t_date=t_current, filter_yld=RESTRICT_YLD,\\\n",
    "    filter_tips=RESTRICT_TIPS,drop_duplicate_maturities=RESTRICT_REDUNDANT)\n",
    "CF = filter_treasury_cashflows(calc_cashflows(treasury_filtered), filter_maturity_dates=RESTRICT_DTS_MATURING)"
   ]
  },
  {
   "cell_type": "code",
   "execution_count": 182,
   "id": "fba4d7b9",
   "metadata": {},
   "outputs": [
    {
     "data": {
      "text/html": [
       "<div>\n",
       "<style scoped>\n",
       "    .dataframe tbody tr th:only-of-type {\n",
       "        vertical-align: middle;\n",
       "    }\n",
       "\n",
       "    .dataframe tbody tr th {\n",
       "        vertical-align: top;\n",
       "    }\n",
       "\n",
       "    .dataframe thead th {\n",
       "        text-align: right;\n",
       "    }\n",
       "</style>\n",
       "<table border=\"1\" class=\"dataframe\">\n",
       "  <thead>\n",
       "    <tr style=\"text-align: right;\">\n",
       "      <th></th>\n",
       "      <th>2022-10-04</th>\n",
       "      <th>2022-10-06</th>\n",
       "      <th>2022-10-11</th>\n",
       "      <th>2022-10-13</th>\n",
       "      <th>2022-10-15</th>\n",
       "      <th>2022-10-18</th>\n",
       "      <th>2022-10-20</th>\n",
       "      <th>2022-10-25</th>\n",
       "      <th>2022-10-27</th>\n",
       "      <th>2022-10-30</th>\n",
       "      <th>...</th>\n",
       "      <th>2050-05-15</th>\n",
       "      <th>2050-08-15</th>\n",
       "      <th>2050-11-15</th>\n",
       "      <th>2051-02-15</th>\n",
       "      <th>2051-05-15</th>\n",
       "      <th>2051-08-15</th>\n",
       "      <th>2051-11-15</th>\n",
       "      <th>2052-02-15</th>\n",
       "      <th>2052-05-15</th>\n",
       "      <th>2052-08-15</th>\n",
       "    </tr>\n",
       "    <tr>\n",
       "      <th>KYTREASNO</th>\n",
       "      <th></th>\n",
       "      <th></th>\n",
       "      <th></th>\n",
       "      <th></th>\n",
       "      <th></th>\n",
       "      <th></th>\n",
       "      <th></th>\n",
       "      <th></th>\n",
       "      <th></th>\n",
       "      <th></th>\n",
       "      <th></th>\n",
       "      <th></th>\n",
       "      <th></th>\n",
       "      <th></th>\n",
       "      <th></th>\n",
       "      <th></th>\n",
       "      <th></th>\n",
       "      <th></th>\n",
       "      <th></th>\n",
       "      <th></th>\n",
       "      <th></th>\n",
       "    </tr>\n",
       "  </thead>\n",
       "  <tbody>\n",
       "    <tr>\n",
       "      <th>207892</th>\n",
       "      <td>100</td>\n",
       "      <td>0</td>\n",
       "      <td>0</td>\n",
       "      <td>0</td>\n",
       "      <td>0.000000</td>\n",
       "      <td>0</td>\n",
       "      <td>0</td>\n",
       "      <td>0</td>\n",
       "      <td>0</td>\n",
       "      <td>0.000000</td>\n",
       "      <td>...</td>\n",
       "      <td>0.000000</td>\n",
       "      <td>0.000000</td>\n",
       "      <td>0.000000</td>\n",
       "      <td>0.000000</td>\n",
       "      <td>0.000000</td>\n",
       "      <td>0.000000</td>\n",
       "      <td>0.000000</td>\n",
       "      <td>0.000000</td>\n",
       "      <td>0.000000</td>\n",
       "      <td>0.000000</td>\n",
       "    </tr>\n",
       "    <tr>\n",
       "      <th>207774</th>\n",
       "      <td>0</td>\n",
       "      <td>100</td>\n",
       "      <td>0</td>\n",
       "      <td>0</td>\n",
       "      <td>0.000000</td>\n",
       "      <td>0</td>\n",
       "      <td>0</td>\n",
       "      <td>0</td>\n",
       "      <td>0</td>\n",
       "      <td>0.000000</td>\n",
       "      <td>...</td>\n",
       "      <td>0.000000</td>\n",
       "      <td>0.000000</td>\n",
       "      <td>0.000000</td>\n",
       "      <td>0.000000</td>\n",
       "      <td>0.000000</td>\n",
       "      <td>0.000000</td>\n",
       "      <td>0.000000</td>\n",
       "      <td>0.000000</td>\n",
       "      <td>0.000000</td>\n",
       "      <td>0.000000</td>\n",
       "    </tr>\n",
       "    <tr>\n",
       "      <th>207893</th>\n",
       "      <td>0</td>\n",
       "      <td>0</td>\n",
       "      <td>100</td>\n",
       "      <td>0</td>\n",
       "      <td>0.000000</td>\n",
       "      <td>0</td>\n",
       "      <td>0</td>\n",
       "      <td>0</td>\n",
       "      <td>0</td>\n",
       "      <td>0.000000</td>\n",
       "      <td>...</td>\n",
       "      <td>0.000000</td>\n",
       "      <td>0.000000</td>\n",
       "      <td>0.000000</td>\n",
       "      <td>0.000000</td>\n",
       "      <td>0.000000</td>\n",
       "      <td>0.000000</td>\n",
       "      <td>0.000000</td>\n",
       "      <td>0.000000</td>\n",
       "      <td>0.000000</td>\n",
       "      <td>0.000000</td>\n",
       "    </tr>\n",
       "    <tr>\n",
       "      <th>207868</th>\n",
       "      <td>0</td>\n",
       "      <td>0</td>\n",
       "      <td>0</td>\n",
       "      <td>100</td>\n",
       "      <td>0.000000</td>\n",
       "      <td>0</td>\n",
       "      <td>0</td>\n",
       "      <td>0</td>\n",
       "      <td>0</td>\n",
       "      <td>0.000000</td>\n",
       "      <td>...</td>\n",
       "      <td>0.000000</td>\n",
       "      <td>0.000000</td>\n",
       "      <td>0.000000</td>\n",
       "      <td>0.000000</td>\n",
       "      <td>0.000000</td>\n",
       "      <td>0.000000</td>\n",
       "      <td>0.000000</td>\n",
       "      <td>0.000000</td>\n",
       "      <td>0.000000</td>\n",
       "      <td>0.000000</td>\n",
       "    </tr>\n",
       "    <tr>\n",
       "      <th>207430</th>\n",
       "      <td>0</td>\n",
       "      <td>0</td>\n",
       "      <td>0</td>\n",
       "      <td>0</td>\n",
       "      <td>100.687500</td>\n",
       "      <td>0</td>\n",
       "      <td>0</td>\n",
       "      <td>0</td>\n",
       "      <td>0</td>\n",
       "      <td>0.000000</td>\n",
       "      <td>...</td>\n",
       "      <td>0.000000</td>\n",
       "      <td>0.000000</td>\n",
       "      <td>0.000000</td>\n",
       "      <td>0.000000</td>\n",
       "      <td>0.000000</td>\n",
       "      <td>0.000000</td>\n",
       "      <td>0.000000</td>\n",
       "      <td>0.000000</td>\n",
       "      <td>0.000000</td>\n",
       "      <td>0.000000</td>\n",
       "    </tr>\n",
       "    <tr>\n",
       "      <th>...</th>\n",
       "      <td>...</td>\n",
       "      <td>...</td>\n",
       "      <td>...</td>\n",
       "      <td>...</td>\n",
       "      <td>...</td>\n",
       "      <td>...</td>\n",
       "      <td>...</td>\n",
       "      <td>...</td>\n",
       "      <td>...</td>\n",
       "      <td>...</td>\n",
       "      <td>...</td>\n",
       "      <td>...</td>\n",
       "      <td>...</td>\n",
       "      <td>...</td>\n",
       "      <td>...</td>\n",
       "      <td>...</td>\n",
       "      <td>...</td>\n",
       "      <td>...</td>\n",
       "      <td>...</td>\n",
       "      <td>...</td>\n",
       "      <td>...</td>\n",
       "    </tr>\n",
       "    <tr>\n",
       "      <th>207763</th>\n",
       "      <td>0</td>\n",
       "      <td>0</td>\n",
       "      <td>0</td>\n",
       "      <td>0</td>\n",
       "      <td>0.000000</td>\n",
       "      <td>0</td>\n",
       "      <td>0</td>\n",
       "      <td>0</td>\n",
       "      <td>0</td>\n",
       "      <td>0.000000</td>\n",
       "      <td>...</td>\n",
       "      <td>0.000000</td>\n",
       "      <td>1.000000</td>\n",
       "      <td>0.000000</td>\n",
       "      <td>1.000000</td>\n",
       "      <td>0.000000</td>\n",
       "      <td>101.000000</td>\n",
       "      <td>0.000000</td>\n",
       "      <td>0.000000</td>\n",
       "      <td>0.000000</td>\n",
       "      <td>0.000000</td>\n",
       "    </tr>\n",
       "    <tr>\n",
       "      <th>207808</th>\n",
       "      <td>0</td>\n",
       "      <td>0</td>\n",
       "      <td>0</td>\n",
       "      <td>0</td>\n",
       "      <td>0.000000</td>\n",
       "      <td>0</td>\n",
       "      <td>0</td>\n",
       "      <td>0</td>\n",
       "      <td>0</td>\n",
       "      <td>0.000000</td>\n",
       "      <td>...</td>\n",
       "      <td>0.937500</td>\n",
       "      <td>0.000000</td>\n",
       "      <td>0.937500</td>\n",
       "      <td>0.000000</td>\n",
       "      <td>0.937500</td>\n",
       "      <td>0.000000</td>\n",
       "      <td>100.937500</td>\n",
       "      <td>0.000000</td>\n",
       "      <td>0.000000</td>\n",
       "      <td>0.000000</td>\n",
       "    </tr>\n",
       "    <tr>\n",
       "      <th>207849</th>\n",
       "      <td>0</td>\n",
       "      <td>0</td>\n",
       "      <td>0</td>\n",
       "      <td>0</td>\n",
       "      <td>0.000000</td>\n",
       "      <td>0</td>\n",
       "      <td>0</td>\n",
       "      <td>0</td>\n",
       "      <td>0</td>\n",
       "      <td>0.000000</td>\n",
       "      <td>...</td>\n",
       "      <td>0.000000</td>\n",
       "      <td>1.125000</td>\n",
       "      <td>0.000000</td>\n",
       "      <td>1.125000</td>\n",
       "      <td>0.000000</td>\n",
       "      <td>1.125000</td>\n",
       "      <td>0.000000</td>\n",
       "      <td>101.125000</td>\n",
       "      <td>0.000000</td>\n",
       "      <td>0.000000</td>\n",
       "    </tr>\n",
       "    <tr>\n",
       "      <th>207891</th>\n",
       "      <td>0</td>\n",
       "      <td>0</td>\n",
       "      <td>0</td>\n",
       "      <td>0</td>\n",
       "      <td>0.000000</td>\n",
       "      <td>0</td>\n",
       "      <td>0</td>\n",
       "      <td>0</td>\n",
       "      <td>0</td>\n",
       "      <td>0.000000</td>\n",
       "      <td>...</td>\n",
       "      <td>1.437500</td>\n",
       "      <td>0.000000</td>\n",
       "      <td>1.437500</td>\n",
       "      <td>0.000000</td>\n",
       "      <td>1.437500</td>\n",
       "      <td>0.000000</td>\n",
       "      <td>1.437500</td>\n",
       "      <td>0.000000</td>\n",
       "      <td>101.437500</td>\n",
       "      <td>0.000000</td>\n",
       "    </tr>\n",
       "    <tr>\n",
       "      <th>207934</th>\n",
       "      <td>0</td>\n",
       "      <td>0</td>\n",
       "      <td>0</td>\n",
       "      <td>0</td>\n",
       "      <td>0.000000</td>\n",
       "      <td>0</td>\n",
       "      <td>0</td>\n",
       "      <td>0</td>\n",
       "      <td>0</td>\n",
       "      <td>0.000000</td>\n",
       "      <td>...</td>\n",
       "      <td>0.000000</td>\n",
       "      <td>1.500000</td>\n",
       "      <td>0.000000</td>\n",
       "      <td>1.500000</td>\n",
       "      <td>0.000000</td>\n",
       "      <td>1.500000</td>\n",
       "      <td>0.000000</td>\n",
       "      <td>1.500000</td>\n",
       "      <td>0.000000</td>\n",
       "      <td>101.500000</td>\n",
       "    </tr>\n",
       "  </tbody>\n",
       "</table>\n",
       "<p>378 rows × 312 columns</p>\n",
       "</div>"
      ],
      "text/plain": [
       "           2022-10-04  2022-10-06  2022-10-11  2022-10-13  2022-10-15  \\\n",
       "KYTREASNO                                                               \n",
       "207892            100           0           0           0    0.000000   \n",
       "207774              0         100           0           0    0.000000   \n",
       "207893              0           0         100           0    0.000000   \n",
       "207868              0           0           0         100    0.000000   \n",
       "207430              0           0           0           0  100.687500   \n",
       "...               ...         ...         ...         ...         ...   \n",
       "207763              0           0           0           0    0.000000   \n",
       "207808              0           0           0           0    0.000000   \n",
       "207849              0           0           0           0    0.000000   \n",
       "207891              0           0           0           0    0.000000   \n",
       "207934              0           0           0           0    0.000000   \n",
       "\n",
       "           2022-10-18  2022-10-20  2022-10-25  2022-10-27  2022-10-30  ...  \\\n",
       "KYTREASNO                                                              ...   \n",
       "207892              0           0           0           0    0.000000  ...   \n",
       "207774              0           0           0           0    0.000000  ...   \n",
       "207893              0           0           0           0    0.000000  ...   \n",
       "207868              0           0           0           0    0.000000  ...   \n",
       "207430              0           0           0           0    0.000000  ...   \n",
       "...               ...         ...         ...         ...         ...  ...   \n",
       "207763              0           0           0           0    0.000000  ...   \n",
       "207808              0           0           0           0    0.000000  ...   \n",
       "207849              0           0           0           0    0.000000  ...   \n",
       "207891              0           0           0           0    0.000000  ...   \n",
       "207934              0           0           0           0    0.000000  ...   \n",
       "\n",
       "           2050-05-15  2050-08-15  2050-11-15  2051-02-15  2051-05-15  \\\n",
       "KYTREASNO                                                               \n",
       "207892       0.000000    0.000000    0.000000    0.000000    0.000000   \n",
       "207774       0.000000    0.000000    0.000000    0.000000    0.000000   \n",
       "207893       0.000000    0.000000    0.000000    0.000000    0.000000   \n",
       "207868       0.000000    0.000000    0.000000    0.000000    0.000000   \n",
       "207430       0.000000    0.000000    0.000000    0.000000    0.000000   \n",
       "...               ...         ...         ...         ...         ...   \n",
       "207763       0.000000    1.000000    0.000000    1.000000    0.000000   \n",
       "207808       0.937500    0.000000    0.937500    0.000000    0.937500   \n",
       "207849       0.000000    1.125000    0.000000    1.125000    0.000000   \n",
       "207891       1.437500    0.000000    1.437500    0.000000    1.437500   \n",
       "207934       0.000000    1.500000    0.000000    1.500000    0.000000   \n",
       "\n",
       "           2051-08-15  2051-11-15  2052-02-15  2052-05-15  2052-08-15  \n",
       "KYTREASNO                                                              \n",
       "207892       0.000000    0.000000    0.000000    0.000000    0.000000  \n",
       "207774       0.000000    0.000000    0.000000    0.000000    0.000000  \n",
       "207893       0.000000    0.000000    0.000000    0.000000    0.000000  \n",
       "207868       0.000000    0.000000    0.000000    0.000000    0.000000  \n",
       "207430       0.000000    0.000000    0.000000    0.000000    0.000000  \n",
       "...               ...         ...         ...         ...         ...  \n",
       "207763     101.000000    0.000000    0.000000    0.000000    0.000000  \n",
       "207808       0.000000  100.937500    0.000000    0.000000    0.000000  \n",
       "207849       1.125000    0.000000  101.125000    0.000000    0.000000  \n",
       "207891       0.000000    1.437500    0.000000  101.437500    0.000000  \n",
       "207934       1.500000    0.000000    1.500000    0.000000  101.500000  \n",
       "\n",
       "[378 rows x 312 columns]"
      ]
     },
     "execution_count": 182,
     "metadata": {},
     "output_type": "execute_result"
    }
   ],
   "source": [
    "CF"
   ]
  },
  {
   "cell_type": "code",
   "execution_count": 192,
   "id": "75479380",
   "metadata": {},
   "outputs": [
    {
     "data": {
      "text/plain": [
       "Text(0.5, 1.0, 'Discount Factor ')"
      ]
     },
     "execution_count": 192,
     "metadata": {},
     "output_type": "execute_result"
    },
    {
     "data": {
      "image/png": "[encoded data removed]",
      "text/plain": [
       "<Figure size 1200x600 with 1 Axes>"
      ]
     },
     "metadata": {},
     "output_type": "display_data"
    }
   ],
   "source": [
    "RATE = 0.02\n",
    "maturity_grid = pd.Series(get_maturity_delta(CF.columns.values,t_current=t_current), index = CF.columns)\n",
    "discount_factors = np.exp(-RATE*maturity_grid)\n",
    "curve = pd.DataFrame(discount_factors,index = CF.columns, columns=['Discount_Factor'])\n",
    "curve.plot(figsize=(12,6))\n",
    "plt.title('Discount Factor ')"
   ]
  },
  {
   "cell_type": "code",
   "execution_count": 196,
   "id": "df25de67",
   "metadata": {},
   "outputs": [
    {
     "data": {
      "text/plain": [
       "2022-10-04   0.999781\n",
       "2022-10-06   0.999672\n",
       "2022-10-11   0.999398\n",
       "2022-10-13   0.999288\n",
       "2022-10-15   0.999179\n",
       "               ...   \n",
       "2051-08-15   0.561318\n",
       "2051-11-15   0.558498\n",
       "2052-02-15   0.555691\n",
       "2052-05-15   0.552959\n",
       "2052-08-15   0.550181\n",
       "Name: Discount_Factor, Length: 312, dtype: float64"
      ]
     },
     "execution_count": 196,
     "metadata": {},
     "output_type": "execute_result"
    }
   ],
   "source": [
    "weight = CF"
   ]
  },
  {
   "cell_type": "code",
   "execution_count": 197,
   "id": "f161f135",
   "metadata": {},
   "outputs": [
    {
     "name": "stdout",
     "output_type": "stream",
     "text": [
      "(378, 312) (312, 1)\n"
     ]
    }
   ],
   "source": [
    "print(CF.shape,curve.shape)"
   ]
  },
  {
   "cell_type": "code",
   "execution_count": 215,
   "id": "7d6023c7",
   "metadata": {},
   "outputs": [],
   "source": [
    "weight = CF.mul(curve['Discount_Factor'], axis  = 1)\n",
    "#divide each present value of CF by the present value of the bond\n",
    "weight = weight.div(weight.sum(axis =1),axis = 0)\n"
   ]
  },
  {
   "cell_type": "code",
   "execution_count": 217,
   "id": "7beea12c",
   "metadata": {},
   "outputs": [
    {
     "name": "stdout",
     "output_type": "stream",
     "text": [
      "(378, 312) (312,)\n"
     ]
    }
   ],
   "source": [
    "print(weight.shape, maturity_grid.shape)"
   ]
  },
  {
   "cell_type": "code",
   "execution_count": 223,
   "id": "fb521a37",
   "metadata": {},
   "outputs": [],
   "source": [
    "duration = weight@maturity_grid.to_frame().rename(columns={0:'Duration'})"
   ]
  },
  {
   "cell_type": "code",
   "execution_count": 227,
   "id": "0e8bb3a4",
   "metadata": {},
   "outputs": [
    {
     "data": {
      "text/html": [
       "<div>\n",
       "<style scoped>\n",
       "    .dataframe tbody tr th:only-of-type {\n",
       "        vertical-align: middle;\n",
       "    }\n",
       "\n",
       "    .dataframe tbody tr th {\n",
       "        vertical-align: top;\n",
       "    }\n",
       "\n",
       "    .dataframe thead th {\n",
       "        text-align: right;\n",
       "    }\n",
       "</style>\n",
       "<table border=\"1\" class=\"dataframe\">\n",
       "  <thead>\n",
       "    <tr style=\"text-align: right;\">\n",
       "      <th></th>\n",
       "      <th>Duration</th>\n",
       "    </tr>\n",
       "    <tr>\n",
       "      <th>KYTREASNO</th>\n",
       "      <th></th>\n",
       "    </tr>\n",
       "  </thead>\n",
       "  <tbody>\n",
       "    <tr>\n",
       "      <th>207892</th>\n",
       "      <td>0.010951</td>\n",
       "    </tr>\n",
       "    <tr>\n",
       "      <th>207774</th>\n",
       "      <td>0.016427</td>\n",
       "    </tr>\n",
       "    <tr>\n",
       "      <th>207893</th>\n",
       "      <td>0.030116</td>\n",
       "    </tr>\n",
       "    <tr>\n",
       "      <th>207868</th>\n",
       "      <td>0.035592</td>\n",
       "    </tr>\n",
       "    <tr>\n",
       "      <th>207430</th>\n",
       "      <td>0.041068</td>\n",
       "    </tr>\n",
       "    <tr>\n",
       "      <th>...</th>\n",
       "      <td>...</td>\n",
       "    </tr>\n",
       "    <tr>\n",
       "      <th>207763</th>\n",
       "      <td>22.009445</td>\n",
       "    </tr>\n",
       "    <tr>\n",
       "      <th>207808</th>\n",
       "      <td>22.292807</td>\n",
       "    </tr>\n",
       "    <tr>\n",
       "      <th>207849</th>\n",
       "      <td>21.825479</td>\n",
       "    </tr>\n",
       "    <tr>\n",
       "      <th>207891</th>\n",
       "      <td>20.847305</td>\n",
       "    </tr>\n",
       "    <tr>\n",
       "      <th>207934</th>\n",
       "      <td>20.927847</td>\n",
       "    </tr>\n",
       "  </tbody>\n",
       "</table>\n",
       "<p>378 rows × 1 columns</p>\n",
       "</div>"
      ],
      "text/plain": [
       "           Duration\n",
       "KYTREASNO          \n",
       "207892     0.010951\n",
       "207774     0.016427\n",
       "207893     0.030116\n",
       "207868     0.035592\n",
       "207430     0.041068\n",
       "...             ...\n",
       "207763    22.009445\n",
       "207808    22.292807\n",
       "207849    21.825479\n",
       "207891    20.847305\n",
       "207934    20.927847\n",
       "\n",
       "[378 rows x 1 columns]"
      ]
     },
     "execution_count": 227,
     "metadata": {},
     "output_type": "execute_result"
    }
   ],
   "source": [
    "duration\n"
   ]
  },
  {
   "cell_type": "code",
   "execution_count": 234,
   "id": "81c88fda",
   "metadata": {},
   "outputs": [],
   "source": [
    "freq = 365.25\n",
    "dif = pd.DataFrame(treasury_df['TDDURATN']/365.25 - duration['Duration'], columns=['Difference'])"
   ]
  },
  {
   "cell_type": "code",
   "execution_count": 235,
   "id": "e062160c",
   "metadata": {},
   "outputs": [
    {
     "data": {
      "text/html": [
       "<div>\n",
       "<style scoped>\n",
       "    .dataframe tbody tr th:only-of-type {\n",
       "        vertical-align: middle;\n",
       "    }\n",
       "\n",
       "    .dataframe tbody tr th {\n",
       "        vertical-align: top;\n",
       "    }\n",
       "\n",
       "    .dataframe thead th {\n",
       "        text-align: right;\n",
       "    }\n",
       "</style>\n",
       "<table border=\"1\" class=\"dataframe\">\n",
       "  <thead>\n",
       "    <tr style=\"text-align: right;\">\n",
       "      <th></th>\n",
       "      <th>Difference</th>\n",
       "    </tr>\n",
       "  </thead>\n",
       "  <tbody>\n",
       "    <tr>\n",
       "      <th>count</th>\n",
       "      <td>378.000000</td>\n",
       "    </tr>\n",
       "    <tr>\n",
       "      <th>mean</th>\n",
       "      <td>-0.212790</td>\n",
       "    </tr>\n",
       "    <tr>\n",
       "      <th>std</th>\n",
       "      <td>0.469856</td>\n",
       "    </tr>\n",
       "    <tr>\n",
       "      <th>min</th>\n",
       "      <td>-1.958441</td>\n",
       "    </tr>\n",
       "    <tr>\n",
       "      <th>25%</th>\n",
       "      <td>-0.034362</td>\n",
       "    </tr>\n",
       "    <tr>\n",
       "      <th>50%</th>\n",
       "      <td>-0.002948</td>\n",
       "    </tr>\n",
       "    <tr>\n",
       "      <th>75%</th>\n",
       "      <td>-0.000018</td>\n",
       "    </tr>\n",
       "    <tr>\n",
       "      <th>max</th>\n",
       "      <td>0.000037</td>\n",
       "    </tr>\n",
       "  </tbody>\n",
       "</table>\n",
       "</div>"
      ],
      "text/plain": [
       "       Difference\n",
       "count  378.000000\n",
       "mean    -0.212790\n",
       "std      0.469856\n",
       "min     -1.958441\n",
       "25%     -0.034362\n",
       "50%     -0.002948\n",
       "75%     -0.000018\n",
       "max      0.000037"
      ]
     },
     "execution_count": 235,
     "metadata": {},
     "output_type": "execute_result"
    }
   ],
   "source": [
    "dif.describe()"
   ]
  },
  {
   "attachments": {},
   "cell_type": "markdown",
   "id": "52df867e",
   "metadata": {},
   "source": [
    "# Calculating Convexity\n"
   ]
  },
  {
   "cell_type": "code",
   "execution_count": 238,
   "id": "dba22825",
   "metadata": {},
   "outputs": [],
   "source": [
    "duration['Convexity'] = weight@(maturity_grid**2)"
   ]
  },
  {
   "cell_type": "code",
   "execution_count": 239,
   "id": "bae78e53",
   "metadata": {},
   "outputs": [
    {
     "data": {
      "text/html": [
       "<div>\n",
       "<style scoped>\n",
       "    .dataframe tbody tr th:only-of-type {\n",
       "        vertical-align: middle;\n",
       "    }\n",
       "\n",
       "    .dataframe tbody tr th {\n",
       "        vertical-align: top;\n",
       "    }\n",
       "\n",
       "    .dataframe thead th {\n",
       "        text-align: right;\n",
       "    }\n",
       "</style>\n",
       "<table border=\"1\" class=\"dataframe\">\n",
       "  <thead>\n",
       "    <tr style=\"text-align: right;\">\n",
       "      <th></th>\n",
       "      <th>Duration</th>\n",
       "      <th>Convexity</th>\n",
       "    </tr>\n",
       "    <tr>\n",
       "      <th>KYTREASNO</th>\n",
       "      <th></th>\n",
       "      <th></th>\n",
       "    </tr>\n",
       "  </thead>\n",
       "  <tbody>\n",
       "    <tr>\n",
       "      <th>207892</th>\n",
       "      <td>0.010951</td>\n",
       "      <td>0.000120</td>\n",
       "    </tr>\n",
       "    <tr>\n",
       "      <th>207774</th>\n",
       "      <td>0.016427</td>\n",
       "      <td>0.000270</td>\n",
       "    </tr>\n",
       "    <tr>\n",
       "      <th>207893</th>\n",
       "      <td>0.030116</td>\n",
       "      <td>0.000907</td>\n",
       "    </tr>\n",
       "    <tr>\n",
       "      <th>207868</th>\n",
       "      <td>0.035592</td>\n",
       "      <td>0.001267</td>\n",
       "    </tr>\n",
       "    <tr>\n",
       "      <th>207430</th>\n",
       "      <td>0.041068</td>\n",
       "      <td>0.001687</td>\n",
       "    </tr>\n",
       "    <tr>\n",
       "      <th>...</th>\n",
       "      <td>...</td>\n",
       "      <td>...</td>\n",
       "    </tr>\n",
       "    <tr>\n",
       "      <th>207763</th>\n",
       "      <td>22.009445</td>\n",
       "      <td>574.894240</td>\n",
       "    </tr>\n",
       "    <tr>\n",
       "      <th>207808</th>\n",
       "      <td>22.292807</td>\n",
       "      <td>589.750695</td>\n",
       "    </tr>\n",
       "    <tr>\n",
       "      <th>207849</th>\n",
       "      <td>21.825479</td>\n",
       "      <td>573.468303</td>\n",
       "    </tr>\n",
       "    <tr>\n",
       "      <th>207891</th>\n",
       "      <td>20.847305</td>\n",
       "      <td>539.912461</td>\n",
       "    </tr>\n",
       "    <tr>\n",
       "      <th>207934</th>\n",
       "      <td>20.927847</td>\n",
       "      <td>543.799863</td>\n",
       "    </tr>\n",
       "  </tbody>\n",
       "</table>\n",
       "<p>378 rows × 2 columns</p>\n",
       "</div>"
      ],
      "text/plain": [
       "           Duration  Convexity\n",
       "KYTREASNO                     \n",
       "207892     0.010951   0.000120\n",
       "207774     0.016427   0.000270\n",
       "207893     0.030116   0.000907\n",
       "207868     0.035592   0.001267\n",
       "207430     0.041068   0.001687\n",
       "...             ...        ...\n",
       "207763    22.009445 574.894240\n",
       "207808    22.292807 589.750695\n",
       "207849    21.825479 573.468303\n",
       "207891    20.847305 539.912461\n",
       "207934    20.927847 543.799863\n",
       "\n",
       "[378 rows x 2 columns]"
      ]
     },
     "execution_count": 239,
     "metadata": {},
     "output_type": "execute_result"
    }
   ],
   "source": [
    "duration"
   ]
  },
  {
   "cell_type": "markdown",
   "id": "b4399246",
   "metadata": {},
   "source": [
    "# 3 Hedging Duration"
   ]
  },
  {
   "cell_type": "markdown",
   "id": "56022773",
   "metadata": {},
   "source": [
    "Import `treasury_ts_issue_duration_(207392, 207391, 207457).xlsx`.\n",
    "\n",
    "I suggest using code such as\n",
    "\n",
    "* `tsdata = pd.read_excel(filepath_tsdata,sheet_name='ts')`\n",
    "\n",
    "* `tsdata.columns = tsdata.columns.str.upper()`\n",
    "\n",
    "* `px = tsdata.pivot_table(index='CALDT',columns='KYTREASNO',values='TDASK').dropna()`\n",
    "* `duration = tsdata.pivot_table(index='CALDT',columns='KYTREASNO',values='TDDURATN').dropna()`\n",
    "\n",
    "## 3.1 \n",
    "\n",
    "Suppose you have a portfolio of 10,000 USD long in security `207391` on the last day of the sample.\n",
    "\n",
    "If you want to manage interest rate exposure using duration, how large of a short position should you hold in `207392`?\n",
    "\n",
    "(Duration is the column `TDDURATN` in the raw data.)\n",
    "\n",
    "## 3.2\n",
    "\n",
    "Step through the time-series, doing the following:\n",
    "\n",
    "* Starting at the end of the first day, set the hedged position according to the relative given durations.\n",
    "* Use the second day's price data to evaluate the net profit or loss of the hedged position.\n",
    "* Reset the the hedged position using the end-of-second-day durations. Again fix the long position of security `207391` to be 10,000.\n",
    "* Repeat throughout the timeseries.\n",
    "\n",
    "Report \n",
    "* the total profit (or loss.)\n",
    "* the mean, standard deviation, min, and max of the daily profit or loss."
   ]
  },
  {
   "cell_type": "code",
   "execution_count": 243,
   "id": "f6991d1b",
   "metadata": {},
   "outputs": [],
   "source": [
    "ts_q3_path = 'C:/Users/dcste/OneDrive/fixed_income/fixed_income_FORKED/finm-fixedincome-2023/data/treasury_ts_issue_duration_(207392, 207391, 207457).xlsx'\n",
    "treasury_ts_info = pd.read_excel(ts_q3_path, sheet_name='info').set_index('kytreasno')\n",
    "treasury_ts_data = pd.read_excel(ts_q3_path,sheet_name='ts')"
   ]
  },
  {
   "cell_type": "code",
   "execution_count": 302,
   "id": "305973d8",
   "metadata": {},
   "outputs": [],
   "source": [
    "size = 1e4\n",
    "IDLONG = 207391\n",
    "IDSHORT = 207392\n",
    "FREQ = 365.25"
   ]
  },
  {
   "cell_type": "code",
   "execution_count": 303,
   "id": "83af50fc",
   "metadata": {},
   "outputs": [
    {
     "data": {
      "text/html": [
       "<div>\n",
       "<style scoped>\n",
       "    .dataframe tbody tr th:only-of-type {\n",
       "        vertical-align: middle;\n",
       "    }\n",
       "\n",
       "    .dataframe tbody tr th {\n",
       "        vertical-align: top;\n",
       "    }\n",
       "\n",
       "    .dataframe thead th {\n",
       "        text-align: right;\n",
       "    }\n",
       "</style>\n",
       "<table border=\"1\" class=\"dataframe\">\n",
       "  <thead>\n",
       "    <tr style=\"text-align: right;\">\n",
       "      <th></th>\n",
       "      <th>issue date</th>\n",
       "      <th>maturity date</th>\n",
       "      <th>coupon rate</th>\n",
       "      <th>security type</th>\n",
       "    </tr>\n",
       "    <tr>\n",
       "      <th>kytreasno</th>\n",
       "      <th></th>\n",
       "      <th></th>\n",
       "      <th></th>\n",
       "      <th></th>\n",
       "    </tr>\n",
       "  </thead>\n",
       "  <tbody>\n",
       "    <tr>\n",
       "      <th>207392</th>\n",
       "      <td>2019-08-15</td>\n",
       "      <td>2049-08-15</td>\n",
       "      <td>2.250000</td>\n",
       "      <td>1</td>\n",
       "    </tr>\n",
       "    <tr>\n",
       "      <th>207391</th>\n",
       "      <td>2019-08-15</td>\n",
       "      <td>2029-08-15</td>\n",
       "      <td>1.625000</td>\n",
       "      <td>2</td>\n",
       "    </tr>\n",
       "    <tr>\n",
       "      <th>207457</th>\n",
       "      <td>2019-12-15</td>\n",
       "      <td>2022-12-15</td>\n",
       "      <td>1.625000</td>\n",
       "      <td>2</td>\n",
       "    </tr>\n",
       "  </tbody>\n",
       "</table>\n",
       "</div>"
      ],
      "text/plain": [
       "          issue date maturity date  coupon rate  security type\n",
       "kytreasno                                                     \n",
       "207392    2019-08-15    2049-08-15     2.250000              1\n",
       "207391    2019-08-15    2029-08-15     1.625000              2\n",
       "207457    2019-12-15    2022-12-15     1.625000              2"
      ]
     },
     "execution_count": 303,
     "metadata": {},
     "output_type": "execute_result"
    }
   ],
   "source": [
    "treasury_ts_info"
   ]
  },
  {
   "cell_type": "code",
   "execution_count": 304,
   "id": "771823db",
   "metadata": {},
   "outputs": [],
   "source": [
    "treasury_ts_data.columns = treasury_ts_data.columns.str.upper()\n",
    "px = treasury_ts_data.pivot_table(index = 'CALDT',columns = 'KYTREASNO',values = 'TDASK').dropna().drop(columns=207457)\n",
    "duration = (treasury_ts_data.pivot_table(index = 'CALDT',columns='KYTREASNO',values = 'TDDURATN').dropna().drop(columns=207457))/FREQ"
   ]
  },
  {
   "cell_type": "code",
   "execution_count": 305,
   "id": "db86f952",
   "metadata": {},
   "outputs": [],
   "source": [
    "position = pd.DataFrame(index = duration.index, dtype='float')\n",
    "position['long'] = size/px[IDLONG]\n",
    "position['Hedge_Ratio'] = (duration[IDLONG]/duration[IDSHORT])*(px[IDLONG]/px[IDSHORT])\n",
    "position['short'] = -position['Hedge_Ratio']*position['long']\n",
    "position[['long ($)','short ($)']] = position[['long','short']]*px[[IDLONG,IDSHORT]].values"
   ]
  },
  {
   "cell_type": "code",
   "execution_count": 306,
   "id": "7510bbbc",
   "metadata": {},
   "outputs": [
    {
     "data": {
      "text/html": [
       "<div>\n",
       "<style scoped>\n",
       "    .dataframe tbody tr th:only-of-type {\n",
       "        vertical-align: middle;\n",
       "    }\n",
       "\n",
       "    .dataframe tbody tr th {\n",
       "        vertical-align: top;\n",
       "    }\n",
       "\n",
       "    .dataframe thead th {\n",
       "        text-align: right;\n",
       "    }\n",
       "</style>\n",
       "<table border=\"1\" class=\"dataframe\">\n",
       "  <thead>\n",
       "    <tr style=\"text-align: right;\">\n",
       "      <th></th>\n",
       "      <th>duration</th>\n",
       "    </tr>\n",
       "  </thead>\n",
       "  <tbody>\n",
       "    <tr>\n",
       "      <th>count</th>\n",
       "      <td>621.000000</td>\n",
       "    </tr>\n",
       "    <tr>\n",
       "      <th>mean</th>\n",
       "      <td>-0.000000</td>\n",
       "    </tr>\n",
       "    <tr>\n",
       "      <th>std</th>\n",
       "      <td>0.000000</td>\n",
       "    </tr>\n",
       "    <tr>\n",
       "      <th>min</th>\n",
       "      <td>-0.000000</td>\n",
       "    </tr>\n",
       "    <tr>\n",
       "      <th>25%</th>\n",
       "      <td>-0.000000</td>\n",
       "    </tr>\n",
       "    <tr>\n",
       "      <th>50%</th>\n",
       "      <td>0.000000</td>\n",
       "    </tr>\n",
       "    <tr>\n",
       "      <th>75%</th>\n",
       "      <td>0.000000</td>\n",
       "    </tr>\n",
       "    <tr>\n",
       "      <th>max</th>\n",
       "      <td>0.000000</td>\n",
       "    </tr>\n",
       "  </tbody>\n",
       "</table>\n",
       "</div>"
      ],
      "text/plain": [
       "        duration\n",
       "count 621.000000\n",
       "mean   -0.000000\n",
       "std     0.000000\n",
       "min    -0.000000\n",
       "25%    -0.000000\n",
       "50%     0.000000\n",
       "75%     0.000000\n",
       "max     0.000000"
      ]
     },
     "execution_count": 306,
     "metadata": {},
     "output_type": "execute_result"
    }
   ],
   "source": [
    "position['net ($)'] = position[['long ($)','short ($)']].sum(axis = 1)\n",
    "wts = position[['long ($)', 'short ($)']].div(position[['long ($)', 'short ($)']].sum(axis = 1), axis = 0)\n",
    "position['duration'] = (wts*duration[[IDLONG,IDSHORT]].values).sum(axis = 1)\n",
    "position[['duration']].describe()"
   ]
  },
  {
   "cell_type": "code",
   "execution_count": 314,
   "id": "cb93d27a",
   "metadata": {},
   "outputs": [],
   "source": [
    "position[['long ($) realized', 'short ($) realized']] = \\\n",
    "    position[['long','short']]*px[[IDLONG,IDSHORT]].shift(-1).values\n",
    "position[['long pnl', 'short pnl']] = position[['long ($) realized', 'short ($) realized']] - position[['long ($)', 'short ($)']].values\n",
    "position['profit ($) hedge'] = position['long pnl'] + position['short pnl']\n",
    "position['profit'] = px[IDLONG].diff() *px[IDLONG].shift()"
   ]
  },
  {
   "cell_type": "code",
   "execution_count": 323,
   "id": "ed1215f8",
   "metadata": {},
   "outputs": [
    {
     "data": {
      "text/plain": [
       "<matplotlib.legend.Legend at 0x1b440a11e20>"
      ]
     },
     "execution_count": 323,
     "metadata": {},
     "output_type": "execute_result"
    },
    {
     "data": {
      "image/png": "[encoded data removed]",
      "text/plain": [
       "<Figure size 1200x600 with 1 Axes>"
      ]
     },
     "metadata": {},
     "output_type": "display_data"
    }
   ],
   "source": [
    "fig, ax = plt.subplots(figsize=(12,6))\n",
    "ax.plot(position['profit ($) hedge'].cumsum(), color = 'red', label ='Hedged Profit')\n",
    "ax.plot(position['profit'].cumsum(), color = 'blue',label = 'Unhedged Profit')\n",
    "ax.set_ylabel('Profit')\n",
    "ax.set_xlabel('Date')\n",
    "ax.set_title('Profits from Hedged and Unhedged Duration Bond Portfolio')\n",
    "ax.legend()\n",
    "\n"
   ]
  },
  {
   "cell_type": "code",
   "execution_count": 325,
   "id": "858c00fa",
   "metadata": {},
   "outputs": [
    {
     "data": {
      "text/html": [
       "<div>\n",
       "<style scoped>\n",
       "    .dataframe tbody tr th:only-of-type {\n",
       "        vertical-align: middle;\n",
       "    }\n",
       "\n",
       "    .dataframe tbody tr th {\n",
       "        vertical-align: top;\n",
       "    }\n",
       "\n",
       "    .dataframe thead th {\n",
       "        text-align: right;\n",
       "    }\n",
       "</style>\n",
       "<table border=\"1\" class=\"dataframe\">\n",
       "  <thead>\n",
       "    <tr style=\"text-align: right;\">\n",
       "      <th></th>\n",
       "      <th>profit ($) hedge</th>\n",
       "      <th>profit</th>\n",
       "    </tr>\n",
       "  </thead>\n",
       "  <tbody>\n",
       "    <tr>\n",
       "      <th>count</th>\n",
       "      <td>620.000000</td>\n",
       "      <td>620.000000</td>\n",
       "    </tr>\n",
       "    <tr>\n",
       "      <th>mean</th>\n",
       "      <td>-0.388564</td>\n",
       "      <td>-1.010402</td>\n",
       "    </tr>\n",
       "    <tr>\n",
       "      <th>std</th>\n",
       "      <td>18.797647</td>\n",
       "      <td>47.651475</td>\n",
       "    </tr>\n",
       "    <tr>\n",
       "      <th>min</th>\n",
       "      <td>-98.317955</td>\n",
       "      <td>-374.706299</td>\n",
       "    </tr>\n",
       "    <tr>\n",
       "      <th>25%</th>\n",
       "      <td>-9.776653</td>\n",
       "      <td>-26.452835</td>\n",
       "    </tr>\n",
       "    <tr>\n",
       "      <th>50%</th>\n",
       "      <td>-0.077860</td>\n",
       "      <td>-1.345947</td>\n",
       "    </tr>\n",
       "    <tr>\n",
       "      <th>75%</th>\n",
       "      <td>9.250157</td>\n",
       "      <td>24.240128</td>\n",
       "    </tr>\n",
       "    <tr>\n",
       "      <th>max</th>\n",
       "      <td>107.636148</td>\n",
       "      <td>297.649902</td>\n",
       "    </tr>\n",
       "  </tbody>\n",
       "</table>\n",
       "</div>"
      ],
      "text/plain": [
       "       profit ($) hedge      profit\n",
       "count        620.000000  620.000000\n",
       "mean          -0.388564   -1.010402\n",
       "std           18.797647   47.651475\n",
       "min          -98.317955 -374.706299\n",
       "25%           -9.776653  -26.452835\n",
       "50%           -0.077860   -1.345947\n",
       "75%            9.250157   24.240128\n",
       "max          107.636148  297.649902"
      ]
     },
     "execution_count": 325,
     "metadata": {},
     "output_type": "execute_result"
    }
   ],
   "source": [
    "position[['profit ($) hedge','profit']].describe()"
   ]
  },
  {
   "cell_type": "markdown",
   "id": "cfaae81d",
   "metadata": {},
   "source": [
    "***"
   ]
  },
  {
   "cell_type": "markdown",
   "id": "dc11f388",
   "metadata": {},
   "source": [
    "# 4 Other Interest-Rate Risks\n",
    "\n",
    "## *Optional*\n",
    "\n",
    "***No need to submit this problem, but if we discuss it, then you are expected to know it.***"
   ]
  },
  {
   "attachments": {},
   "cell_type": "markdown",
   "id": "77df6678",
   "metadata": {},
   "source": [
    "## 4.1 Other Yield Curve Movements\n",
    "\n",
    "Use the yield curve time-series data in `'../data/yields_2022-11-30.xlsx` to calculate the time-series of the **level**, **slope**, and curvature** factors.\n",
    "\n",
    "Calculate the yield-curve factors. For each point in time, calculate the following three factors:\n",
    "\n",
    "\\begin{align}\n",
    "x^{\\text{level}}_t =& \\frac{1}{N_{\\text{yields}}}\\sum_{i=1}^{N_{\\text{yields}}} y^{(i)}_t\\\\\n",
    "x^{\\text{slope}}_t =& y^{(30)}_t - y^{(1)}_t\\\\\n",
    "x^{\\text{curvature}}_t =& -y^{(1)}_t + 2 y^{(10)}_t - y^{(30)}_t\n",
    "\\end{align}\n",
    "\n",
    "Report the mean and volatility of each factor.\n",
    "\n",
    "Report the correlation matrix of the factors."
   ]
  },
  {
   "attachments": {},
   "cell_type": "markdown",
   "id": "2a62659e",
   "metadata": {},
   "source": [
    "## 4.2 Factor Duration\n",
    "\n",
    "Calculate the factor duration of the treasuries from `treasury_ts_issue_duration_(207392, 207391, 207457).xlsx`.\n",
    "\n",
    "Run a multivariate regression of the bond prices on all three factors constructed above from the yield factors: level, slope, and curvature. \n",
    "\n",
    "Estimate the regression in the form of day-over-day differences for both bond prices and factors. That is, we are using regression to approximate the factor duration equation,\n",
    "\n",
    "\\begin{align}\n",
    "\\frac{dP}{P} = \\beta_1 dz_1 + \\beta_2 dz_2 + \\beta_3 dz_3 + \\epsilon\n",
    "\\end{align}\n",
    "\n",
    "Report the betas for each of these factors, for each of the bond prices."
   ]
  }
 ],
 "metadata": {
  "hide_input": false,
  "kernelspec": {
   "display_name": "base",
   "language": "python",
   "name": "python3"
  },
  "language_info": {
   "codemirror_mode": {
    "name": "ipython",
    "version": 3
   },
   "file_extension": ".py",
   "mimetype": "text/x-python",
   "name": "python",
   "nbconvert_exporter": "python",
   "pygments_lexer": "ipython3",
   "version": "3.9.13"
  },
  "vscode": {
   "interpreter": {
    "hash": "44a761cc06a695ddb39d99b7e807436f731f960c127538853a5b90f596df33e4"
   }
  }
 },
 "nbformat": 4,
 "nbformat_minor": 5
}
