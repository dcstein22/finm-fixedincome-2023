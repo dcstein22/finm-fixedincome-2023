{
 "cells": [
  {
   "cell_type": "markdown",
   "id": "3e013a68",
   "metadata": {},
   "source": [
    "# Final Exam\n",
    "\n",
    "## FINM 37400 - 2023\n",
    "\n",
    "### UChicago Financial Mathematics\n",
    "\n",
    "* Mark Hendricks\n",
    "* hendricks@uchicago.edu"
   ]
  },
  {
   "cell_type": "markdown",
   "id": "e8a3ac50",
   "metadata": {},
   "source": [
    "# Instructions"
   ]
  },
  {
   "cell_type": "markdown",
   "id": "7450e603",
   "metadata": {},
   "source": [
    "## Please note the following:\n",
    "\n",
    "Points\n",
    "* The exam is 180 points.\n",
    "* You have 180 minutes to complete the exam.\n",
    "* For every minute late you submit the exam, you will lose one point.\n",
    "Final Exam\n",
    "\n",
    "Submission\n",
    "* You will upload your solution to the Final Exam assignment on Canvas, where you downloaded this.\n",
    "* Your submission should be readable, (the graders can understand your answers,) and it should include all code used in your analysis in a file format that the code can be executed. (ie. .ipynb preferred, .pdf is unacceptable.)\n",
    "\n",
    "Rules\n",
    "* The exam is open-material, closed-communication.\n",
    "* You do not need to cite material from the course github repo--you are welcome to use the code posted there without citation, (only for this exam.)\n",
    "\n",
    "Advice\n",
    "* If you find any question to be unclear, state your interpretation and proceed. We will only answer questions of interpretation if there is a typo, error, etc.\n",
    "* The exam will be graded for partial credit."
   ]
  },
  {
   "cell_type": "markdown",
   "id": "9e66b554",
   "metadata": {},
   "source": [
    "## Data\n",
    "\n",
    "**All data files are found in the class github repo, in the `data` folder.**\n",
    "\n",
    "This exam makes use of the following data files:\n",
    "\n",
    "### Sections 2, 3, 4\n",
    "* `treasury_ts_2020-08-15.xlsx`\n",
    "\n",
    "If you get stuck on 2.2, you can replace that answer with the data in \n",
    "* `simplified_spot_discounts_2022-12-30.xlsx`\n",
    "\n",
    "But if you solve 2.2, then you'll have no use/need of this data.\n",
    "\n",
    "### Section 5\n",
    "* `treasury_ts_2020-08-15.xlsx`"
   ]
  },
  {
   "cell_type": "markdown",
   "id": "5278d8d8",
   "metadata": {},
   "source": [
    "## Scoring\n",
    "\n",
    "| Problem | Points |\n",
    "|---------|--------|\n",
    "| 1       | 50     |\n",
    "| 2       | 25     |\n",
    "| 3       | 35     |\n",
    "| 4       | 20     |\n",
    "| 5       | 50     |"
   ]
  },
  {
   "cell_type": "markdown",
   "id": "7c749341",
   "metadata": {},
   "source": [
    "# 1. Short Answer"
   ]
  },
  {
   "cell_type": "markdown",
   "id": "481e896d",
   "metadata": {},
   "source": [
    "### No Data Needed\n",
    "\n",
    "These problem does not require any data file. Rather, analyze the situation conceptually, based on the information below. \n",
    "\n",
    "A few questions may require simple arithmetic."
   ]
  },
  {
   "attachments": {},
   "cell_type": "markdown",
   "id": "c107d56b",
   "metadata": {},
   "source": [
    "## 1.1 (5pts)\n",
    "\n",
    "True or False: The spot rate prices a particular security, and YTM prices any cashflow at a particular maturity.\n",
    "\n",
    "Explain your answer.\n",
    "\n",
    "**FALSE:** The spot/zero rate curve is the interest rate derived from riskless bonds that can be applied to any fixed income as a function of maturity. The YTM is the interest rate applied to each cash flow to find the current price. Bond's sell at discount if the YTM is greater than the coupon, whereas they sell at a premium if the YTM is less than the coupon. "
   ]
  },
  {
   "attachments": {},
   "cell_type": "markdown",
   "id": "986bb348",
   "metadata": {},
   "source": [
    "## 1.2 (5pts)\n",
    "\n",
    "Suppose the duration of a bond is 7.0. The current price of the bond is 99.8 and the YTM of the bond is 3.27\\%. \n",
    "\n",
    "The spot-rate curve moves up in a parallel shift by 10bps. \n",
    "\n",
    "* What is the approximate price of the bond after the shift?\n",
    "\n",
    "* Do you suspect this approximation is an underestimate or overestimate? \n",
    "\n"
   ]
  },
  {
   "attachments": {},
   "cell_type": "markdown",
   "id": "20a99e35",
   "metadata": {},
   "source": [
    "The approximate price of the bond equals $99.8 + -7\\times 99.8 *(0.001) $\n",
    "- Generally, the approximation is an underestimate in the change of price. "
   ]
  },
  {
   "cell_type": "code",
   "execution_count": 2,
   "id": "19fcdbb2",
   "metadata": {},
   "outputs": [],
   "source": [
    "def duration_price_bond(current_price, duration, bps_shift = .001):\n",
    "    dollar_duration = -current_price*duration\n",
    "    delta_change_price = dollar_duration*(bps_shift)\n",
    "    new_price = current_price+delta_change_price\n",
    "    return f\"The bond's approximate price is {new_price}.\""
   ]
  },
  {
   "cell_type": "code",
   "execution_count": 3,
   "id": "fa4344e3",
   "metadata": {},
   "outputs": [
    {
     "data": {
      "text/plain": [
       "\"The bond's approximate price is 99.1014\""
      ]
     },
     "execution_count": 3,
     "metadata": {},
     "output_type": "execute_result"
    }
   ],
   "source": [
    "duration_price_bond(99.8,7,0.001)"
   ]
  },
  {
   "attachments": {},
   "cell_type": "markdown",
   "id": "8ff14caa",
   "metadata": {},
   "source": [
    "## 1.3 (5pts)\n",
    "\n",
    "Are duration-based approximations of bond prices more accurate for a Treasury with high coupon rate or low coupon rate, (holding other things, like time-to-maturity, equal?)\n",
    "\n",
    "- Duration based approximations for Treasuries are more accurate for lower coupons. "
   ]
  },
  {
   "cell_type": "markdown",
   "id": "08e3e63b",
   "metadata": {},
   "source": [
    "## 1.4 (5pts)\n",
    "\n",
    "Which tend to be less smooth: spot curves or forward curves? \n",
    "\n",
    "Explain."
   ]
  },
  {
   "attachments": {},
   "cell_type": "markdown",
   "id": "d692a7e6",
   "metadata": {},
   "source": [
    "**ANSWER:** Forward curves will tend to be less smooth because the foward curve is a derivative of the spot curve. Essentially, the foward curve is the rate that is implied by the spot curve within a given time interval.\n",
    "- Given certain macroeconomic factors, the forward curve will change in greater of magnitude if the underlying financial market dynamics slightly change. "
   ]
  },
  {
   "attachments": {},
   "cell_type": "markdown",
   "id": "9f9ea63e",
   "metadata": {},
   "source": [
    "## 1.5 (5pts)\n",
    "\n",
    "True or False: Bond prices and returns have nearly zero serial correlation.\n",
    "\n",
    "Explain your answer.\n",
    "\n",
    "**False**: Bond prices and returns are serially correlated. The reason why is that when the YTM increases, it means that the expected return on this particular issue is higher because the price of the bond declined. The opposite is true when the yield declines."
   ]
  },
  {
   "cell_type": "markdown",
   "id": "799417f4",
   "metadata": {},
   "source": [
    "## 1.6 (5pts)\n",
    "\n",
    "As of Dec 2022, the yield curve is \"inverted\"?\n",
    "\n",
    "Does this inversion mathematically imply that expected future spot rates will decline, or is there potentially another explanation?"
   ]
  },
  {
   "attachments": {},
   "cell_type": "markdown",
   "id": "09cef690",
   "metadata": {},
   "source": [
    "- Yield curve inversion could mean two other things given what we reviewed in the class/cases: (1) Expected future GDP growth is expected to decline indicating a recession, and (2) the risk/term premium applied to long-term bonds is tighter causing the yield curve to flatten. "
   ]
  },
  {
   "cell_type": "markdown",
   "id": "c0afee76",
   "metadata": {},
   "source": [
    "## 1.7 (5pts)\n",
    "\n",
    "Suppose we want to estimate a discount curve from a set of Treasuries.\n",
    "\n",
    "If there are dates where multiple treasuries pay a coupon yet none expire, which of our estimation methods have trouble?\n",
    "* Bootstrap\n",
    "* OLS\n",
    "* Nelson-Siegel\n",
    "\n",
    "Explain."
   ]
  },
  {
   "attachments": {},
   "cell_type": "markdown",
   "id": "5d25e714",
   "metadata": {},
   "source": [
    "The bootstrap and ols method will have trouble extrapolating across the missing dates. The result will be an overfit model where the discount's applied to the missing dates will be extremley off. "
   ]
  },
  {
   "attachments": {},
   "cell_type": "markdown",
   "id": "347bdcd6",
   "metadata": {},
   "source": [
    "## 1.8 (5pts)\n",
    "\n",
    "Suppose that yesterday you built a position\n",
    "* long a 10-year floating-rate note that resets quarterly\n",
    "* short a 5-year floating-rate note that resets annually\n",
    "\n",
    "Is your duration positive or negative? How about four years from today?\n",
    "\n",
    "Explain.\n",
    "\n"
   ]
  },
  {
   "attachments": {},
   "cell_type": "markdown",
   "id": "9a6afadb",
   "metadata": {},
   "source": [
    "The duration of the long position would be approximately $0.25$ and the duration of the short position would be -$1.00$. The net duration is -$0.75$.\n",
    "Four years from today the duration will be the same because floating rate notes coupons reset at their cashflow dates. "
   ]
  },
  {
   "attachments": {},
   "cell_type": "markdown",
   "id": "846b55d2",
   "metadata": {},
   "source": [
    "## 1.9 (10pts)\n",
    "\n",
    "### Situation\n",
    "Suppose it is Aug 15, 2022. We observe the following annual rates, (semiannually compounded):\n",
    "* 7-year T-note (newly issued) has a price of par, with a coupon of 3.50%.\n",
    "* 7-year swap (semi-annual, SOFR) has a swap rate of 3.00%.\n",
    "\n",
    "*Assume the floating leg equals the repo rate and timing.*\n",
    "\n",
    "### 1.9.1\n",
    "**Conceptually**, explain the short and long positions you wouldl take (on notional of \\\\$100 million) in order to try to profit on this spread **diverging** further, meaning the treasury rate going higher relative to the swap rate.\n",
    "\n",
    "**Answer:** In order to profit off the spread diverging I would enter into a SWAP agreement as a *floating-rate* payer and take a corresponding short position on the 7-year Note. \n",
    "\n",
    "### 1.9.2\n",
    "\n",
    "Suppose that it is February 15, 2023, immediately after the swap has reset and the cashflows of the trade were settled.\n",
    "\n",
    "In the market, we observe the following:\n",
    "* The 5-year swap rate is 3.50%.\n",
    "* The 5-year Treasury has a yield-to-maturity of 4.25%. \n",
    "\n",
    "**Conceptually**, How has the value changed between over the six months of each component of the trade?\n",
    "* swap \n",
    "* T-note\n",
    "\n",
    "**Answer:** \n",
    "- The value of the Treasury note would trade at a discount, however, since I am short the treasury note, I would profit off yield rising. Additionally, the value of the SWAP from my position would be positive since a SWAP contract can be broken up into a floating rate bond priced at par and a coupon bond with a rate of $3.00%$. Since I the value of the fixed leg would decline because the 5-year swap rate increased the value of the SWAP contract would be positive.\n",
    "\n",
    "- Overall, my trade would be in a great position to profit off the spread diverging. "
   ]
  },
  {
   "cell_type": "markdown",
   "id": "b13fc3a1",
   "metadata": {},
   "source": [
    "***"
   ]
  },
  {
   "cell_type": "markdown",
   "id": "485e3401",
   "metadata": {},
   "source": [
    "# 2 Basic Pricing"
   ]
  },
  {
   "cell_type": "markdown",
   "id": "f0bf5396",
   "metadata": {},
   "source": [
    "Use the selected treasury quotes in the file, `selected_treasury_quotes_quotes_2022-12-30.xlsx`.\n",
    "\n",
    "Data is provided on 10 Treasury issues which mature every six months over the next five years.\n",
    "\n",
    "*You are welcome to assume that the issues mature in exactly half-year increments, notwithstanding that in actual trading they may have day-count issues causing them to be slightly above/below half-year increments.*"
   ]
  },
  {
   "cell_type": "code",
   "execution_count": 10,
   "id": "5cb14a8b",
   "metadata": {},
   "outputs": [],
   "source": [
    "import pandas as pd\n",
    "import numpy as np\n",
    "import datetime\n",
    "import warnings\n",
    "import matplotlib as mpl\n",
    "import matplotlib.pyplot as plt\n",
    "from sklearn.linear_model import LinearRegression\n",
    "from scipy.optimize import minimize\n",
    "%matplotlib inline\n",
    "plt.style.use('seaborn')\n",
    "mpl.rcParams['font.family'] = 'serif'\n",
    "from treasury_cmds import *"
   ]
  },
  {
   "cell_type": "code",
   "execution_count": 8,
   "id": "4d883186",
   "metadata": {},
   "outputs": [],
   "source": [
    "selected_treasury_path = 'C:/Users/dcste/OneDrive/fixed_income/fixed_income_FORKED/finm-fixedincome-2023/data/selected_treasury_quotes_2022-12-30.xlsx'\n",
    "quotes = pd.read_excel(selected_treasury_path, sheet_name='quotes').set_index('KYTREASNO')"
   ]
  },
  {
   "cell_type": "code",
   "execution_count": 21,
   "id": "4bc36b3a",
   "metadata": {},
   "outputs": [],
   "source": [
    "quotes['maturity date'] = pd.to_datetime(quotes['maturity date'])"
   ]
  },
  {
   "attachments": {},
   "cell_type": "markdown",
   "id": "24dd65e8",
   "metadata": {},
   "source": [
    "- Since we are looking at them from the perspective of the last issue date of the columns I will set the quote date to be equal to *2022-12-31.*"
   ]
  },
  {
   "cell_type": "code",
   "execution_count": 39,
   "id": "996f03d2",
   "metadata": {},
   "outputs": [],
   "source": [
    "QUOTE_DATE = '2022-12-31'\n",
    "t_current = pd.to_datetime(QUOTE_DATE)\n",
    "CASH_FLOW = pd.DataFrame(data = 0, index = quotes.index, columns=quotes['maturity date'])\n",
    "\n",
    "for id in quotes.index:\n",
    "    coupon_dates = get_coupon_dates(t_current, pd.to_datetime(quotes.loc[id,'maturity date']))\n",
    "\n",
    "    if coupon_dates is not None:\n",
    "        CASH_FLOW.loc[id,coupon_dates] = quotes.loc[id,'coupon rate']/2\n",
    "\n",
    "    CASH_FLOW.loc[id,quotes.loc[id,'maturity date']] += 100\n",
    "\n",
    "\n",
    "CASH_FLOW = CASH_FLOW.resample('m', axis = 1).sum()\n",
    "CASH_FLOW.drop(columns=CASH_FLOW.columns[(CASH_FLOW ==0).all()], inplace=True)\n",
    "CASH_FLOW = CASH_FLOW.fillna(0).sort_index(axis=1)\n",
    "\n",
    "\n"
   ]
  },
  {
   "cell_type": "markdown",
   "id": "577a3f46",
   "metadata": {},
   "source": [
    "## 2.1 (5pts)\n",
    "\n",
    "Calculate the cashflow matrix for the treasury issues.\n",
    "\n",
    "Display the table."
   ]
  },
  {
   "cell_type": "code",
   "execution_count": 42,
   "id": "c1d0ee04",
   "metadata": {},
   "outputs": [
    {
     "data": {
      "text/html": [
       "<div>\n",
       "<style scoped>\n",
       "    .dataframe tbody tr th:only-of-type {\n",
       "        vertical-align: middle;\n",
       "    }\n",
       "\n",
       "    .dataframe tbody tr th {\n",
       "        vertical-align: top;\n",
       "    }\n",
       "\n",
       "    .dataframe thead th {\n",
       "        text-align: right;\n",
       "    }\n",
       "</style>\n",
       "<table border=\"1\" class=\"dataframe\">\n",
       "  <thead>\n",
       "    <tr style=\"text-align: right;\">\n",
       "      <th>maturity date</th>\n",
       "      <th>2023-06-30</th>\n",
       "      <th>2023-12-31</th>\n",
       "      <th>2024-06-30</th>\n",
       "      <th>2024-12-31</th>\n",
       "      <th>2025-06-30</th>\n",
       "      <th>2025-12-31</th>\n",
       "      <th>2026-06-30</th>\n",
       "      <th>2026-12-31</th>\n",
       "      <th>2027-06-30</th>\n",
       "      <th>2027-12-31</th>\n",
       "    </tr>\n",
       "    <tr>\n",
       "      <th>KYTREASNO</th>\n",
       "      <th></th>\n",
       "      <th></th>\n",
       "      <th></th>\n",
       "      <th></th>\n",
       "      <th></th>\n",
       "      <th></th>\n",
       "      <th></th>\n",
       "      <th></th>\n",
       "      <th></th>\n",
       "      <th></th>\n",
       "    </tr>\n",
       "  </thead>\n",
       "  <tbody>\n",
       "    <tr>\n",
       "      <th>206990</th>\n",
       "      <td>100.6875</td>\n",
       "      <td>0.0000</td>\n",
       "      <td>0.0000</td>\n",
       "      <td>0.0000</td>\n",
       "      <td>0.0000</td>\n",
       "      <td>0.0000</td>\n",
       "      <td>0.0000</td>\n",
       "      <td>0.0000</td>\n",
       "      <td>0.0000</td>\n",
       "      <td>0.0000</td>\n",
       "    </tr>\n",
       "    <tr>\n",
       "      <th>207047</th>\n",
       "      <td>1.1250</td>\n",
       "      <td>101.1250</td>\n",
       "      <td>0.0000</td>\n",
       "      <td>0.0000</td>\n",
       "      <td>0.0000</td>\n",
       "      <td>0.0000</td>\n",
       "      <td>0.0000</td>\n",
       "      <td>0.0000</td>\n",
       "      <td>0.0000</td>\n",
       "      <td>0.0000</td>\n",
       "    </tr>\n",
       "    <tr>\n",
       "      <th>207374</th>\n",
       "      <td>0.8750</td>\n",
       "      <td>0.8750</td>\n",
       "      <td>100.8750</td>\n",
       "      <td>0.0000</td>\n",
       "      <td>0.0000</td>\n",
       "      <td>0.0000</td>\n",
       "      <td>0.0000</td>\n",
       "      <td>0.0000</td>\n",
       "      <td>0.0000</td>\n",
       "      <td>0.0000</td>\n",
       "    </tr>\n",
       "    <tr>\n",
       "      <th>207166</th>\n",
       "      <td>1.1250</td>\n",
       "      <td>1.1250</td>\n",
       "      <td>1.1250</td>\n",
       "      <td>101.1250</td>\n",
       "      <td>0.0000</td>\n",
       "      <td>0.0000</td>\n",
       "      <td>0.0000</td>\n",
       "      <td>0.0000</td>\n",
       "      <td>0.0000</td>\n",
       "      <td>0.0000</td>\n",
       "    </tr>\n",
       "    <tr>\n",
       "      <th>207224</th>\n",
       "      <td>1.3750</td>\n",
       "      <td>1.3750</td>\n",
       "      <td>1.3750</td>\n",
       "      <td>1.3750</td>\n",
       "      <td>101.3750</td>\n",
       "      <td>0.0000</td>\n",
       "      <td>0.0000</td>\n",
       "      <td>0.0000</td>\n",
       "      <td>0.0000</td>\n",
       "      <td>0.0000</td>\n",
       "    </tr>\n",
       "    <tr>\n",
       "      <th>207652</th>\n",
       "      <td>0.1875</td>\n",
       "      <td>0.1875</td>\n",
       "      <td>0.1875</td>\n",
       "      <td>0.1875</td>\n",
       "      <td>0.1875</td>\n",
       "      <td>100.1875</td>\n",
       "      <td>0.0000</td>\n",
       "      <td>0.0000</td>\n",
       "      <td>0.0000</td>\n",
       "      <td>0.0000</td>\n",
       "    </tr>\n",
       "    <tr>\n",
       "      <th>207731</th>\n",
       "      <td>0.4375</td>\n",
       "      <td>0.4375</td>\n",
       "      <td>0.4375</td>\n",
       "      <td>0.4375</td>\n",
       "      <td>0.4375</td>\n",
       "      <td>0.4375</td>\n",
       "      <td>100.4375</td>\n",
       "      <td>0.0000</td>\n",
       "      <td>0.0000</td>\n",
       "      <td>0.0000</td>\n",
       "    </tr>\n",
       "    <tr>\n",
       "      <th>207821</th>\n",
       "      <td>0.6250</td>\n",
       "      <td>0.6250</td>\n",
       "      <td>0.6250</td>\n",
       "      <td>0.6250</td>\n",
       "      <td>0.6250</td>\n",
       "      <td>0.6250</td>\n",
       "      <td>0.6250</td>\n",
       "      <td>100.6250</td>\n",
       "      <td>0.0000</td>\n",
       "      <td>0.0000</td>\n",
       "    </tr>\n",
       "    <tr>\n",
       "      <th>207561</th>\n",
       "      <td>0.2500</td>\n",
       "      <td>0.2500</td>\n",
       "      <td>0.2500</td>\n",
       "      <td>0.2500</td>\n",
       "      <td>0.2500</td>\n",
       "      <td>0.2500</td>\n",
       "      <td>0.2500</td>\n",
       "      <td>0.2500</td>\n",
       "      <td>100.2500</td>\n",
       "      <td>0.0000</td>\n",
       "    </tr>\n",
       "    <tr>\n",
       "      <th>207989</th>\n",
       "      <td>1.9375</td>\n",
       "      <td>1.9375</td>\n",
       "      <td>1.9375</td>\n",
       "      <td>1.9375</td>\n",
       "      <td>1.9375</td>\n",
       "      <td>1.9375</td>\n",
       "      <td>1.9375</td>\n",
       "      <td>1.9375</td>\n",
       "      <td>1.9375</td>\n",
       "      <td>101.9375</td>\n",
       "    </tr>\n",
       "  </tbody>\n",
       "</table>\n",
       "</div>"
      ],
      "text/plain": [
       "maturity date  2023-06-30  2023-12-31  2024-06-30  2024-12-31  2025-06-30  \\\n",
       "KYTREASNO                                                                   \n",
       "206990           100.6875      0.0000      0.0000      0.0000      0.0000   \n",
       "207047             1.1250    101.1250      0.0000      0.0000      0.0000   \n",
       "207374             0.8750      0.8750    100.8750      0.0000      0.0000   \n",
       "207166             1.1250      1.1250      1.1250    101.1250      0.0000   \n",
       "207224             1.3750      1.3750      1.3750      1.3750    101.3750   \n",
       "207652             0.1875      0.1875      0.1875      0.1875      0.1875   \n",
       "207731             0.4375      0.4375      0.4375      0.4375      0.4375   \n",
       "207821             0.6250      0.6250      0.6250      0.6250      0.6250   \n",
       "207561             0.2500      0.2500      0.2500      0.2500      0.2500   \n",
       "207989             1.9375      1.9375      1.9375      1.9375      1.9375   \n",
       "\n",
       "maturity date  2025-12-31  2026-06-30  2026-12-31  2027-06-30  2027-12-31  \n",
       "KYTREASNO                                                                  \n",
       "206990             0.0000      0.0000      0.0000      0.0000      0.0000  \n",
       "207047             0.0000      0.0000      0.0000      0.0000      0.0000  \n",
       "207374             0.0000      0.0000      0.0000      0.0000      0.0000  \n",
       "207166             0.0000      0.0000      0.0000      0.0000      0.0000  \n",
       "207224             0.0000      0.0000      0.0000      0.0000      0.0000  \n",
       "207652           100.1875      0.0000      0.0000      0.0000      0.0000  \n",
       "207731             0.4375    100.4375      0.0000      0.0000      0.0000  \n",
       "207821             0.6250      0.6250    100.6250      0.0000      0.0000  \n",
       "207561             0.2500      0.2500      0.2500    100.2500      0.0000  \n",
       "207989             1.9375      1.9375      1.9375      1.9375    101.9375  "
      ]
     },
     "execution_count": 42,
     "metadata": {},
     "output_type": "execute_result"
    }
   ],
   "source": [
    "CASH_FLOW"
   ]
  },
  {
   "cell_type": "markdown",
   "id": "9fbc9530",
   "metadata": {},
   "source": [
    "## 2.2 (5pts)\n",
    "\n",
    "Use the bootstrap (or OLS) to extract the spot discount factors from this data, over the maturity range of 0.5 to 5, in half-year increments."
   ]
  },
  {
   "cell_type": "markdown",
   "id": "02730a9f",
   "metadata": {},
   "source": [
    "### Note: If you couldn't extract spot discount factors...\n",
    "\n",
    "Several problems below make use of the spot discounts on Dec 30, 2022.\n",
    "\n",
    "**If you were unable to calculate the answer to 2.3,** feel free to use the simplified discount factors, $Z(t,T)$ provided in the file `simplified_spot_discounts_2022-12-30.xlsx`.\n",
    "\n",
    "Note that the rates in this file are simplified and won't match the answer you'll get if you solve Problem 2.2 above, so don't try to check your answer with them.\n",
    "\n",
    "If you are proceeding with the simplified rates rather than your estimates in 2.2, **state that clearly.**\n",
    "\n",
    "And again, this is **just provided as a help for anyone who couldn't solve 2.2**, so that they can continue with 2.3-2.5, as well as other problems in the exam."
   ]
  },
  {
   "cell_type": "code",
   "execution_count": 47,
   "id": "2cae66df",
   "metadata": {},
   "outputs": [],
   "source": [
    "frequency = 2\n",
    "curves = pd.DataFrame(np.linalg.solve(CASH_FLOW,quotes.price.loc[CASH_FLOW.index]), index = CASH_FLOW.index, columns=['discount factor'])\n",
    "curves.insert(0,'maturity', quotes['maturity'])\n",
    "curves = curves.reset_index().set_index('maturity')\n",
    "curves['spot_rate'] = discount_to_intrate(curves['discount factor'], curves.index,n_compound=frequency)\n",
    "curves['CC_Spot_Rate'] = discount_to_intrate(curves['discount factor'], maturity=curves.index)"
   ]
  },
  {
   "cell_type": "code",
   "execution_count": 56,
   "id": "cde551a0",
   "metadata": {},
   "outputs": [
    {
     "data": {
      "text/plain": [
       "<matplotlib.legend.Legend at 0x29e61076d00>"
      ]
     },
     "execution_count": 56,
     "metadata": {},
     "output_type": "execute_result"
    },
    {
     "data": {
      "image/png": "[encoded data removed]",
      "text/plain": [
       "<Figure size 1200x500 with 1 Axes>"
      ]
     },
     "metadata": {},
     "output_type": "display_data"
    }
   ],
   "source": [
    "# ploting discount curve\n",
    "fig, ax = plt.subplots(1,1,figsize=(12,5))\n",
    "plt.plot(curves['discount factor'], c = 'g', label = 'Discount')\n",
    "plt.title('Discount Curve')\n",
    "plt.ylabel('Discount Factor')\n",
    "plt.xlabel('Maturity')\n",
    "plt.legend(loc = 0)"
   ]
  },
  {
   "cell_type": "markdown",
   "id": "a392bde1",
   "metadata": {},
   "source": [
    "## 2.3 (5pts)\n",
    "\n",
    "Report the \n",
    "* semi-annually-compounded spot discount **rates** derived from the discount factors above.\n",
    "* continuously-compounded spot rates."
   ]
  },
  {
   "cell_type": "code",
   "execution_count": 57,
   "id": "afa751b5",
   "metadata": {},
   "outputs": [
    {
     "data": {
      "text/plain": [
       "<matplotlib.legend.Legend at 0x29e628390a0>"
      ]
     },
     "execution_count": 57,
     "metadata": {},
     "output_type": "execute_result"
    },
    {
     "data": {
      "image/png": "[encoded data removed]",
      "text/plain": [
       "<Figure size 1200x600 with 1 Axes>"
      ]
     },
     "metadata": {},
     "output_type": "display_data"
    }
   ],
   "source": [
    "fig, ax = plt.subplots(1,1, figsize = (12,6))\n",
    "plt.plot(curves['spot_rate'], c = 'r', label = 'Semi-Annual Spot Rate')\n",
    "plt.plot(curves['CC_Spot_Rate'], c = 'm', label = 'Continuously Compounded Rate')\n",
    "plt.ylabel('Interest Rate')\n",
    "plt.xlabel('Maturity Level')\n",
    "plt.title('Semi-Annual and Continuously Compounded Interest Rates')\n",
    "plt.legend(loc = 0)"
   ]
  },
  {
   "cell_type": "markdown",
   "id": "f7e8c827",
   "metadata": {},
   "source": [
    "## 2.4 (3pts)\n",
    "\n",
    "Without any calculation, just looking at your spot rates from 2.3, is the long-end of the forward curve below or above the spot-rate curve? How do you know?"
   ]
  },
  {
   "attachments": {},
   "cell_type": "markdown",
   "id": "ef56955e",
   "metadata": {},
   "source": [
    "**Answer:** The long-end of the forward curve is below the current spot-rate curve because the spot rate curve is inverted as time-to-maturity increases.  "
   ]
  },
  {
   "cell_type": "markdown",
   "id": "60eb3529",
   "metadata": {},
   "source": [
    "## 2.5 (7pts)\n",
    "Calculate and report the continuously-compounded forward-rate curve, $f(t,T,T+1)$, for $0\\le T \\le 4$.\n",
    "\n",
    "Also report the forward rate, $f(t,T_1,T_2)$, for $T_1=3, T_2=5$."
   ]
  },
  {
   "cell_type": "code",
   "execution_count": 91,
   "id": "64d56946",
   "metadata": {},
   "outputs": [],
   "source": [
    "forward_curve = pd.DataFrame(curves['discount factor'].values/curves['discount factor'].shift().values,\\\n",
    "     index = curves.index, columns=['Forward_Discount_Factor'])\n",
    "forward_curve['Forward_Discount_Factor'].iloc[0] = curves['discount factor'].iloc[0]\n",
    "forward_curve['CC_Forward_Rate'] = -np.log(forward_curve['Forward_Discount_Factor'])/forward_curve.index.to_series().diff().mean()"
   ]
  },
  {
   "attachments": {},
   "cell_type": "markdown",
   "id": "b2a54610",
   "metadata": {},
   "source": [
    "$f(t,T_1,T_2)$, for $T_1=3, T_2=5$  is equal to the difference between the continuously compounded forward rates at $T = 3\\ and\\ T = 5$"
   ]
  },
  {
   "cell_type": "code",
   "execution_count": 100,
   "id": "e3106494",
   "metadata": {},
   "outputs": [],
   "source": [
    "f_rate = 0.034559- 0.037142\n",
    "f_rate = np.round(f_rate,5)*100"
   ]
  },
  {
   "cell_type": "code",
   "execution_count": 101,
   "id": "6cc7c9cb",
   "metadata": {},
   "outputs": [
    {
     "name": "stdout",
     "output_type": "stream",
     "text": [
      "The forward rate from T= 5 to T = 3 is -0.258%\n"
     ]
    }
   ],
   "source": [
    "print(f'The forward rate from T= 5 to T = 3 is {f_rate}%')"
   ]
  },
  {
   "cell_type": "code",
   "execution_count": 105,
   "id": "420ccb17",
   "metadata": {},
   "outputs": [
    {
     "data": {
      "text/plain": [
       "<AxesSubplot:title={'center':'CC Forward Rate'}, xlabel='maturity'>"
      ]
     },
     "execution_count": 105,
     "metadata": {},
     "output_type": "execute_result"
    },
    {
     "data": {
      "image/png": "[encoded data removed]",
      "text/plain": [
       "<Figure size 800x550 with 1 Axes>"
      ]
     },
     "metadata": {},
     "output_type": "display_data"
    }
   ],
   "source": [
    "forward_curve['CC_Forward_Rate'].plot(title = \"CC Forward Rate\")"
   ]
  },
  {
   "cell_type": "code",
   "execution_count": 104,
   "id": "f666f321",
   "metadata": {},
   "outputs": [
    {
     "data": {
      "text/plain": [
       "<AxesSubplot:xlabel='maturity'>"
      ]
     },
     "execution_count": 104,
     "metadata": {},
     "output_type": "execute_result"
    },
    {
     "data": {
      "image/png": "[encoded data removed]",
      "text/plain": [
       "<Figure size 800x550 with 1 Axes>"
      ]
     },
     "metadata": {},
     "output_type": "display_data"
    }
   ],
   "source": [
    "forward_curve['Forward_Discount_Factor'].plot()"
   ]
  },
  {
   "cell_type": "markdown",
   "id": "7b2f1d63",
   "metadata": {},
   "source": [
    "***"
   ]
  },
  {
   "cell_type": "markdown",
   "id": "0b6432d5",
   "metadata": {},
   "source": [
    "# 3 An Amortized Bond"
   ]
  },
  {
   "cell_type": "markdown",
   "id": "b0192184",
   "metadata": {},
   "source": [
    "Suppose the Treasury announces a new type of bond, the **zero-coupon amortized bond** which works as follows:\n",
    "* it pays the \\\\$100 face value evenly and annually over the life of the bond.\n",
    "* it does not pay any additional coupon.\n",
    "\n",
    "In particular, consider a five-year amortized bond:\n",
    "* it pays \\\\$10 twice per year for the next 5 years.\n",
    "* it does **not** pay any extra principal when it matures at 5 years--just the usual \\\\$10 payment."
   ]
  },
  {
   "cell_type": "code",
   "execution_count": 107,
   "id": "07ef6ca2",
   "metadata": {},
   "outputs": [
    {
     "data": {
      "text/html": [
       "<div>\n",
       "<style scoped>\n",
       "    .dataframe tbody tr th:only-of-type {\n",
       "        vertical-align: middle;\n",
       "    }\n",
       "\n",
       "    .dataframe tbody tr th {\n",
       "        vertical-align: top;\n",
       "    }\n",
       "\n",
       "    .dataframe thead th {\n",
       "        text-align: right;\n",
       "    }\n",
       "</style>\n",
       "<table border=\"1\" class=\"dataframe\">\n",
       "  <thead>\n",
       "    <tr style=\"text-align: right;\">\n",
       "      <th></th>\n",
       "      <th>KYTREASNO</th>\n",
       "      <th>discount factor</th>\n",
       "      <th>spot_rate</th>\n",
       "      <th>CC_Spot_Rate</th>\n",
       "    </tr>\n",
       "    <tr>\n",
       "      <th>maturity</th>\n",
       "      <th></th>\n",
       "      <th></th>\n",
       "      <th></th>\n",
       "      <th></th>\n",
       "    </tr>\n",
       "  </thead>\n",
       "  <tbody>\n",
       "    <tr>\n",
       "      <th>0.498289</th>\n",
       "      <td>206990</td>\n",
       "      <td>0.977886</td>\n",
       "      <td>0.045384</td>\n",
       "      <td>0.044877</td>\n",
       "    </tr>\n",
       "    <tr>\n",
       "      <th>1.002053</th>\n",
       "      <td>207047</td>\n",
       "      <td>0.954124</td>\n",
       "      <td>0.047419</td>\n",
       "      <td>0.046865</td>\n",
       "    </tr>\n",
       "    <tr>\n",
       "      <th>1.500342</th>\n",
       "      <td>207374</td>\n",
       "      <td>0.933443</td>\n",
       "      <td>0.046437</td>\n",
       "      <td>0.045907</td>\n",
       "    </tr>\n",
       "    <tr>\n",
       "      <th>2.004107</th>\n",
       "      <td>207166</td>\n",
       "      <td>0.916052</td>\n",
       "      <td>0.044233</td>\n",
       "      <td>0.043751</td>\n",
       "    </tr>\n",
       "    <tr>\n",
       "      <th>2.499658</th>\n",
       "      <td>207224</td>\n",
       "      <td>0.899927</td>\n",
       "      <td>0.042630</td>\n",
       "      <td>0.042182</td>\n",
       "    </tr>\n",
       "    <tr>\n",
       "      <th>3.003422</th>\n",
       "      <td>207652</td>\n",
       "      <td>0.883355</td>\n",
       "      <td>0.041725</td>\n",
       "      <td>0.041296</td>\n",
       "    </tr>\n",
       "    <tr>\n",
       "      <th>3.498973</th>\n",
       "      <td>207731</td>\n",
       "      <td>0.866473</td>\n",
       "      <td>0.041384</td>\n",
       "      <td>0.040962</td>\n",
       "    </tr>\n",
       "    <tr>\n",
       "      <th>4.002738</th>\n",
       "      <td>207821</td>\n",
       "      <td>0.850116</td>\n",
       "      <td>0.040982</td>\n",
       "      <td>0.040568</td>\n",
       "    </tr>\n",
       "    <tr>\n",
       "      <th>4.498289</th>\n",
       "      <td>207561</td>\n",
       "      <td>0.835333</td>\n",
       "      <td>0.040401</td>\n",
       "      <td>0.039998</td>\n",
       "    </tr>\n",
       "    <tr>\n",
       "      <th>5.002053</th>\n",
       "      <td>207989</td>\n",
       "      <td>0.821011</td>\n",
       "      <td>0.039819</td>\n",
       "      <td>0.039427</td>\n",
       "    </tr>\n",
       "  </tbody>\n",
       "</table>\n",
       "</div>"
      ],
      "text/plain": [
       "          KYTREASNO  discount factor  spot_rate  CC_Spot_Rate\n",
       "maturity                                                     \n",
       "0.498289     206990         0.977886   0.045384      0.044877\n",
       "1.002053     207047         0.954124   0.047419      0.046865\n",
       "1.500342     207374         0.933443   0.046437      0.045907\n",
       "2.004107     207166         0.916052   0.044233      0.043751\n",
       "2.499658     207224         0.899927   0.042630      0.042182\n",
       "3.003422     207652         0.883355   0.041725      0.041296\n",
       "3.498973     207731         0.866473   0.041384      0.040962\n",
       "4.002738     207821         0.850116   0.040982      0.040568\n",
       "4.498289     207561         0.835333   0.040401      0.039998\n",
       "5.002053     207989         0.821011   0.039819      0.039427"
      ]
     },
     "execution_count": 107,
     "metadata": {},
     "output_type": "execute_result"
    }
   ],
   "source": []
  },
  {
   "cell_type": "markdown",
   "id": "fd8edb98",
   "metadata": {},
   "source": [
    "## 3.1 (5pts)\n",
    "\n",
    "Use the spot discount factors from Problem 2 to price this new security as of December 30, 2022."
   ]
  },
  {
   "cell_type": "code",
   "execution_count": null,
   "id": "e97ab207",
   "metadata": {},
   "outputs": [],
   "source": [
    "def price_treasury_ytm(time_to_maturity, ytm, cpn_rate=100,freq=2,face=100):\n",
    "    c = cpn_rate/freq\n",
    "    y = ytm/freq\n",
    "    \n",
    "    tau = round(time_to_maturity * freq)\n",
    "    \n",
    "    pv = 0\n",
    "    for i in range(1,tau):\n",
    "        pv += 1 / (1+y)**i\n",
    "    \n",
    "    pv = c*pv + (1+c)/(1+y)**tau\n",
    "    pv *= face\n",
    "    \n",
    "    return pv"
   ]
  },
  {
   "cell_type": "markdown",
   "id": "d80f19f4",
   "metadata": {},
   "source": [
    "## 3.2 (5pts)\n",
    "\n",
    "Calculate the YTM of this new **amortized bond**."
   ]
  },
  {
   "cell_type": "markdown",
   "id": "c85de762",
   "metadata": {},
   "source": [
    "## 3.3 (5pts)\n",
    "\n",
    "Conceptually speaking, should the duration of this amortized bond be higher or lower than a typical zero-coupon, five-year treasury bond?\n",
    "\n",
    "And its convexity?"
   ]
  },
  {
   "cell_type": "markdown",
   "id": "6d191b69",
   "metadata": {},
   "source": [
    "## 3.4 (7pts)\n",
    "\n",
    "Calculate the (Macauley) duration of this **amortized** bond."
   ]
  },
  {
   "cell_type": "markdown",
   "id": "fc47a0ed",
   "metadata": {},
   "source": [
    "## 3.5 (6pts)\n",
    "\n",
    "Calculate the convexity of this amortized bond."
   ]
  },
  {
   "cell_type": "markdown",
   "id": "fecbc042",
   "metadata": {},
   "source": [
    "## 3.6 (7pts)\n",
    "\n",
    "Suppose you want to go long this amortized bond but hedge your duration by shorting the 5-year Treasury reported in `selected_treasury_quotes_quotes_2022-12-30.xlsx`.\n",
    "\n",
    "For each long contract of the 5-year amortized, how many contracts should you short of the vanilla 5-year Treasury?"
   ]
  },
  {
   "cell_type": "markdown",
   "id": "f5a63d79",
   "metadata": {},
   "source": [
    "***"
   ]
  },
  {
   "cell_type": "markdown",
   "id": "acc3f2d2",
   "metadata": {},
   "source": [
    "# 4 Expectations Hypothesis"
   ]
  },
  {
   "cell_type": "markdown",
   "id": "32665f25",
   "metadata": {},
   "source": [
    "Continue using the rates from Dec 30, 2022 introduced in Problem 2 above."
   ]
  },
  {
   "cell_type": "markdown",
   "id": "46e8e336",
   "metadata": {},
   "source": [
    "## 4.1 (5pts)\n",
    "\n",
    "Use the Expectations Hypothesis to get a forecast the one-year spot rate that will be available in December of the following four years, (2023, 2024, 2025, 2026.)\n",
    "\n",
    "## 4.2 (5pts)\n",
    "\n",
    "Based on evidence we reviewed of the Expectations Hypothesis, do you expect the forecasts above are too high or low? Explain.\n",
    "\n",
    "## 4.3 (5pts)\n",
    "\n",
    "Suppose that the following month, January 2023, we observe that the forward rates have increased. Is it likely that the future spot rates (in Jan 2023, 2024, 2025, 2026) will increase as well? Explain.\n",
    "\n",
    "## 4.4 (5pts)\n",
    "\n",
    "As of December 2022, describe (conceptually) the \"carry trade\" you would recommend an investor implement.."
   ]
  },
  {
   "cell_type": "markdown",
   "id": "d8ebb4c6",
   "metadata": {},
   "source": [
    "***"
   ]
  },
  {
   "cell_type": "markdown",
   "id": "8443007c",
   "metadata": {},
   "source": [
    "# 5 Long-Short Convergence Trade"
   ]
  },
  {
   "cell_type": "markdown",
   "id": "7a6bb64b",
   "metadata": {},
   "source": [
    "Consider a long-short convergence trade on `2019-08-29`.\n",
    "\n",
    "* Both securities mature on **2020-08-15**.\n",
    "* One is a 30-year **bond** and the other is a 10-year **note**.\n",
    "\n",
    "Find data needed for the analysis in `treasury_ts_2020-08-15.xlsx`.\n",
    "\n",
    "Note:\n",
    "* Use the YTM as given in the field `TDYLD`. Multiply by 365.25 to convert it to an annual yield.\n",
    "* Use the (Macauley) duration given in `TDDURATN`, divided by 365.25 to annualize it."
   ]
  },
  {
   "cell_type": "code",
   "execution_count": 144,
   "id": "33910af9",
   "metadata": {},
   "outputs": [
    {
     "data": {
      "text/html": [
       "<div>\n",
       "<style scoped>\n",
       "    .dataframe tbody tr th:only-of-type {\n",
       "        vertical-align: middle;\n",
       "    }\n",
       "\n",
       "    .dataframe tbody tr th {\n",
       "        vertical-align: top;\n",
       "    }\n",
       "\n",
       "    .dataframe thead th {\n",
       "        text-align: right;\n",
       "    }\n",
       "</style>\n",
       "<table border=\"1\" class=\"dataframe\">\n",
       "  <thead>\n",
       "    <tr style=\"text-align: right;\">\n",
       "      <th></th>\n",
       "      <th>KYTREASNO</th>\n",
       "      <th>KYCRSPID</th>\n",
       "      <th>CALDT</th>\n",
       "      <th>TDBID</th>\n",
       "      <th>TDASK</th>\n",
       "      <th>TDNOMPRC</th>\n",
       "      <th>TDNOMPRC_FLG</th>\n",
       "      <th>TDSOURCR</th>\n",
       "      <th>TDACCINT</th>\n",
       "      <th>TDRETNUA</th>\n",
       "      <th>TDYLD</th>\n",
       "      <th>TDDURATN</th>\n",
       "      <th>TDPUBOUT</th>\n",
       "      <th>TDTOTOUT</th>\n",
       "      <th>TDPDINT</th>\n",
       "      <th>TDIDXRATIO</th>\n",
       "      <th>TDIDXRATIO_FLG</th>\n",
       "    </tr>\n",
       "  </thead>\n",
       "  <tbody>\n",
       "    <tr>\n",
       "      <th>0</th>\n",
       "      <td>204074</td>\n",
       "      <td>2.020082e+07</td>\n",
       "      <td>1993-04-13</td>\n",
       "      <td>122.593750</td>\n",
       "      <td>122.656250</td>\n",
       "      <td>122.625000</td>\n",
       "      <td>M</td>\n",
       "      <td>R</td>\n",
       "      <td>1.377762</td>\n",
       "      <td>0.001204</td>\n",
       "      <td>0.000186</td>\n",
       "      <td>4387.142817</td>\n",
       "      <td>21009.0</td>\n",
       "      <td>21419.0</td>\n",
       "      <td>0.0</td>\n",
       "      <td>NaN</td>\n",
       "      <td>NaN</td>\n",
       "    </tr>\n",
       "    <tr>\n",
       "      <th>1</th>\n",
       "      <td>204074</td>\n",
       "      <td>2.020082e+07</td>\n",
       "      <td>1990-08-10</td>\n",
       "      <td>99.562500</td>\n",
       "      <td>99.625000</td>\n",
       "      <td>99.593750</td>\n",
       "      <td>M</td>\n",
       "      <td>R</td>\n",
       "      <td>0.000000</td>\n",
       "      <td>NaN</td>\n",
       "      <td>0.000235</td>\n",
       "      <td>4021.731911</td>\n",
       "      <td>NaN</td>\n",
       "      <td>NaN</td>\n",
       "      <td>0.0</td>\n",
       "      <td>NaN</td>\n",
       "      <td>NaN</td>\n",
       "    </tr>\n",
       "    <tr>\n",
       "      <th>2</th>\n",
       "      <td>204074</td>\n",
       "      <td>2.020082e+07</td>\n",
       "      <td>1990-08-13</td>\n",
       "      <td>99.187500</td>\n",
       "      <td>99.250000</td>\n",
       "      <td>99.218750</td>\n",
       "      <td>M</td>\n",
       "      <td>R</td>\n",
       "      <td>0.000000</td>\n",
       "      <td>-0.003765</td>\n",
       "      <td>0.000236</td>\n",
       "      <td>4006.695342</td>\n",
       "      <td>NaN</td>\n",
       "      <td>NaN</td>\n",
       "      <td>0.0</td>\n",
       "      <td>NaN</td>\n",
       "      <td>NaN</td>\n",
       "    </tr>\n",
       "    <tr>\n",
       "      <th>3</th>\n",
       "      <td>204074</td>\n",
       "      <td>2.020082e+07</td>\n",
       "      <td>1990-08-14</td>\n",
       "      <td>99.656250</td>\n",
       "      <td>99.718750</td>\n",
       "      <td>99.687500</td>\n",
       "      <td>M</td>\n",
       "      <td>R</td>\n",
       "      <td>0.000000</td>\n",
       "      <td>0.004724</td>\n",
       "      <td>0.000235</td>\n",
       "      <td>4017.732737</td>\n",
       "      <td>NaN</td>\n",
       "      <td>NaN</td>\n",
       "      <td>0.0</td>\n",
       "      <td>NaN</td>\n",
       "      <td>NaN</td>\n",
       "    </tr>\n",
       "    <tr>\n",
       "      <th>4</th>\n",
       "      <td>204074</td>\n",
       "      <td>2.020082e+07</td>\n",
       "      <td>1990-08-15</td>\n",
       "      <td>99.843750</td>\n",
       "      <td>99.906250</td>\n",
       "      <td>99.875000</td>\n",
       "      <td>M</td>\n",
       "      <td>R</td>\n",
       "      <td>0.000000</td>\n",
       "      <td>0.001881</td>\n",
       "      <td>0.000235</td>\n",
       "      <td>4021.154173</td>\n",
       "      <td>NaN</td>\n",
       "      <td>NaN</td>\n",
       "      <td>0.0</td>\n",
       "      <td>NaN</td>\n",
       "      <td>NaN</td>\n",
       "    </tr>\n",
       "    <tr>\n",
       "      <th>...</th>\n",
       "      <td>...</td>\n",
       "      <td>...</td>\n",
       "      <td>...</td>\n",
       "      <td>...</td>\n",
       "      <td>...</td>\n",
       "      <td>...</td>\n",
       "      <td>...</td>\n",
       "      <td>...</td>\n",
       "      <td>...</td>\n",
       "      <td>...</td>\n",
       "      <td>...</td>\n",
       "      <td>...</td>\n",
       "      <td>...</td>\n",
       "      <td>...</td>\n",
       "      <td>...</td>\n",
       "      <td>...</td>\n",
       "      <td>...</td>\n",
       "    </tr>\n",
       "    <tr>\n",
       "      <th>10001</th>\n",
       "      <td>206169</td>\n",
       "      <td>2.020082e+07</td>\n",
       "      <td>2017-07-07</td>\n",
       "      <td>103.039062</td>\n",
       "      <td>103.070312</td>\n",
       "      <td>103.054688</td>\n",
       "      <td>M</td>\n",
       "      <td>I</td>\n",
       "      <td>1.029696</td>\n",
       "      <td>0.000070</td>\n",
       "      <td>0.000044</td>\n",
       "      <td>1087.375558</td>\n",
       "      <td>34231.0</td>\n",
       "      <td>67850.0</td>\n",
       "      <td>0.0</td>\n",
       "      <td>NaN</td>\n",
       "      <td>NaN</td>\n",
       "    </tr>\n",
       "    <tr>\n",
       "      <th>10002</th>\n",
       "      <td>206169</td>\n",
       "      <td>2.020082e+07</td>\n",
       "      <td>2017-07-10</td>\n",
       "      <td>103.039062</td>\n",
       "      <td>103.054688</td>\n",
       "      <td>103.046875</td>\n",
       "      <td>M</td>\n",
       "      <td>I</td>\n",
       "      <td>1.051450</td>\n",
       "      <td>0.000134</td>\n",
       "      <td>0.000044</td>\n",
       "      <td>1084.375623</td>\n",
       "      <td>34231.0</td>\n",
       "      <td>67850.0</td>\n",
       "      <td>0.0</td>\n",
       "      <td>NaN</td>\n",
       "      <td>NaN</td>\n",
       "    </tr>\n",
       "    <tr>\n",
       "      <th>10003</th>\n",
       "      <td>206169</td>\n",
       "      <td>2.020082e+07</td>\n",
       "      <td>2017-07-11</td>\n",
       "      <td>103.093750</td>\n",
       "      <td>103.125000</td>\n",
       "      <td>103.109375</td>\n",
       "      <td>M</td>\n",
       "      <td>I</td>\n",
       "      <td>1.058702</td>\n",
       "      <td>0.000670</td>\n",
       "      <td>0.000043</td>\n",
       "      <td>1083.396165</td>\n",
       "      <td>34231.0</td>\n",
       "      <td>67850.0</td>\n",
       "      <td>0.0</td>\n",
       "      <td>NaN</td>\n",
       "      <td>NaN</td>\n",
       "    </tr>\n",
       "    <tr>\n",
       "      <th>10004</th>\n",
       "      <td>206169</td>\n",
       "      <td>2.020082e+07</td>\n",
       "      <td>2017-07-12</td>\n",
       "      <td>103.203125</td>\n",
       "      <td>103.234375</td>\n",
       "      <td>103.218750</td>\n",
       "      <td>M</td>\n",
       "      <td>I</td>\n",
       "      <td>1.065953</td>\n",
       "      <td>0.001120</td>\n",
       "      <td>0.000042</td>\n",
       "      <td>1082.431479</td>\n",
       "      <td>34231.0</td>\n",
       "      <td>67850.0</td>\n",
       "      <td>0.0</td>\n",
       "      <td>NaN</td>\n",
       "      <td>NaN</td>\n",
       "    </tr>\n",
       "    <tr>\n",
       "      <th>10005</th>\n",
       "      <td>206169</td>\n",
       "      <td>2.020082e+07</td>\n",
       "      <td>2017-07-13</td>\n",
       "      <td>103.148438</td>\n",
       "      <td>103.179688</td>\n",
       "      <td>103.164062</td>\n",
       "      <td>M</td>\n",
       "      <td>I</td>\n",
       "      <td>1.073204</td>\n",
       "      <td>-0.000455</td>\n",
       "      <td>0.000043</td>\n",
       "      <td>1081.415137</td>\n",
       "      <td>34231.0</td>\n",
       "      <td>67850.0</td>\n",
       "      <td>0.0</td>\n",
       "      <td>NaN</td>\n",
       "      <td>NaN</td>\n",
       "    </tr>\n",
       "  </tbody>\n",
       "</table>\n",
       "<p>10006 rows × 17 columns</p>\n",
       "</div>"
      ],
      "text/plain": [
       "       KYTREASNO      KYCRSPID      CALDT       TDBID       TDASK    TDNOMPRC  \\\n",
       "0         204074  2.020082e+07 1993-04-13  122.593750  122.656250  122.625000   \n",
       "1         204074  2.020082e+07 1990-08-10   99.562500   99.625000   99.593750   \n",
       "2         204074  2.020082e+07 1990-08-13   99.187500   99.250000   99.218750   \n",
       "3         204074  2.020082e+07 1990-08-14   99.656250   99.718750   99.687500   \n",
       "4         204074  2.020082e+07 1990-08-15   99.843750   99.906250   99.875000   \n",
       "...          ...           ...        ...         ...         ...         ...   \n",
       "10001     206169  2.020082e+07 2017-07-07  103.039062  103.070312  103.054688   \n",
       "10002     206169  2.020082e+07 2017-07-10  103.039062  103.054688  103.046875   \n",
       "10003     206169  2.020082e+07 2017-07-11  103.093750  103.125000  103.109375   \n",
       "10004     206169  2.020082e+07 2017-07-12  103.203125  103.234375  103.218750   \n",
       "10005     206169  2.020082e+07 2017-07-13  103.148438  103.179688  103.164062   \n",
       "\n",
       "      TDNOMPRC_FLG TDSOURCR  TDACCINT  TDRETNUA     TDYLD     TDDURATN  \\\n",
       "0                M        R  1.377762  0.001204  0.000186  4387.142817   \n",
       "1                M        R  0.000000       NaN  0.000235  4021.731911   \n",
       "2                M        R  0.000000 -0.003765  0.000236  4006.695342   \n",
       "3                M        R  0.000000  0.004724  0.000235  4017.732737   \n",
       "4                M        R  0.000000  0.001881  0.000235  4021.154173   \n",
       "...            ...      ...       ...       ...       ...          ...   \n",
       "10001            M        I  1.029696  0.000070  0.000044  1087.375558   \n",
       "10002            M        I  1.051450  0.000134  0.000044  1084.375623   \n",
       "10003            M        I  1.058702  0.000670  0.000043  1083.396165   \n",
       "10004            M        I  1.065953  0.001120  0.000042  1082.431479   \n",
       "10005            M        I  1.073204 -0.000455  0.000043  1081.415137   \n",
       "\n",
       "       TDPUBOUT  TDTOTOUT  TDPDINT  TDIDXRATIO  TDIDXRATIO_FLG  \n",
       "0       21009.0   21419.0      0.0         NaN             NaN  \n",
       "1           NaN       NaN      0.0         NaN             NaN  \n",
       "2           NaN       NaN      0.0         NaN             NaN  \n",
       "3           NaN       NaN      0.0         NaN             NaN  \n",
       "4           NaN       NaN      0.0         NaN             NaN  \n",
       "...         ...       ...      ...         ...             ...  \n",
       "10001   34231.0   67850.0      0.0         NaN             NaN  \n",
       "10002   34231.0   67850.0      0.0         NaN             NaN  \n",
       "10003   34231.0   67850.0      0.0         NaN             NaN  \n",
       "10004   34231.0   67850.0      0.0         NaN             NaN  \n",
       "10005   34231.0   67850.0      0.0         NaN             NaN  \n",
       "\n",
       "[10006 rows x 17 columns]"
      ]
     },
     "execution_count": 144,
     "metadata": {},
     "output_type": "execute_result"
    }
   ],
   "source": [
    "file_path = 'C:/Users/dcste/OneDrive/fixed_income/fixed_income_FORKED/finm-fixedincome-2023/data/treasury_ts_2020-08-15.xlsx'\n",
    "treasury_info = pd.read_excel(file_path, sheet_name='info', index_col= 0)\n",
    "treasury_info.columns = treasury_info.iloc[0]\n",
    "ts_data = pd.read_excel(file_path, sheet_name='database')\n",
    "ts_data.columns = ts_data.columns.str.upper()\n",
    "ts_data"
   ]
  },
  {
   "cell_type": "code",
   "execution_count": 145,
   "id": "44225203",
   "metadata": {},
   "outputs": [],
   "source": [
    "metrics = ts_data[ts_data.CALDT == '2019-08-29']\n",
    "ts_df = metrics.copy()[['KYTREASNO', 'CALDT','TDBID','TDASK','TDNOMPRC','TDACCINT','TDYLD','TDDURATN','TDPUBOUT']].set_index('KYTREASNO')\n",
    "ts_df.columns = ['CALDT','BID','ASK','Nominal_Price','Accrued_Interest','YTM','Duration','Outstanding']"
   ]
  },
  {
   "cell_type": "code",
   "execution_count": 146,
   "id": "2ab062a1",
   "metadata": {},
   "outputs": [],
   "source": [
    "ts_df['Issue_Date'] = treasury_info.loc['tdatdt',:]\n",
    "ts_df['Maturity_Date'] = treasury_info.loc['tmatdt']"
   ]
  },
  {
   "cell_type": "code",
   "execution_count": 147,
   "id": "699ca8d6",
   "metadata": {},
   "outputs": [
    {
     "data": {
      "text/html": [
       "<div>\n",
       "<style scoped>\n",
       "    .dataframe tbody tr th:only-of-type {\n",
       "        vertical-align: middle;\n",
       "    }\n",
       "\n",
       "    .dataframe tbody tr th {\n",
       "        vertical-align: top;\n",
       "    }\n",
       "\n",
       "    .dataframe thead th {\n",
       "        text-align: right;\n",
       "    }\n",
       "</style>\n",
       "<table border=\"1\" class=\"dataframe\">\n",
       "  <thead>\n",
       "    <tr style=\"text-align: right;\">\n",
       "      <th>kytreasno</th>\n",
       "      <th>204074</th>\n",
       "      <th>206169</th>\n",
       "    </tr>\n",
       "  </thead>\n",
       "  <tbody>\n",
       "    <tr>\n",
       "      <th>kytreasno</th>\n",
       "      <td>204074</td>\n",
       "      <td>206169</td>\n",
       "    </tr>\n",
       "    <tr>\n",
       "      <th>kycrspid</th>\n",
       "      <td>20200815.108750</td>\n",
       "      <td>20200815.202620</td>\n",
       "    </tr>\n",
       "    <tr>\n",
       "      <th>crspid</th>\n",
       "      <td>20200815.108750</td>\n",
       "      <td>20200815.202620</td>\n",
       "    </tr>\n",
       "    <tr>\n",
       "      <th>tcusip</th>\n",
       "      <td>912810EG</td>\n",
       "      <td>912828NT</td>\n",
       "    </tr>\n",
       "    <tr>\n",
       "      <th>tdatdt</th>\n",
       "      <td>1990-08-15 00:00:00</td>\n",
       "      <td>2010-08-15 00:00:00</td>\n",
       "    </tr>\n",
       "    <tr>\n",
       "      <th>tmatdt</th>\n",
       "      <td>2020-08-15 00:00:00</td>\n",
       "      <td>2020-08-15 00:00:00</td>\n",
       "    </tr>\n",
       "    <tr>\n",
       "      <th>iwhy</th>\n",
       "      <td>1</td>\n",
       "      <td>1</td>\n",
       "    </tr>\n",
       "    <tr>\n",
       "      <th>tcouprt</th>\n",
       "      <td>8.75</td>\n",
       "      <td>2.625</td>\n",
       "    </tr>\n",
       "    <tr>\n",
       "      <th>tnippy</th>\n",
       "      <td>2</td>\n",
       "      <td>2</td>\n",
       "    </tr>\n",
       "    <tr>\n",
       "      <th>tvalfc</th>\n",
       "      <td>4.375</td>\n",
       "      <td>1.3125</td>\n",
       "    </tr>\n",
       "    <tr>\n",
       "      <th>tfcpdt</th>\n",
       "      <td>1991-02-15 00:00:00</td>\n",
       "      <td>2011-02-15 00:00:00</td>\n",
       "    </tr>\n",
       "    <tr>\n",
       "      <th>ifcpdtf</th>\n",
       "      <td>1</td>\n",
       "      <td>1</td>\n",
       "    </tr>\n",
       "    <tr>\n",
       "      <th>tfcaldt</th>\n",
       "      <td>NaN</td>\n",
       "      <td>NaN</td>\n",
       "    </tr>\n",
       "    <tr>\n",
       "      <th>tnotice</th>\n",
       "      <td>0</td>\n",
       "      <td>0</td>\n",
       "    </tr>\n",
       "    <tr>\n",
       "      <th>iymcn</th>\n",
       "      <td>NaN</td>\n",
       "      <td>NaN</td>\n",
       "    </tr>\n",
       "    <tr>\n",
       "      <th>itype</th>\n",
       "      <td>1</td>\n",
       "      <td>2</td>\n",
       "    </tr>\n",
       "    <tr>\n",
       "      <th>iuniq</th>\n",
       "      <td>0</td>\n",
       "      <td>0</td>\n",
       "    </tr>\n",
       "    <tr>\n",
       "      <th>itax</th>\n",
       "      <td>1</td>\n",
       "      <td>1</td>\n",
       "    </tr>\n",
       "    <tr>\n",
       "      <th>iflwr</th>\n",
       "      <td>1</td>\n",
       "      <td>1</td>\n",
       "    </tr>\n",
       "    <tr>\n",
       "      <th>tbankdt</th>\n",
       "      <td>NaN</td>\n",
       "      <td>NaN</td>\n",
       "    </tr>\n",
       "    <tr>\n",
       "      <th>tstripelig</th>\n",
       "      <td>NaN</td>\n",
       "      <td>NaN</td>\n",
       "    </tr>\n",
       "    <tr>\n",
       "      <th>tfrgntgt</th>\n",
       "      <td>NaN</td>\n",
       "      <td>NaN</td>\n",
       "    </tr>\n",
       "  </tbody>\n",
       "</table>\n",
       "</div>"
      ],
      "text/plain": [
       "kytreasno                204074               206169\n",
       "kytreasno                204074               206169\n",
       "kycrspid        20200815.108750      20200815.202620\n",
       "crspid          20200815.108750      20200815.202620\n",
       "tcusip                 912810EG             912828NT\n",
       "tdatdt      1990-08-15 00:00:00  2010-08-15 00:00:00\n",
       "tmatdt      2020-08-15 00:00:00  2020-08-15 00:00:00\n",
       "iwhy                          1                    1\n",
       "tcouprt                    8.75                2.625\n",
       "tnippy                        2                    2\n",
       "tvalfc                    4.375               1.3125\n",
       "tfcpdt      1991-02-15 00:00:00  2011-02-15 00:00:00\n",
       "ifcpdtf                       1                    1\n",
       "tfcaldt                     NaN                  NaN\n",
       "tnotice                       0                    0\n",
       "iymcn                       NaN                  NaN\n",
       "itype                         1                    2\n",
       "iuniq                         0                    0\n",
       "itax                          1                    1\n",
       "iflwr                         1                    1\n",
       "tbankdt                     NaN                  NaN\n",
       "tstripelig                  NaN                  NaN\n",
       "tfrgntgt                    NaN                  NaN"
      ]
     },
     "execution_count": 147,
     "metadata": {},
     "output_type": "execute_result"
    }
   ],
   "source": [
    "treasury_info"
   ]
  },
  {
   "cell_type": "code",
   "execution_count": 148,
   "id": "b585c030",
   "metadata": {},
   "outputs": [],
   "source": [
    "ts_df['Dirty_Price'] = (ts_df['BID'] + ts_df['ASK'])*.5 + ts_df['Accrued_Interest']\n",
    "ts_df['Clean_Price'] = (ts_df['BID'] + ts_df['ASK'])*.5\n",
    "ts_df['YTM'] *= 365.25\n",
    "ts_df['Coupon_Rate'] = [0.0875,0.02625]\n",
    "ts_df['Duration'] /= 365.25\n",
    "ts_df['Modified_Duration'] = ts_df['Duration']/(1+(ts_df['YTM']/2))\n",
    "ts_df['Dollar_Duration'] = ts_df['Modified_Duration']*ts_df['Dirty_Price']"
   ]
  },
  {
   "cell_type": "code",
   "execution_count": 159,
   "id": "c5d92c97",
   "metadata": {},
   "outputs": [],
   "source": [
    "spread_df = ts_data[['KYTREASNO','CALDT','TDYLD']].set_index(\"CALDT\")\n",
    "spread_df['TDYLD'] *= 365.25\n",
    "spread_df = spread_df.pivot_table(index = 'CALDT', columns='KYTREASNO',values='TDYLD')\n",
    "spread_df.dropna(inplace=True)"
   ]
  },
  {
   "cell_type": "code",
   "execution_count": 164,
   "id": "8584a18f",
   "metadata": {},
   "outputs": [],
   "source": [
    "spread_df.columns = ['204074','206169']"
   ]
  },
  {
   "cell_type": "code",
   "execution_count": 165,
   "id": "8539c72d",
   "metadata": {},
   "outputs": [],
   "source": [
    "spread_df['spread'] = spread_df['204074']-spread_df['206169']"
   ]
  },
  {
   "cell_type": "code",
   "execution_count": 166,
   "id": "ced6b832",
   "metadata": {},
   "outputs": [
    {
     "data": {
      "text/html": [
       "<div>\n",
       "<style scoped>\n",
       "    .dataframe tbody tr th:only-of-type {\n",
       "        vertical-align: middle;\n",
       "    }\n",
       "\n",
       "    .dataframe tbody tr th {\n",
       "        vertical-align: top;\n",
       "    }\n",
       "\n",
       "    .dataframe thead th {\n",
       "        text-align: right;\n",
       "    }\n",
       "</style>\n",
       "<table border=\"1\" class=\"dataframe\">\n",
       "  <thead>\n",
       "    <tr style=\"text-align: right;\">\n",
       "      <th></th>\n",
       "      <th>204074</th>\n",
       "      <th>206169</th>\n",
       "      <th>spread</th>\n",
       "    </tr>\n",
       "    <tr>\n",
       "      <th>CALDT</th>\n",
       "      <th></th>\n",
       "      <th></th>\n",
       "      <th></th>\n",
       "    </tr>\n",
       "  </thead>\n",
       "  <tbody>\n",
       "    <tr>\n",
       "      <th>2010-08-12</th>\n",
       "      <td>0.026840</td>\n",
       "      <td>0.027246</td>\n",
       "      <td>-0.000407</td>\n",
       "    </tr>\n",
       "    <tr>\n",
       "      <th>2010-08-13</th>\n",
       "      <td>0.026157</td>\n",
       "      <td>0.026553</td>\n",
       "      <td>-0.000396</td>\n",
       "    </tr>\n",
       "    <tr>\n",
       "      <th>2010-08-16</th>\n",
       "      <td>0.025087</td>\n",
       "      <td>0.025486</td>\n",
       "      <td>-0.000398</td>\n",
       "    </tr>\n",
       "    <tr>\n",
       "      <th>2010-08-17</th>\n",
       "      <td>0.025802</td>\n",
       "      <td>0.026181</td>\n",
       "      <td>-0.000378</td>\n",
       "    </tr>\n",
       "    <tr>\n",
       "      <th>2010-08-18</th>\n",
       "      <td>0.025845</td>\n",
       "      <td>0.026163</td>\n",
       "      <td>-0.000318</td>\n",
       "    </tr>\n",
       "    <tr>\n",
       "      <th>...</th>\n",
       "      <td>...</td>\n",
       "      <td>...</td>\n",
       "      <td>...</td>\n",
       "    </tr>\n",
       "    <tr>\n",
       "      <th>2020-08-10</th>\n",
       "      <td>0.015774</td>\n",
       "      <td>0.000650</td>\n",
       "      <td>0.015124</td>\n",
       "    </tr>\n",
       "    <tr>\n",
       "      <th>2020-08-11</th>\n",
       "      <td>0.019192</td>\n",
       "      <td>0.001354</td>\n",
       "      <td>0.017838</td>\n",
       "    </tr>\n",
       "    <tr>\n",
       "      <th>2020-08-12</th>\n",
       "      <td>0.024888</td>\n",
       "      <td>0.007222</td>\n",
       "      <td>0.017666</td>\n",
       "    </tr>\n",
       "    <tr>\n",
       "      <th>2020-08-13</th>\n",
       "      <td>0.036280</td>\n",
       "      <td>0.018959</td>\n",
       "      <td>0.017322</td>\n",
       "    </tr>\n",
       "    <tr>\n",
       "      <th>2020-08-14</th>\n",
       "      <td>0.084130</td>\n",
       "      <td>0.026000</td>\n",
       "      <td>0.058130</td>\n",
       "    </tr>\n",
       "  </tbody>\n",
       "</table>\n",
       "<p>2504 rows × 3 columns</p>\n",
       "</div>"
      ],
      "text/plain": [
       "              204074    206169    spread\n",
       "CALDT                                   \n",
       "2010-08-12  0.026840  0.027246 -0.000407\n",
       "2010-08-13  0.026157  0.026553 -0.000396\n",
       "2010-08-16  0.025087  0.025486 -0.000398\n",
       "2010-08-17  0.025802  0.026181 -0.000378\n",
       "2010-08-18  0.025845  0.026163 -0.000318\n",
       "...              ...       ...       ...\n",
       "2020-08-10  0.015774  0.000650  0.015124\n",
       "2020-08-11  0.019192  0.001354  0.017838\n",
       "2020-08-12  0.024888  0.007222  0.017666\n",
       "2020-08-13  0.036280  0.018959  0.017322\n",
       "2020-08-14  0.084130  0.026000  0.058130\n",
       "\n",
       "[2504 rows x 3 columns]"
      ]
     },
     "execution_count": 166,
     "metadata": {},
     "output_type": "execute_result"
    }
   ],
   "source": []
  },
  {
   "cell_type": "code",
   "execution_count": 115,
   "id": "edd7ce2b",
   "metadata": {},
   "outputs": [
    {
     "data": {
      "text/plain": [
       "Index(['KYTREASNO', 'KYCRSPID', 'CALDT', 'TDBID', 'TDASK', 'TDNOMPRC',\n",
       "       'TDNOMPRC_FLG', 'TDSOURCR', 'TDACCINT', 'TDRETNUA', 'TDYLD', 'TDDURATN',\n",
       "       'TDPUBOUT', 'TDTOTOUT', 'TDPDINT', 'TDIDXRATIO', 'TDIDXRATIO_FLG'],\n",
       "      dtype='object')"
      ]
     },
     "execution_count": 115,
     "metadata": {},
     "output_type": "execute_result"
    }
   ],
   "source": [
    "ts_data.columns"
   ]
  },
  {
   "cell_type": "markdown",
   "id": "b53d6d41",
   "metadata": {},
   "source": [
    "## 5.1 (10pts)\n",
    "\n",
    "Display a table showing the two securities as of `2019-08-29`:\n",
    "* issue date\n",
    "* maturity date\n",
    "* coupon rate\n",
    "* clean price (taken as average of bid and ask)\n",
    "* dirty price\n",
    "* duration (Macauley)\n",
    "* modified duration\n",
    "* ytm"
   ]
  },
  {
   "cell_type": "code",
   "execution_count": 151,
   "id": "cf0ae034",
   "metadata": {},
   "outputs": [
    {
     "data": {
      "text/html": [
       "<div>\n",
       "<style scoped>\n",
       "    .dataframe tbody tr th:only-of-type {\n",
       "        vertical-align: middle;\n",
       "    }\n",
       "\n",
       "    .dataframe tbody tr th {\n",
       "        vertical-align: top;\n",
       "    }\n",
       "\n",
       "    .dataframe thead th {\n",
       "        text-align: right;\n",
       "    }\n",
       "</style>\n",
       "<table border=\"1\" class=\"dataframe\">\n",
       "  <thead>\n",
       "    <tr style=\"text-align: right;\">\n",
       "      <th>KYTREASNO</th>\n",
       "      <th>204074</th>\n",
       "      <th>206169</th>\n",
       "    </tr>\n",
       "  </thead>\n",
       "  <tbody>\n",
       "    <tr>\n",
       "      <th>CALDT</th>\n",
       "      <td>2019-08-29 00:00:00</td>\n",
       "      <td>2019-08-29 00:00:00</td>\n",
       "    </tr>\n",
       "    <tr>\n",
       "      <th>BID</th>\n",
       "      <td>106.71875</td>\n",
       "      <td>100.78125</td>\n",
       "    </tr>\n",
       "    <tr>\n",
       "      <th>ASK</th>\n",
       "      <td>106.742188</td>\n",
       "      <td>100.804688</td>\n",
       "    </tr>\n",
       "    <tr>\n",
       "      <th>Nominal_Price</th>\n",
       "      <td>106.730469</td>\n",
       "      <td>100.792969</td>\n",
       "    </tr>\n",
       "    <tr>\n",
       "      <th>Accrued_Interest</th>\n",
       "      <td>0.33288</td>\n",
       "      <td>0.099864</td>\n",
       "    </tr>\n",
       "    <tr>\n",
       "      <th>YTM</th>\n",
       "      <td>0.016565</td>\n",
       "      <td>0.017782</td>\n",
       "    </tr>\n",
       "    <tr>\n",
       "      <th>Duration</th>\n",
       "      <td>0.943518</td>\n",
       "      <td>0.957295</td>\n",
       "    </tr>\n",
       "    <tr>\n",
       "      <th>Outstanding</th>\n",
       "      <td>5118.0</td>\n",
       "      <td>34231.0</td>\n",
       "    </tr>\n",
       "    <tr>\n",
       "      <th>Issue_Date</th>\n",
       "      <td>1990-08-15 00:00:00</td>\n",
       "      <td>2010-08-15 00:00:00</td>\n",
       "    </tr>\n",
       "    <tr>\n",
       "      <th>Maturity_Date</th>\n",
       "      <td>2020-08-15 00:00:00</td>\n",
       "      <td>2020-08-15 00:00:00</td>\n",
       "    </tr>\n",
       "    <tr>\n",
       "      <th>Dirty_Price</th>\n",
       "      <td>107.063349</td>\n",
       "      <td>100.892833</td>\n",
       "    </tr>\n",
       "    <tr>\n",
       "      <th>Clean_Price</th>\n",
       "      <td>106.730469</td>\n",
       "      <td>100.792969</td>\n",
       "    </tr>\n",
       "    <tr>\n",
       "      <th>Coupon_Rate</th>\n",
       "      <td>0.0875</td>\n",
       "      <td>0.02625</td>\n",
       "    </tr>\n",
       "    <tr>\n",
       "      <th>Modified_Duration</th>\n",
       "      <td>0.935767</td>\n",
       "      <td>0.948859</td>\n",
       "    </tr>\n",
       "    <tr>\n",
       "      <th>Dollar_Duration</th>\n",
       "      <td>100.186385</td>\n",
       "      <td>95.733037</td>\n",
       "    </tr>\n",
       "  </tbody>\n",
       "</table>\n",
       "</div>"
      ],
      "text/plain": [
       "KYTREASNO                       204074               206169\n",
       "CALDT              2019-08-29 00:00:00  2019-08-29 00:00:00\n",
       "BID                          106.71875            100.78125\n",
       "ASK                         106.742188           100.804688\n",
       "Nominal_Price               106.730469           100.792969\n",
       "Accrued_Interest               0.33288             0.099864\n",
       "YTM                           0.016565             0.017782\n",
       "Duration                      0.943518             0.957295\n",
       "Outstanding                     5118.0              34231.0\n",
       "Issue_Date         1990-08-15 00:00:00  2010-08-15 00:00:00\n",
       "Maturity_Date      2020-08-15 00:00:00  2020-08-15 00:00:00\n",
       "Dirty_Price                 107.063349           100.892833\n",
       "Clean_Price                 106.730469           100.792969\n",
       "Coupon_Rate                     0.0875              0.02625\n",
       "Modified_Duration             0.935767             0.948859\n",
       "Dollar_Duration             100.186385            95.733037"
      ]
     },
     "execution_count": 151,
     "metadata": {},
     "output_type": "execute_result"
    }
   ],
   "source": [
    "security_metrics = ts_df.T\n",
    "security_metrics"
   ]
  },
  {
   "cell_type": "markdown",
   "id": "f5e0d404",
   "metadata": {},
   "source": [
    "## 5.2 (5pts)\n",
    "\n",
    "On this date, `2019-08-29`, the YTM spread is at a 5-year low.\n",
    "\n",
    "Calculate the YTM spread (bond YTM minus note YTM).\n",
    "* Report this number.\n",
    "\n",
    "Explain conceptually what trade might make sense if we believe this spread will converge back to zero.\n",
    "* Which security will you go long and which will you go short?"
   ]
  },
  {
   "cell_type": "code",
   "execution_count": 169,
   "id": "41d56266",
   "metadata": {},
   "outputs": [
    {
     "data": {
      "text/plain": [
       "-0.00122"
      ]
     },
     "execution_count": 169,
     "metadata": {},
     "output_type": "execute_result"
    }
   ],
   "source": [
    "np.round(spread_df.loc['2019-08-29','spread'],5)"
   ]
  },
  {
   "attachments": {},
   "cell_type": "markdown",
   "id": "0c9d3b4f",
   "metadata": {},
   "source": [
    "- In order to profit off the spread, if we expect the spread to converge back to zero, then the yield on the bond must rise and the yield on the note must fall. Thus we take a long position in the note and a short position in the note."
   ]
  },
  {
   "cell_type": "code",
   "execution_count": 171,
   "id": "974cebda",
   "metadata": {},
   "outputs": [
    {
     "data": {
      "text/html": [
       "<div>\n",
       "<style scoped>\n",
       "    .dataframe tbody tr th:only-of-type {\n",
       "        vertical-align: middle;\n",
       "    }\n",
       "\n",
       "    .dataframe tbody tr th {\n",
       "        vertical-align: top;\n",
       "    }\n",
       "\n",
       "    .dataframe thead th {\n",
       "        text-align: right;\n",
       "    }\n",
       "</style>\n",
       "<table border=\"1\" class=\"dataframe\">\n",
       "  <thead>\n",
       "    <tr style=\"text-align: right;\">\n",
       "      <th></th>\n",
       "      <th>204074</th>\n",
       "      <th>206169</th>\n",
       "      <th>spread</th>\n",
       "    </tr>\n",
       "  </thead>\n",
       "  <tbody>\n",
       "    <tr>\n",
       "      <th>count</th>\n",
       "      <td>2504.000000</td>\n",
       "      <td>2504.000000</td>\n",
       "      <td>2504.000000</td>\n",
       "    </tr>\n",
       "    <tr>\n",
       "      <th>mean</th>\n",
       "      <td>0.017813</td>\n",
       "      <td>0.018160</td>\n",
       "      <td>-0.000347</td>\n",
       "    </tr>\n",
       "    <tr>\n",
       "      <th>std</th>\n",
       "      <td>0.006404</td>\n",
       "      <td>0.006577</td>\n",
       "      <td>0.001697</td>\n",
       "    </tr>\n",
       "    <tr>\n",
       "      <th>min</th>\n",
       "      <td>0.000110</td>\n",
       "      <td>-0.002167</td>\n",
       "      <td>-0.002259</td>\n",
       "    </tr>\n",
       "    <tr>\n",
       "      <th>25%</th>\n",
       "      <td>0.014069</td>\n",
       "      <td>0.014529</td>\n",
       "      <td>-0.000868</td>\n",
       "    </tr>\n",
       "    <tr>\n",
       "      <th>50%</th>\n",
       "      <td>0.016881</td>\n",
       "      <td>0.017237</td>\n",
       "      <td>-0.000533</td>\n",
       "    </tr>\n",
       "    <tr>\n",
       "      <th>75%</th>\n",
       "      <td>0.020828</td>\n",
       "      <td>0.021534</td>\n",
       "      <td>-0.000111</td>\n",
       "    </tr>\n",
       "    <tr>\n",
       "      <th>max</th>\n",
       "      <td>0.084130</td>\n",
       "      <td>0.036665</td>\n",
       "      <td>0.058130</td>\n",
       "    </tr>\n",
       "  </tbody>\n",
       "</table>\n",
       "</div>"
      ],
      "text/plain": [
       "            204074       206169       spread\n",
       "count  2504.000000  2504.000000  2504.000000\n",
       "mean      0.017813     0.018160    -0.000347\n",
       "std       0.006404     0.006577     0.001697\n",
       "min       0.000110    -0.002167    -0.002259\n",
       "25%       0.014069     0.014529    -0.000868\n",
       "50%       0.016881     0.017237    -0.000533\n",
       "75%       0.020828     0.021534    -0.000111\n",
       "max       0.084130     0.036665     0.058130"
      ]
     },
     "execution_count": 171,
     "metadata": {},
     "output_type": "execute_result"
    }
   ],
   "source": [
    "spread_df.describe()"
   ]
  },
  {
   "cell_type": "code",
   "execution_count": 170,
   "id": "0ed882b9",
   "metadata": {},
   "outputs": [
    {
     "data": {
      "text/plain": [
       "<AxesSubplot:xlabel='CALDT'>"
      ]
     },
     "execution_count": 170,
     "metadata": {},
     "output_type": "execute_result"
    },
    {
     "data": {
      "image/png": "[encoded data removed]",
      "text/plain": [
       "<Figure size 800x550 with 1 Axes>"
      ]
     },
     "metadata": {},
     "output_type": "display_data"
    }
   ],
   "source": [
    "spread_df['spread'].plot()"
   ]
  },
  {
   "cell_type": "markdown",
   "id": "3b924a83",
   "metadata": {},
   "source": [
    "## 5.3 (5pts)\n",
    "Describe conceptually the risk in this trade.\n",
    "* What risks are present in this trade? \n",
    "* Is it an arbitrage? \n",
    "\n",
    "Answer both over the next month and over the next year, until maturity."
   ]
  },
  {
   "attachments": {},
   "cell_type": "markdown",
   "id": "8cdb1c79",
   "metadata": {},
   "source": [
    "The risks of the trade is that the spread diverges going negative. In this case both our long and short positions would be at a loss."
   ]
  },
  {
   "cell_type": "markdown",
   "id": "0f0da093",
   "metadata": {},
   "source": [
    "## 5.4 (10pts)\n",
    "\n",
    "Suppose you use \\\\$1 million of equity capital on the long position, leveraged 50x to buy \\\\$50 million of the long position. Assume any short position will also be levered 50x. \n",
    "\n",
    "*You do not need to worry about the details of this financing. One could view this as a 2\\% capital requirement on both the long and short positions, possibly due to haircuts and brokerage requirements. There is no difference between financing rates on the long and short positions, (so no need to consider repo rate vs brokerage account interest rate.)*\n",
    "\n",
    "**Calculate...**\n",
    "* the number of long contracts \n",
    "* the number of short contracts such that the trade is initialized with zero duration\n",
    "* the dollar value of assets and of equity in each side of the trade.\n",
    "\n",
    "In calculating the number of contracts, assume face value of \\\\$100 each."
   ]
  },
  {
   "cell_type": "code",
   "execution_count": 173,
   "id": "8bbe5968",
   "metadata": {},
   "outputs": [
    {
     "data": {
      "text/html": [
       "<div>\n",
       "<style scoped>\n",
       "    .dataframe tbody tr th:only-of-type {\n",
       "        vertical-align: middle;\n",
       "    }\n",
       "\n",
       "    .dataframe tbody tr th {\n",
       "        vertical-align: top;\n",
       "    }\n",
       "\n",
       "    .dataframe thead th {\n",
       "        text-align: right;\n",
       "    }\n",
       "</style>\n",
       "<table border=\"1\" class=\"dataframe\">\n",
       "  <thead>\n",
       "    <tr style=\"text-align: right;\">\n",
       "      <th>KYTREASNO</th>\n",
       "      <th>204074</th>\n",
       "      <th>206169</th>\n",
       "    </tr>\n",
       "  </thead>\n",
       "  <tbody>\n",
       "    <tr>\n",
       "      <th>CALDT</th>\n",
       "      <td>2019-08-29 00:00:00</td>\n",
       "      <td>2019-08-29 00:00:00</td>\n",
       "    </tr>\n",
       "    <tr>\n",
       "      <th>BID</th>\n",
       "      <td>106.71875</td>\n",
       "      <td>100.78125</td>\n",
       "    </tr>\n",
       "    <tr>\n",
       "      <th>ASK</th>\n",
       "      <td>106.742188</td>\n",
       "      <td>100.804688</td>\n",
       "    </tr>\n",
       "    <tr>\n",
       "      <th>Nominal_Price</th>\n",
       "      <td>106.730469</td>\n",
       "      <td>100.792969</td>\n",
       "    </tr>\n",
       "    <tr>\n",
       "      <th>Accrued_Interest</th>\n",
       "      <td>0.33288</td>\n",
       "      <td>0.099864</td>\n",
       "    </tr>\n",
       "    <tr>\n",
       "      <th>YTM</th>\n",
       "      <td>0.016565</td>\n",
       "      <td>0.017782</td>\n",
       "    </tr>\n",
       "    <tr>\n",
       "      <th>Duration</th>\n",
       "      <td>0.943518</td>\n",
       "      <td>0.957295</td>\n",
       "    </tr>\n",
       "    <tr>\n",
       "      <th>Outstanding</th>\n",
       "      <td>5118.0</td>\n",
       "      <td>34231.0</td>\n",
       "    </tr>\n",
       "    <tr>\n",
       "      <th>Issue_Date</th>\n",
       "      <td>1990-08-15 00:00:00</td>\n",
       "      <td>2010-08-15 00:00:00</td>\n",
       "    </tr>\n",
       "    <tr>\n",
       "      <th>Maturity_Date</th>\n",
       "      <td>2020-08-15 00:00:00</td>\n",
       "      <td>2020-08-15 00:00:00</td>\n",
       "    </tr>\n",
       "    <tr>\n",
       "      <th>Dirty_Price</th>\n",
       "      <td>107.063349</td>\n",
       "      <td>100.892833</td>\n",
       "    </tr>\n",
       "    <tr>\n",
       "      <th>Clean_Price</th>\n",
       "      <td>106.730469</td>\n",
       "      <td>100.792969</td>\n",
       "    </tr>\n",
       "    <tr>\n",
       "      <th>Coupon_Rate</th>\n",
       "      <td>0.0875</td>\n",
       "      <td>0.02625</td>\n",
       "    </tr>\n",
       "    <tr>\n",
       "      <th>Modified_Duration</th>\n",
       "      <td>0.935767</td>\n",
       "      <td>0.948859</td>\n",
       "    </tr>\n",
       "    <tr>\n",
       "      <th>Dollar_Duration</th>\n",
       "      <td>100.186385</td>\n",
       "      <td>95.733037</td>\n",
       "    </tr>\n",
       "  </tbody>\n",
       "</table>\n",
       "</div>"
      ],
      "text/plain": [
       "KYTREASNO                       204074               206169\n",
       "CALDT              2019-08-29 00:00:00  2019-08-29 00:00:00\n",
       "BID                          106.71875            100.78125\n",
       "ASK                         106.742188           100.804688\n",
       "Nominal_Price               106.730469           100.792969\n",
       "Accrued_Interest               0.33288             0.099864\n",
       "YTM                           0.016565             0.017782\n",
       "Duration                      0.943518             0.957295\n",
       "Outstanding                     5118.0              34231.0\n",
       "Issue_Date         1990-08-15 00:00:00  2010-08-15 00:00:00\n",
       "Maturity_Date      2020-08-15 00:00:00  2020-08-15 00:00:00\n",
       "Dirty_Price                 107.063349           100.892833\n",
       "Clean_Price                 106.730469           100.792969\n",
       "Coupon_Rate                     0.0875              0.02625\n",
       "Modified_Duration             0.935767             0.948859\n",
       "Dollar_Duration             100.186385            95.733037"
      ]
     },
     "execution_count": 173,
     "metadata": {},
     "output_type": "execute_result"
    }
   ],
   "source": [
    "security_metrics"
   ]
  },
  {
   "cell_type": "code",
   "execution_count": 184,
   "id": "329651e1",
   "metadata": {},
   "outputs": [],
   "source": [
    "trade_pair = pd.DataFrame(data = None,columns=['204074','206169'])\n",
    "trade_pair.loc['YTM'] = [0.016565,0.017782\t]\n",
    "trade_pair.loc['Dirty_Price'] = security_metrics.loc['Dirty_Price'].values\n",
    "trade_pair.loc['Dollar_Duration'] = security_metrics.loc['Dollar_Duration'].values"
   ]
  },
  {
   "cell_type": "code",
   "execution_count": 185,
   "id": "e25829dc",
   "metadata": {},
   "outputs": [
    {
     "data": {
      "text/html": [
       "<div>\n",
       "<style scoped>\n",
       "    .dataframe tbody tr th:only-of-type {\n",
       "        vertical-align: middle;\n",
       "    }\n",
       "\n",
       "    .dataframe tbody tr th {\n",
       "        vertical-align: top;\n",
       "    }\n",
       "\n",
       "    .dataframe thead th {\n",
       "        text-align: right;\n",
       "    }\n",
       "</style>\n",
       "<table border=\"1\" class=\"dataframe\">\n",
       "  <thead>\n",
       "    <tr style=\"text-align: right;\">\n",
       "      <th></th>\n",
       "      <th>204074</th>\n",
       "      <th>206169</th>\n",
       "    </tr>\n",
       "  </thead>\n",
       "  <tbody>\n",
       "    <tr>\n",
       "      <th>YTM</th>\n",
       "      <td>0.016565</td>\n",
       "      <td>0.017782</td>\n",
       "    </tr>\n",
       "    <tr>\n",
       "      <th>Dirty_Price</th>\n",
       "      <td>107.063349</td>\n",
       "      <td>100.892833</td>\n",
       "    </tr>\n",
       "    <tr>\n",
       "      <th>Dollar_Duration</th>\n",
       "      <td>100.186385</td>\n",
       "      <td>95.733037</td>\n",
       "    </tr>\n",
       "  </tbody>\n",
       "</table>\n",
       "</div>"
      ],
      "text/plain": [
       "                     204074      206169\n",
       "YTM                0.016565    0.017782\n",
       "Dirty_Price      107.063349  100.892833\n",
       "Dollar_Duration  100.186385   95.733037"
      ]
     },
     "execution_count": 185,
     "metadata": {},
     "output_type": "execute_result"
    }
   ],
   "source": [
    "trade_pair"
   ]
  },
  {
   "cell_type": "code",
   "execution_count": 187,
   "id": "06552191",
   "metadata": {},
   "outputs": [
    {
     "data": {
      "text/html": [
       "<div>\n",
       "<style scoped>\n",
       "    .dataframe tbody tr th:only-of-type {\n",
       "        vertical-align: middle;\n",
       "    }\n",
       "\n",
       "    .dataframe tbody tr th {\n",
       "        vertical-align: top;\n",
       "    }\n",
       "\n",
       "    .dataframe thead th {\n",
       "        text-align: right;\n",
       "    }\n",
       "</style>\n",
       "<table border=\"1\" class=\"dataframe\">\n",
       "  <thead>\n",
       "    <tr style=\"text-align: right;\">\n",
       "      <th></th>\n",
       "      <th>haircut</th>\n",
       "      <th>repo</th>\n",
       "    </tr>\n",
       "  </thead>\n",
       "  <tbody>\n",
       "    <tr>\n",
       "      <th>long</th>\n",
       "      <td>0.02</td>\n",
       "      <td>0.0015</td>\n",
       "    </tr>\n",
       "    <tr>\n",
       "      <th>short</th>\n",
       "      <td>0.02</td>\n",
       "      <td>0.0010</td>\n",
       "    </tr>\n",
       "  </tbody>\n",
       "</table>\n",
       "</div>"
      ],
      "text/plain": [
       "       haircut    repo\n",
       "long      0.02  0.0015\n",
       "short     0.02  0.0010"
      ]
     },
     "execution_count": 187,
     "metadata": {},
     "output_type": "execute_result"
    }
   ],
   "source": [
    "financing = pd.DataFrame(dtype='float64',index=['long','short'])\n",
    "financing['haircut'] = [.02,.02]\n",
    "financing['repo'] = [.0015,.0010]\n",
    "financing"
   ]
  },
  {
   "cell_type": "code",
   "execution_count": 189,
   "id": "279cdbae",
   "metadata": {},
   "outputs": [
    {
     "data": {
      "text/plain": [
       "'206169'"
      ]
     },
     "execution_count": 189,
     "metadata": {},
     "output_type": "execute_result"
    }
   ],
   "source": [
    "id_long = trade_pair.loc['YTM'].idxmin()\n",
    "id_short = trade_pair.loc['YTM'].idxmax()\n",
    "id_short"
   ]
  },
  {
   "cell_type": "code",
   "execution_count": 180,
   "id": "2faa8a64",
   "metadata": {},
   "outputs": [],
   "source": [
    "def hedge_ratio(dollar_duration_long, dollar_duration_short, size_long = None):\n",
    "    if size_long == None:\n",
    "        return -dollar_duration_long/dollar_duration_short\n",
    "    else:\n",
    "        return (-size_long*(dollar_duration_long))/dollar_duration_short"
   ]
  },
  {
   "cell_type": "code",
   "execution_count": 181,
   "id": "43bc3292",
   "metadata": {},
   "outputs": [],
   "source": [
    "LONG_EQUITY = 1e6\n",
    "def trade_balance_sheet(prices, durations, haircuts, long_equity, short_equity):\n",
    "    balance_sheet = pd.DataFrame(data = None,columns=['Equity','Asset_Value','Contracts','Dollar_Duration','Dirty_Price'], index = [long_equity,short_equity])\n",
    "    long_price = prices.loc[long_equity]\n",
    "    short_price = prices.loc[short_equity]\n",
    "    duration_long = durations.loc[long_equity]\n",
    "    duration_short = durations.loc[short_equity]\n",
    "    haircut_short = haircuts.loc['short']\n",
    "    haircut_long = haircuts.loc['long']\n",
    "    balance_sheet.loc[long_equity,'Dollar_Duration'] = duration_long\n",
    "    balance_sheet.loc[short_equity,'Dollar_Duration'] = duration_short\n",
    "    balance_sheet.loc[long_equity,'Equity'] = LONG_EQUITY\n",
    "    balance_sheet.loc[long_equity,'Asset_Value'] = 5e7\n",
    "    balance_sheet.loc[long_equity,'Contracts'] = balance_sheet.loc[long_equity,'Asset_Value']/long_price\n",
    "    balance_sheet.loc[short_equity,'Contracts'] = hedge_ratio(dollar_duration_long=duration_long,dollar_duration_short=duration_short,\\\n",
    "        size_long=balance_sheet.loc[long_equity,'Contracts'])\n",
    "    balance_sheet.loc[short_equity,'Asset_Value'] = balance_sheet.loc[short_equity,'Contracts']*short_price\n",
    "    balance_sheet.loc[short_equity,'Equity'] = balance_sheet.loc[short_equity,'Asset_Value']*haircut_short\n",
    "    balance_sheet.loc[short_equity,'Dirty_Price'] = short_price\n",
    "    balance_sheet.loc[long_equity,'Dirty_Price'] = long_price\n",
    "    \n",
    "    return balance_sheet"
   ]
  },
  {
   "cell_type": "code",
   "execution_count": 191,
   "id": "a1d81d57",
   "metadata": {},
   "outputs": [
    {
     "data": {
      "text/html": [
       "<div>\n",
       "<style scoped>\n",
       "    .dataframe tbody tr th:only-of-type {\n",
       "        vertical-align: middle;\n",
       "    }\n",
       "\n",
       "    .dataframe tbody tr th {\n",
       "        vertical-align: top;\n",
       "    }\n",
       "\n",
       "    .dataframe thead th {\n",
       "        text-align: right;\n",
       "    }\n",
       "</style>\n",
       "<table border=\"1\" class=\"dataframe\">\n",
       "  <thead>\n",
       "    <tr style=\"text-align: right;\">\n",
       "      <th></th>\n",
       "      <th>Equity</th>\n",
       "      <th>Asset_Value</th>\n",
       "      <th>Contracts</th>\n",
       "      <th>Dollar_Duration</th>\n",
       "      <th>Dirty_Price</th>\n",
       "    </tr>\n",
       "  </thead>\n",
       "  <tbody>\n",
       "    <tr>\n",
       "      <th>204074</th>\n",
       "      <td>1000000.0</td>\n",
       "      <td>50000000.0</td>\n",
       "      <td>467013.225167</td>\n",
       "      <td>100.186385</td>\n",
       "      <td>107.063349</td>\n",
       "    </tr>\n",
       "    <tr>\n",
       "      <th>206169</th>\n",
       "      <td>-986203.0914</td>\n",
       "      <td>-49310154.56998</td>\n",
       "      <td>-488737.932737</td>\n",
       "      <td>95.733037</td>\n",
       "      <td>100.892833</td>\n",
       "    </tr>\n",
       "  </tbody>\n",
       "</table>\n",
       "</div>"
      ],
      "text/plain": [
       "             Equity     Asset_Value      Contracts Dollar_Duration Dirty_Price\n",
       "204074    1000000.0      50000000.0  467013.225167      100.186385  107.063349\n",
       "206169 -986203.0914 -49310154.56998 -488737.932737       95.733037  100.892833"
      ]
     },
     "execution_count": 191,
     "metadata": {},
     "output_type": "execute_result"
    }
   ],
   "source": [
    "trade_balance_sheet(trade_pair.loc['Dirty_Price'], durations=trade_pair.loc['Dollar_Duration'], haircuts=financing['haircut'],long_equity=id_long,short_equity=id_short)"
   ]
  },
  {
   "cell_type": "markdown",
   "id": "d2d9745c",
   "metadata": {},
   "source": [
    "## 5.5 (10pts)\n",
    "\n",
    "Using the concept of modified duration, how much profit or loss (PnL) would you expect to make for every basis point of convergence in the spread? \n",
    "\n",
    "Specifically, assume the convergence is symmetric: the long position's ytm goes down 0.5bp and the short position's ytm goes up 0.5bp. \n",
    "\n",
    "**Using this approximation, specify the PnL of the long position, the short position, and the net total for a 1bp convergence.**"
   ]
  },
  {
   "cell_type": "markdown",
   "id": "4299a02a",
   "metadata": {},
   "source": [
    "## 5.6 (5pts)\n",
    "\n",
    "Calculate the profit (or loss) on the position as of `2019-10-01`.\n",
    "\n",
    "Show this separately for the long position, the short position, and the net.\n",
    "\n",
    "Note that no coupon is paid between the trade being set up and this date; thus, the PnL is simply a matter of the position's prices."
   ]
  },
  {
   "cell_type": "markdown",
   "id": "510b402b",
   "metadata": {},
   "source": [
    "## 5.7 (5pts)\n",
    "\n",
    "Does the actual PnL above make sense in light of the duration-based PnL-per-bp calculated above? Give two reasons these numbers may not be aligned."
   ]
  },
  {
   "cell_type": "markdown",
   "id": "4cd9823a",
   "metadata": {},
   "source": [
    "***"
   ]
  }
 ],
 "metadata": {
  "hide_input": false,
  "kernelspec": {
   "display_name": "base",
   "language": "python",
   "name": "python3"
  },
  "language_info": {
   "codemirror_mode": {
    "name": "ipython",
    "version": 3
   },
   "file_extension": ".py",
   "mimetype": "text/x-python",
   "name": "python",
   "nbconvert_exporter": "python",
   "pygments_lexer": "ipython3",
   "version": "3.9.13"
  },
  "vscode": {
   "interpreter": {
    "hash": "44a761cc06a695ddb39d99b7e807436f731f960c127538853a5b90f596df33e4"
   }
  }
 },
 "nbformat": 4,
 "nbformat_minor": 5
}
